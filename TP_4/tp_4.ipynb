{
 "cells": [
  {
   "cell_type": "markdown",
   "metadata": {
    "id": "TdpPHz2Lp6VD"
   },
   "source": [
    "# TP Coding autoencoders and variational autoencoders in Pytorch\n",
    "\n",
    "\n",
    "Author : Alasdair Newson\n",
    "\n",
    "alasdair.newson@telecom-paris.fr\n",
    "\n",
    "## Objective:\n",
    "\n",
    "The goal of this TP is to explore autoencoders and variational autoencoders applied to a simple dataset. In this first part, we will look at an autoencoder applied to MNIST. We recall that an autoencoder is a neural network with the following general architecture:\n",
    "\n",
    "\n",
    "![AUTOENCODER](https://perso.telecom-paristech.fr/anewson/doc/images/autoencoder_illustration_2.png)\n",
    "\n",
    "The tensor $z$ in the middle of the network is called a __latent code__, and it belongs to the latent space. It is this latent space which is interesting in autoencoders (for image synthesis, editing, etc).\n",
    "\n",
    "### Your task:\n",
    "You need to add the missing parts in the code (parts between # --- START CODE HERE and # --- END CODE HERE or # FILL IN CODE)\n",
    "\n",
    "\n",
    "First of all, let's load some packages"
   ]
  },
  {
   "cell_type": "code",
   "execution_count": 20,
   "metadata": {
    "id": "JqNeIJ8Op8Ao"
   },
   "outputs": [],
   "source": [
    "import torch\n",
    "import torch.nn as nn\n",
    "import torch.nn.functional as F\n",
    "import torch.optim as optim\n",
    "from torchvision import datasets, transforms\n",
    "from torch.autograd import Variable\n",
    "from torchvision.utils import save_image\n",
    "from pathlib import Path\n",
    "import pdb\n",
    "import numpy as np\n",
    "import matplotlib.pyplot as plt\n",
    "def display_images(imgs):\n",
    "  \n",
    "  r = 1\n",
    "  c = imgs.shape[0]\n",
    "  fig, axs = plt.subplots(r, c)\n",
    "  for j in range(c):\n",
    "    #black and white images\n",
    "    axs[j].imshow(pytorch_to_numpy(imgs[j, 0,:,:]), cmap='gray')\n",
    "    axs[j].axis('off')\n",
    "  plt.show()\n",
    "\n",
    "\n",
    "def pytorch_to_numpy(x):\n",
    "  return x.detach().numpy()\n",
    "\n",
    "ae_dim_1 = 512\n",
    "ae_dim_2 = 256\n",
    "z_dim = 10\n",
    "batch_size = 128"
   ]
  },
  {
   "cell_type": "markdown",
   "metadata": {
    "id": "Hyj5dj_eui9D"
   },
   "source": [
    "First, we load the mnist dataset."
   ]
  },
  {
   "cell_type": "code",
   "execution_count": 7,
   "metadata": {
    "id": "4YPLKlPrufSk"
   },
   "outputs": [
    {
     "data": {
      "text/plain": [
       "torch.Size([60000, 28, 28])"
      ]
     },
     "execution_count": 7,
     "metadata": {},
     "output_type": "execute_result"
    }
   ],
   "source": [
    "data_path = Path('./mnist_data')\n",
    "# MNIST Dataset\n",
    "mnist_trainset = datasets.MNIST(root=data_path, train=True, transform=transforms.ToTensor(), download=True)\n",
    "mnist_testset = datasets.MNIST(root=data_path, train=False, transform=transforms.ToTensor(), download=False)\n",
    "\n",
    "#create data loader with smaller dataset size\n",
    "max_mnist_size = 1000\n",
    "mnist_trainset_reduced = torch.utils.data.random_split(mnist_trainset, [max_mnist_size, len(mnist_trainset)-max_mnist_size])[0] \n",
    "mnist_train_loader = torch.utils.data.DataLoader(mnist_trainset_reduced, batch_size=batch_size, shuffle=True,drop_last=True)\n",
    "\n",
    "# download test dataset\n",
    "max_mnist_size = 512\n",
    "mnist_testset_reduced = torch.utils.data.random_split(mnist_testset, [max_mnist_size, len(mnist_testset)-max_mnist_size])[0] \n",
    "mnist_test_loader = torch.utils.data.DataLoader(mnist_testset_reduced, batch_size=batch_size, shuffle=True,drop_last=True)\n",
    "\n",
    "mnist_trainset_reduced.dataset.train_data.shape"
   ]
  },
  {
   "cell_type": "markdown",
   "metadata": {
    "id": "t-bkK4ktwfvC"
   },
   "source": [
    "# 1 Vanilla Autoencoder\n",
    "\n",
    "Now, we define the general parameters of the autoencoder"
   ]
  },
  {
   "cell_type": "code",
   "execution_count": 9,
   "metadata": {
    "id": "mD56EDzbvUxq"
   },
   "outputs": [],
   "source": [
    "# autoencoder parameters\n",
    "n_rows = mnist_trainset_reduced.dataset.train_data.shape[1]\n",
    "n_cols = mnist_trainset_reduced.dataset.train_data.shape[2]\n",
    "n_channels = 1\n",
    "n_pixels = n_rows*n_cols\n",
    "\n",
    "img_shape = (n_rows, n_cols, n_channels)\n",
    "n_epochs = 150"
   ]
  },
  {
   "cell_type": "markdown",
   "metadata": {
    "id": "6jLa2-jQwxSI"
   },
   "source": [
    "Now, define the autoencoder architecture. In the first part, we will use the following MLP architecture :\n",
    "\n",
    "Encoder :\n",
    "- Flatten input\n",
    "- Dense layer, output size h_dim_1 + ReLU\n",
    "- Dense layer, output size h_dim_2 + ReLU\n",
    "- Dense layer, output size z_dim (no non-linearity)\n",
    "\n",
    "Decoder :\n",
    "- Dense layer, output size h_dim_2 + ReLU\n",
    "- Dense layer, output size h_dim_1 + ReLU\n",
    "- Dense layer, output size x_dim + Sigmoid Activation\n",
    "- Reshape, to size $28\\times 28\\times 1$\n",
    "\n",
    "For the Reshape operation, use the ```A.view(dim_1,dim_2,...)``` function, where ```A``` is your tensor."
   ]
  },
  {
   "cell_type": "code",
   "execution_count": 58,
   "metadata": {
    "id": "tEuZfnUlXxMl"
   },
   "outputs": [],
   "source": [
    "class AE(torch.nn.Module ):\n",
    "  def __init__(self, x_dim: int, h_dim1: int, h_dim2: int, z_dim: int,n_rows: int,n_cols: int,n_channels: int):\n",
    "    \"\"\"_summary_\n",
    "\n",
    "    Args:\n",
    "        x_dim (int): 28²\n",
    "        h_dim1 (int): hidden dimension layer 1\n",
    "        h_dim2 (int): hidden dimension layer 2\n",
    "        z_dim (int): latent dimension\n",
    "        n_rows (int): height of the image\n",
    "        n_cols (int): width of the image\n",
    "        n_channels (int): number of channels\n",
    "    \"\"\"\n",
    "    super(AE, self).__init__()\n",
    "    assert n_cols*n_rows == x_dim, \"wrong dimension\"\n",
    "    self.n_rows = n_rows\n",
    "    self.n_cols = n_cols\n",
    "    self.n_channels = n_channels\n",
    "    self.n_pixels = (self.n_rows)*(self.n_cols)\n",
    "    self.z_dim = z_dim\n",
    "\n",
    "    # encoder part\n",
    "    self.fc1 =  torch.nn.Linear(x_dim,  h_dim1)\n",
    "    self.fc2 = torch.nn.Linear(h_dim1,  h_dim2)\n",
    "    self.fc3 = torch.nn.Linear(h_dim2,  z_dim)\n",
    "    self.non_lin = torch.nn.ReLU()\n",
    "    self.encoder = torch.nn.Sequential(\n",
    "      self.fc1, self.non_lin, self.fc2, self.non_lin, self.fc3\n",
    "    )\n",
    "    # decoder part\n",
    "    self.fc4 = torch.nn.Linear(z_dim,  h_dim2)\n",
    "    self.fc5 = torch.nn.Linear(h_dim2,  h_dim1)\n",
    "    self.fc6 = torch.nn.Linear(h_dim1,  x_dim)\n",
    "    self.sigmoid = torch.nn.Sigmoid()\n",
    "    self.decoder = torch.nn.Sequential(\n",
    "      self.fc4, self.non_lin, self.fc5, self.non_lin, self.fc6, self.sigmoid\n",
    "    )\n",
    "\n",
    "  def forward(self, x):\n",
    "    # N, (C=1), H, W -> N, C*H*W\n",
    "    z = self.encoder(x.view(-1, self.n_pixels))\n",
    "    y = self.decoder(z)\n",
    "    y = y.view(x.shape)\n",
    "    return y\n",
    "  def loss_function(self,x, y):\n",
    "    mse_loss = torch.nn.functional.mse_loss(x, y, reduction=\"mean\")\n",
    "    return torch.mean(mse_loss)"
   ]
  },
  {
   "cell_type": "code",
   "execution_count": 59,
   "metadata": {
    "id": "oV40vRMQRoG1"
   },
   "outputs": [],
   "source": [
    "# create model\n",
    "\n",
    "ae_model = AE(x_dim=n_pixels, h_dim1= ae_dim_1, h_dim2=ae_dim_2, z_dim=z_dim,n_rows=n_rows,n_cols=n_cols,n_channels=n_channels)\n",
    "ae_optimizer = optim.Adam(ae_model.parameters())"
   ]
  },
  {
   "cell_type": "code",
   "execution_count": 60,
   "metadata": {},
   "outputs": [],
   "source": [
    "# sanity check\n",
    "x_in = torch.rand(10, n_rows, n_cols, n_channels)\n",
    "x_out = ae_model(x_in)\n",
    "assert x_out.shape == x_in.shape, \"wrong shape\""
   ]
  },
  {
   "cell_type": "markdown",
   "metadata": {
    "id": "-659aM36xvXX"
   },
   "source": [
    "Now, define a generic function to train the model for one epoch"
   ]
  },
  {
   "cell_type": "code",
   "execution_count": 61,
   "metadata": {
    "id": "wfqX6Brlxjyi"
   },
   "outputs": [],
   "source": [
    "def train_ae(ae_model,data_train_loader,epoch):\n",
    "\ttrain_loss = 0\n",
    "\tfor batch_idx, (data, _) in enumerate(data_train_loader):\n",
    "\t\tae_optimizer.zero_grad()\n",
    "\t\t\n",
    "\t\ty = ae_model(data)\n",
    "\t\tloss_ae = ae_model.loss_function(y, data)\n",
    "\n",
    "\t\tloss_ae.backward()\n",
    "\t\ttrain_loss += loss_ae.item()\n",
    "\t\tae_optimizer.step()\n",
    "\t\t\n",
    "\t\tif batch_idx % 100 == 0:\n",
    "\t\t\tprint('Train Epoch: {} [{}/{} ({:.0f}%)]\\tLoss: {:.6f}'.format(\n",
    "\t\t\t\tepoch, batch_idx * len(data), len(data_train_loader.dataset),\n",
    "\t\t\t\t100. * batch_idx / len(data_train_loader), loss_ae.item() / len(data)))\n",
    "\tprint('====> Epoch: {} Average loss: {:.4f}'.format(epoch, train_loss / len(data_train_loader.dataset)))\n"
   ]
  },
  {
   "cell_type": "markdown",
   "metadata": {
    "id": "w3EbmswSzJdK"
   },
   "source": [
    "We define a function to carry out testing on the autoencoder model"
   ]
  },
  {
   "cell_type": "code",
   "execution_count": 62,
   "metadata": {
    "id": "11q_0PSibZk-"
   },
   "outputs": [
    {
     "name": "stdout",
     "output_type": "stream",
     "text": [
      "Train Epoch: 0 [0/1000 (0%)]\tLoss: 0.001810\n",
      "====> Epoch: 0 Average loss: 0.0014\n",
      "Train Epoch: 1 [0/1000 (0%)]\tLoss: 0.000762\n",
      "====> Epoch: 1 Average loss: 0.0006\n",
      "Train Epoch: 2 [0/1000 (0%)]\tLoss: 0.000621\n",
      "====> Epoch: 2 Average loss: 0.0006\n",
      "Train Epoch: 3 [0/1000 (0%)]\tLoss: 0.000588\n",
      "====> Epoch: 3 Average loss: 0.0005\n",
      "Train Epoch: 4 [0/1000 (0%)]\tLoss: 0.000638\n",
      "====> Epoch: 4 Average loss: 0.0005\n",
      "Train Epoch: 5 [0/1000 (0%)]\tLoss: 0.000572\n",
      "====> Epoch: 5 Average loss: 0.0005\n",
      "Train Epoch: 6 [0/1000 (0%)]\tLoss: 0.000615\n",
      "====> Epoch: 6 Average loss: 0.0005\n",
      "Train Epoch: 7 [0/1000 (0%)]\tLoss: 0.000556\n",
      "====> Epoch: 7 Average loss: 0.0005\n",
      "Train Epoch: 8 [0/1000 (0%)]\tLoss: 0.000530\n",
      "====> Epoch: 8 Average loss: 0.0005\n",
      "Train Epoch: 9 [0/1000 (0%)]\tLoss: 0.000504\n",
      "====> Epoch: 9 Average loss: 0.0004\n",
      "Train Epoch: 10 [0/1000 (0%)]\tLoss: 0.000525\n",
      "====> Epoch: 10 Average loss: 0.0004\n",
      "Train Epoch: 11 [0/1000 (0%)]\tLoss: 0.000458\n",
      "====> Epoch: 11 Average loss: 0.0004\n",
      "Train Epoch: 12 [0/1000 (0%)]\tLoss: 0.000442\n",
      "====> Epoch: 12 Average loss: 0.0004\n",
      "Train Epoch: 13 [0/1000 (0%)]\tLoss: 0.000437\n",
      "====> Epoch: 13 Average loss: 0.0004\n",
      "Train Epoch: 14 [0/1000 (0%)]\tLoss: 0.000414\n",
      "====> Epoch: 14 Average loss: 0.0004\n",
      "Train Epoch: 15 [0/1000 (0%)]\tLoss: 0.000389\n",
      "====> Epoch: 15 Average loss: 0.0004\n",
      "Train Epoch: 16 [0/1000 (0%)]\tLoss: 0.000395\n",
      "====> Epoch: 16 Average loss: 0.0003\n",
      "Train Epoch: 17 [0/1000 (0%)]\tLoss: 0.000356\n",
      "====> Epoch: 17 Average loss: 0.0003\n",
      "Train Epoch: 18 [0/1000 (0%)]\tLoss: 0.000376\n",
      "====> Epoch: 18 Average loss: 0.0003\n",
      "Train Epoch: 19 [0/1000 (0%)]\tLoss: 0.000353\n",
      "====> Epoch: 19 Average loss: 0.0003\n",
      "Train Epoch: 20 [0/1000 (0%)]\tLoss: 0.000339\n",
      "====> Epoch: 20 Average loss: 0.0003\n",
      "Train Epoch: 21 [0/1000 (0%)]\tLoss: 0.000321\n",
      "====> Epoch: 21 Average loss: 0.0003\n",
      "Train Epoch: 22 [0/1000 (0%)]\tLoss: 0.000315\n",
      "====> Epoch: 22 Average loss: 0.0003\n",
      "Train Epoch: 23 [0/1000 (0%)]\tLoss: 0.000306\n",
      "====> Epoch: 23 Average loss: 0.0003\n",
      "Train Epoch: 24 [0/1000 (0%)]\tLoss: 0.000299\n",
      "====> Epoch: 24 Average loss: 0.0003\n",
      "Train Epoch: 25 [0/1000 (0%)]\tLoss: 0.000281\n",
      "====> Epoch: 25 Average loss: 0.0003\n",
      "Train Epoch: 26 [0/1000 (0%)]\tLoss: 0.000262\n",
      "====> Epoch: 26 Average loss: 0.0002\n",
      "Train Epoch: 27 [0/1000 (0%)]\tLoss: 0.000283\n",
      "====> Epoch: 27 Average loss: 0.0002\n",
      "Train Epoch: 28 [0/1000 (0%)]\tLoss: 0.000245\n",
      "====> Epoch: 28 Average loss: 0.0002\n",
      "Train Epoch: 29 [0/1000 (0%)]\tLoss: 0.000235\n",
      "====> Epoch: 29 Average loss: 0.0002\n",
      "Train Epoch: 30 [0/1000 (0%)]\tLoss: 0.000253\n",
      "====> Epoch: 30 Average loss: 0.0002\n",
      "Train Epoch: 31 [0/1000 (0%)]\tLoss: 0.000243\n",
      "====> Epoch: 31 Average loss: 0.0002\n",
      "Train Epoch: 32 [0/1000 (0%)]\tLoss: 0.000244\n",
      "====> Epoch: 32 Average loss: 0.0002\n",
      "Train Epoch: 33 [0/1000 (0%)]\tLoss: 0.000224\n",
      "====> Epoch: 33 Average loss: 0.0002\n",
      "Train Epoch: 34 [0/1000 (0%)]\tLoss: 0.000223\n",
      "====> Epoch: 34 Average loss: 0.0002\n",
      "Train Epoch: 35 [0/1000 (0%)]\tLoss: 0.000221\n",
      "====> Epoch: 35 Average loss: 0.0002\n",
      "Train Epoch: 36 [0/1000 (0%)]\tLoss: 0.000196\n",
      "====> Epoch: 36 Average loss: 0.0002\n",
      "Train Epoch: 37 [0/1000 (0%)]\tLoss: 0.000207\n",
      "====> Epoch: 37 Average loss: 0.0002\n",
      "Train Epoch: 38 [0/1000 (0%)]\tLoss: 0.000215\n",
      "====> Epoch: 38 Average loss: 0.0002\n",
      "Train Epoch: 39 [0/1000 (0%)]\tLoss: 0.000207\n",
      "====> Epoch: 39 Average loss: 0.0002\n",
      "Train Epoch: 40 [0/1000 (0%)]\tLoss: 0.000210\n",
      "====> Epoch: 40 Average loss: 0.0002\n",
      "Train Epoch: 41 [0/1000 (0%)]\tLoss: 0.000191\n",
      "====> Epoch: 41 Average loss: 0.0002\n",
      "Train Epoch: 42 [0/1000 (0%)]\tLoss: 0.000190\n",
      "====> Epoch: 42 Average loss: 0.0002\n",
      "Train Epoch: 43 [0/1000 (0%)]\tLoss: 0.000184\n",
      "====> Epoch: 43 Average loss: 0.0002\n",
      "Train Epoch: 44 [0/1000 (0%)]\tLoss: 0.000192\n",
      "====> Epoch: 44 Average loss: 0.0002\n",
      "Train Epoch: 45 [0/1000 (0%)]\tLoss: 0.000184\n",
      "====> Epoch: 45 Average loss: 0.0002\n",
      "Train Epoch: 46 [0/1000 (0%)]\tLoss: 0.000177\n",
      "====> Epoch: 46 Average loss: 0.0002\n",
      "Train Epoch: 47 [0/1000 (0%)]\tLoss: 0.000174\n",
      "====> Epoch: 47 Average loss: 0.0002\n",
      "Train Epoch: 48 [0/1000 (0%)]\tLoss: 0.000181\n",
      "====> Epoch: 48 Average loss: 0.0002\n",
      "Train Epoch: 49 [0/1000 (0%)]\tLoss: 0.000171\n",
      "====> Epoch: 49 Average loss: 0.0002\n",
      "Train Epoch: 50 [0/1000 (0%)]\tLoss: 0.000187\n",
      "====> Epoch: 50 Average loss: 0.0002\n",
      "Train Epoch: 51 [0/1000 (0%)]\tLoss: 0.000168\n",
      "====> Epoch: 51 Average loss: 0.0002\n",
      "Train Epoch: 52 [0/1000 (0%)]\tLoss: 0.000168\n",
      "====> Epoch: 52 Average loss: 0.0002\n",
      "Train Epoch: 53 [0/1000 (0%)]\tLoss: 0.000165\n",
      "====> Epoch: 53 Average loss: 0.0002\n",
      "Train Epoch: 54 [0/1000 (0%)]\tLoss: 0.000161\n",
      "====> Epoch: 54 Average loss: 0.0001\n",
      "Train Epoch: 55 [0/1000 (0%)]\tLoss: 0.000161\n",
      "====> Epoch: 55 Average loss: 0.0001\n",
      "Train Epoch: 56 [0/1000 (0%)]\tLoss: 0.000166\n",
      "====> Epoch: 56 Average loss: 0.0001\n",
      "Train Epoch: 57 [0/1000 (0%)]\tLoss: 0.000158\n",
      "====> Epoch: 57 Average loss: 0.0001\n",
      "Train Epoch: 58 [0/1000 (0%)]\tLoss: 0.000133\n",
      "====> Epoch: 58 Average loss: 0.0001\n",
      "Train Epoch: 59 [0/1000 (0%)]\tLoss: 0.000152\n",
      "====> Epoch: 59 Average loss: 0.0001\n",
      "Train Epoch: 60 [0/1000 (0%)]\tLoss: 0.000144\n",
      "====> Epoch: 60 Average loss: 0.0001\n",
      "Train Epoch: 61 [0/1000 (0%)]\tLoss: 0.000144\n",
      "====> Epoch: 61 Average loss: 0.0001\n",
      "Train Epoch: 62 [0/1000 (0%)]\tLoss: 0.000147\n",
      "====> Epoch: 62 Average loss: 0.0001\n",
      "Train Epoch: 63 [0/1000 (0%)]\tLoss: 0.000133\n",
      "====> Epoch: 63 Average loss: 0.0001\n",
      "Train Epoch: 64 [0/1000 (0%)]\tLoss: 0.000141\n",
      "====> Epoch: 64 Average loss: 0.0001\n",
      "Train Epoch: 65 [0/1000 (0%)]\tLoss: 0.000144\n",
      "====> Epoch: 65 Average loss: 0.0001\n",
      "Train Epoch: 66 [0/1000 (0%)]\tLoss: 0.000135\n",
      "====> Epoch: 66 Average loss: 0.0001\n",
      "Train Epoch: 67 [0/1000 (0%)]\tLoss: 0.000129\n",
      "====> Epoch: 67 Average loss: 0.0001\n",
      "Train Epoch: 68 [0/1000 (0%)]\tLoss: 0.000137\n",
      "====> Epoch: 68 Average loss: 0.0001\n",
      "Train Epoch: 69 [0/1000 (0%)]\tLoss: 0.000133\n",
      "====> Epoch: 69 Average loss: 0.0001\n",
      "Train Epoch: 70 [0/1000 (0%)]\tLoss: 0.000139\n",
      "====> Epoch: 70 Average loss: 0.0001\n",
      "Train Epoch: 71 [0/1000 (0%)]\tLoss: 0.000128\n",
      "====> Epoch: 71 Average loss: 0.0001\n",
      "Train Epoch: 72 [0/1000 (0%)]\tLoss: 0.000129\n",
      "====> Epoch: 72 Average loss: 0.0001\n",
      "Train Epoch: 73 [0/1000 (0%)]\tLoss: 0.000128\n",
      "====> Epoch: 73 Average loss: 0.0001\n",
      "Train Epoch: 74 [0/1000 (0%)]\tLoss: 0.000122\n",
      "====> Epoch: 74 Average loss: 0.0001\n",
      "Train Epoch: 75 [0/1000 (0%)]\tLoss: 0.000121\n",
      "====> Epoch: 75 Average loss: 0.0001\n",
      "Train Epoch: 76 [0/1000 (0%)]\tLoss: 0.000121\n",
      "====> Epoch: 76 Average loss: 0.0001\n",
      "Train Epoch: 77 [0/1000 (0%)]\tLoss: 0.000131\n",
      "====> Epoch: 77 Average loss: 0.0001\n",
      "Train Epoch: 78 [0/1000 (0%)]\tLoss: 0.000114\n",
      "====> Epoch: 78 Average loss: 0.0001\n",
      "Train Epoch: 79 [0/1000 (0%)]\tLoss: 0.000120\n",
      "====> Epoch: 79 Average loss: 0.0001\n",
      "Train Epoch: 80 [0/1000 (0%)]\tLoss: 0.000113\n",
      "====> Epoch: 80 Average loss: 0.0001\n",
      "Train Epoch: 81 [0/1000 (0%)]\tLoss: 0.000121\n",
      "====> Epoch: 81 Average loss: 0.0001\n",
      "Train Epoch: 82 [0/1000 (0%)]\tLoss: 0.000111\n",
      "====> Epoch: 82 Average loss: 0.0001\n",
      "Train Epoch: 83 [0/1000 (0%)]\tLoss: 0.000111\n",
      "====> Epoch: 83 Average loss: 0.0001\n",
      "Train Epoch: 84 [0/1000 (0%)]\tLoss: 0.000111\n",
      "====> Epoch: 84 Average loss: 0.0001\n",
      "Train Epoch: 85 [0/1000 (0%)]\tLoss: 0.000106\n",
      "====> Epoch: 85 Average loss: 0.0001\n",
      "Train Epoch: 86 [0/1000 (0%)]\tLoss: 0.000113\n",
      "====> Epoch: 86 Average loss: 0.0001\n",
      "Train Epoch: 87 [0/1000 (0%)]\tLoss: 0.000105\n",
      "====> Epoch: 87 Average loss: 0.0001\n",
      "Train Epoch: 88 [0/1000 (0%)]\tLoss: 0.000116\n",
      "====> Epoch: 88 Average loss: 0.0001\n",
      "Train Epoch: 89 [0/1000 (0%)]\tLoss: 0.000108\n",
      "====> Epoch: 89 Average loss: 0.0001\n",
      "Train Epoch: 90 [0/1000 (0%)]\tLoss: 0.000109\n",
      "====> Epoch: 90 Average loss: 0.0001\n",
      "Train Epoch: 91 [0/1000 (0%)]\tLoss: 0.000104\n",
      "====> Epoch: 91 Average loss: 0.0001\n",
      "Train Epoch: 92 [0/1000 (0%)]\tLoss: 0.000109\n",
      "====> Epoch: 92 Average loss: 0.0001\n",
      "Train Epoch: 93 [0/1000 (0%)]\tLoss: 0.000102\n",
      "====> Epoch: 93 Average loss: 0.0001\n",
      "Train Epoch: 94 [0/1000 (0%)]\tLoss: 0.000097\n",
      "====> Epoch: 94 Average loss: 0.0001\n",
      "Train Epoch: 95 [0/1000 (0%)]\tLoss: 0.000101\n",
      "====> Epoch: 95 Average loss: 0.0001\n",
      "Train Epoch: 96 [0/1000 (0%)]\tLoss: 0.000103\n",
      "====> Epoch: 96 Average loss: 0.0001\n",
      "Train Epoch: 97 [0/1000 (0%)]\tLoss: 0.000093\n",
      "====> Epoch: 97 Average loss: 0.0001\n",
      "Train Epoch: 98 [0/1000 (0%)]\tLoss: 0.000091\n",
      "====> Epoch: 98 Average loss: 0.0001\n",
      "Train Epoch: 99 [0/1000 (0%)]\tLoss: 0.000096\n",
      "====> Epoch: 99 Average loss: 0.0001\n",
      "Train Epoch: 100 [0/1000 (0%)]\tLoss: 0.000094\n",
      "====> Epoch: 100 Average loss: 0.0001\n",
      "Train Epoch: 101 [0/1000 (0%)]\tLoss: 0.000089\n",
      "====> Epoch: 101 Average loss: 0.0001\n",
      "Train Epoch: 102 [0/1000 (0%)]\tLoss: 0.000091\n",
      "====> Epoch: 102 Average loss: 0.0001\n",
      "Train Epoch: 103 [0/1000 (0%)]\tLoss: 0.000098\n",
      "====> Epoch: 103 Average loss: 0.0001\n",
      "Train Epoch: 104 [0/1000 (0%)]\tLoss: 0.000094\n",
      "====> Epoch: 104 Average loss: 0.0001\n",
      "Train Epoch: 105 [0/1000 (0%)]\tLoss: 0.000085\n",
      "====> Epoch: 105 Average loss: 0.0001\n",
      "Train Epoch: 106 [0/1000 (0%)]\tLoss: 0.000095\n",
      "====> Epoch: 106 Average loss: 0.0001\n",
      "Train Epoch: 107 [0/1000 (0%)]\tLoss: 0.000088\n",
      "====> Epoch: 107 Average loss: 0.0001\n",
      "Train Epoch: 108 [0/1000 (0%)]\tLoss: 0.000095\n",
      "====> Epoch: 108 Average loss: 0.0001\n",
      "Train Epoch: 109 [0/1000 (0%)]\tLoss: 0.000096\n",
      "====> Epoch: 109 Average loss: 0.0001\n",
      "Train Epoch: 110 [0/1000 (0%)]\tLoss: 0.000086\n",
      "====> Epoch: 110 Average loss: 0.0001\n",
      "Train Epoch: 111 [0/1000 (0%)]\tLoss: 0.000093\n",
      "====> Epoch: 111 Average loss: 0.0001\n",
      "Train Epoch: 112 [0/1000 (0%)]\tLoss: 0.000092\n",
      "====> Epoch: 112 Average loss: 0.0001\n",
      "Train Epoch: 113 [0/1000 (0%)]\tLoss: 0.000089\n",
      "====> Epoch: 113 Average loss: 0.0001\n",
      "Train Epoch: 114 [0/1000 (0%)]\tLoss: 0.000092\n",
      "====> Epoch: 114 Average loss: 0.0001\n",
      "Train Epoch: 115 [0/1000 (0%)]\tLoss: 0.000092\n",
      "====> Epoch: 115 Average loss: 0.0001\n",
      "Train Epoch: 116 [0/1000 (0%)]\tLoss: 0.000087\n",
      "====> Epoch: 116 Average loss: 0.0001\n",
      "Train Epoch: 117 [0/1000 (0%)]\tLoss: 0.000076\n",
      "====> Epoch: 117 Average loss: 0.0001\n",
      "Train Epoch: 118 [0/1000 (0%)]\tLoss: 0.000080\n",
      "====> Epoch: 118 Average loss: 0.0001\n",
      "Train Epoch: 119 [0/1000 (0%)]\tLoss: 0.000082\n",
      "====> Epoch: 119 Average loss: 0.0001\n",
      "Train Epoch: 120 [0/1000 (0%)]\tLoss: 0.000084\n",
      "====> Epoch: 120 Average loss: 0.0001\n",
      "Train Epoch: 121 [0/1000 (0%)]\tLoss: 0.000079\n",
      "====> Epoch: 121 Average loss: 0.0001\n",
      "Train Epoch: 122 [0/1000 (0%)]\tLoss: 0.000076\n",
      "====> Epoch: 122 Average loss: 0.0001\n",
      "Train Epoch: 123 [0/1000 (0%)]\tLoss: 0.000081\n",
      "====> Epoch: 123 Average loss: 0.0001\n",
      "Train Epoch: 124 [0/1000 (0%)]\tLoss: 0.000081\n",
      "====> Epoch: 124 Average loss: 0.0001\n",
      "Train Epoch: 125 [0/1000 (0%)]\tLoss: 0.000075\n",
      "====> Epoch: 125 Average loss: 0.0001\n",
      "Train Epoch: 126 [0/1000 (0%)]\tLoss: 0.000077\n",
      "====> Epoch: 126 Average loss: 0.0001\n",
      "Train Epoch: 127 [0/1000 (0%)]\tLoss: 0.000076\n",
      "====> Epoch: 127 Average loss: 0.0001\n",
      "Train Epoch: 128 [0/1000 (0%)]\tLoss: 0.000076\n",
      "====> Epoch: 128 Average loss: 0.0001\n",
      "Train Epoch: 129 [0/1000 (0%)]\tLoss: 0.000074\n",
      "====> Epoch: 129 Average loss: 0.0001\n",
      "Train Epoch: 130 [0/1000 (0%)]\tLoss: 0.000083\n",
      "====> Epoch: 130 Average loss: 0.0001\n",
      "Train Epoch: 131 [0/1000 (0%)]\tLoss: 0.000075\n",
      "====> Epoch: 131 Average loss: 0.0001\n",
      "Train Epoch: 132 [0/1000 (0%)]\tLoss: 0.000067\n",
      "====> Epoch: 132 Average loss: 0.0001\n",
      "Train Epoch: 133 [0/1000 (0%)]\tLoss: 0.000069\n",
      "====> Epoch: 133 Average loss: 0.0001\n",
      "Train Epoch: 134 [0/1000 (0%)]\tLoss: 0.000077\n",
      "====> Epoch: 134 Average loss: 0.0001\n",
      "Train Epoch: 135 [0/1000 (0%)]\tLoss: 0.000071\n",
      "====> Epoch: 135 Average loss: 0.0001\n",
      "Train Epoch: 136 [0/1000 (0%)]\tLoss: 0.000073\n",
      "====> Epoch: 136 Average loss: 0.0001\n",
      "Train Epoch: 137 [0/1000 (0%)]\tLoss: 0.000073\n",
      "====> Epoch: 137 Average loss: 0.0001\n",
      "Train Epoch: 138 [0/1000 (0%)]\tLoss: 0.000073\n",
      "====> Epoch: 138 Average loss: 0.0001\n",
      "Train Epoch: 139 [0/1000 (0%)]\tLoss: 0.000071\n",
      "====> Epoch: 139 Average loss: 0.0001\n",
      "Train Epoch: 140 [0/1000 (0%)]\tLoss: 0.000075\n",
      "====> Epoch: 140 Average loss: 0.0001\n",
      "Train Epoch: 141 [0/1000 (0%)]\tLoss: 0.000070\n",
      "====> Epoch: 141 Average loss: 0.0001\n",
      "Train Epoch: 142 [0/1000 (0%)]\tLoss: 0.000066\n",
      "====> Epoch: 142 Average loss: 0.0001\n",
      "Train Epoch: 143 [0/1000 (0%)]\tLoss: 0.000069\n",
      "====> Epoch: 143 Average loss: 0.0001\n",
      "Train Epoch: 144 [0/1000 (0%)]\tLoss: 0.000068\n",
      "====> Epoch: 144 Average loss: 0.0001\n",
      "Train Epoch: 145 [0/1000 (0%)]\tLoss: 0.000072\n",
      "====> Epoch: 145 Average loss: 0.0001\n",
      "Train Epoch: 146 [0/1000 (0%)]\tLoss: 0.000068\n",
      "====> Epoch: 146 Average loss: 0.0001\n",
      "Train Epoch: 147 [0/1000 (0%)]\tLoss: 0.000071\n",
      "====> Epoch: 147 Average loss: 0.0001\n",
      "Train Epoch: 148 [0/1000 (0%)]\tLoss: 0.000064\n",
      "====> Epoch: 148 Average loss: 0.0001\n",
      "Train Epoch: 149 [0/1000 (0%)]\tLoss: 0.000068\n",
      "====> Epoch: 149 Average loss: 0.0001\n"
     ]
    }
   ],
   "source": [
    "for epoch in range(0, n_epochs):\n",
    "  train_ae(ae_model,mnist_train_loader,epoch)"
   ]
  },
  {
   "cell_type": "code",
   "execution_count": 63,
   "metadata": {},
   "outputs": [],
   "source": [
    "def display_ae_images(ae_model, test_imgs):\n",
    "  n_images = 5\n",
    "  idx = np.random.randint(0, test_imgs.shape[0], n_images)\n",
    "  test_imgs = test_imgs[idx,:,:,:]\n",
    "  print(test_imgs.shape)\n",
    "\n",
    "  #get output images\n",
    "  output_imgs = pytorch_to_numpy(ae_model.forward( test_imgs ))\n",
    "  print(output_imgs.shape)\n",
    "  \n",
    "  r = 2\n",
    "  c = n_images\n",
    "  fig, axs = plt.subplots(r, c)\n",
    "  for j in range(c):\n",
    "    #black and white images\n",
    "    axs[0,j].imshow(test_imgs[j, 0,:,:], cmap='gray')\n",
    "    axs[0,j].axis('off')\n",
    "    axs[1,j].imshow(output_imgs[j, 0,:,:], cmap='gray')\n",
    "    axs[1,j].axis('off')\n",
    "  plt.show()"
   ]
  },
  {
   "cell_type": "code",
   "execution_count": 64,
   "metadata": {
    "id": "9pbXch29d68D"
   },
   "outputs": [
    {
     "name": "stdout",
     "output_type": "stream",
     "text": [
      "torch.Size([5, 1, 28, 28])\n",
      "(5, 1, 28, 28)\n"
     ]
    },
    {
     "data": {
      "image/png": "[encoded data removed]",
      "text/plain": [
       "<Figure size 640x480 with 10 Axes>"
      ]
     },
     "metadata": {},
     "output_type": "display_data"
    }
   ],
   "source": [
    "test_imgs = next(iter(mnist_train_loader))[0]\n",
    "display_ae_images(ae_model, test_imgs)"
   ]
  },
  {
   "cell_type": "markdown",
   "metadata": {
    "id": "assPaJqB5sa-"
   },
   "source": [
    "__Question__ Are you satisfied with the results, do they look good ?"
   ]
  },
  {
   "cell_type": "markdown",
   "metadata": {
    "id": "Q7uoWa4O5x8R"
   },
   "source": [
    "__Your answer:__\n",
    "Overall, digits look the same despite the auto-encoder compression (factor 1.276%)\n",
    "The images look slightly blurier than the inputs."
   ]
  },
  {
   "cell_type": "code",
   "execution_count": null,
   "metadata": {},
   "outputs": [],
   "source": [
    "print(f\"compression factor {z_dim/n_pixels:.3%}\")"
   ]
  },
  {
   "cell_type": "markdown",
   "metadata": {
    "id": "zO9ATQEiyr3b"
   },
   "source": [
    "## 2/ Two simple generative models\n",
    "\n",
    "In this section, we consider two naïve approaches to creating generative models. The general idea is the following:\n",
    "\n",
    "- train an autoencoder\n",
    "- estimate different statistics (average, variance) of the data in the latent space\n",
    "- using these statistics, define a model based on a Gaussian distribution\n",
    "- generate data with this distribution\n",
    "\n",
    "We will consider these two situations :\n",
    "\n",
    "- a multivariate Gaussian distribution with __diagonal covariance matrix__ (each latent component is an independent random variable). This requires the average and variance in each latent component\n",
    "- a multivariate Gaussian distribution with __non-diagonal covariance matrix__. This requires the average and covariance matrix of the latent components\n",
    "\n",
    "Obviously, since this is done _a posteriori_ after training the autoencoder, there is nothing which guarantees that the latent codes do indeed follow a Gaussian distribution. Our goal will be to verify that Variational Autoencoders indeed produce better results than such naïve approaches."
   ]
  },
  {
   "cell_type": "markdown",
   "metadata": {
    "id": "x2M1-BRmf56d"
   },
   "source": [
    "## 2.0 Defining and generating random Gaussian latent codes\n",
    "\n",
    "Let $z$ be a latent code and $d$ the dimension of the latent space (called ``z_dim`` in the code). We suppose that the $z$'s follow a multivariate Gaussian distribution, written as:\n",
    "\n",
    "\\begin{equation}\n",
    "z \\sim \\mathcal{N}\\left(\n",
    "\\mu,\n",
    "\\bf{C}\n",
    "\\right),\n",
    "\\end{equation}\n",
    "where $\\mu$ and $\\bf{C}$ are the average vector and covariance matrix of the Gaussian distribution. To define such a generative model, we must therefore determine $\\mu$ and $\\bf{C}$. Once this is done, we can generate a random Gaussian latent code in the following manner:\n",
    "\n",
    "\\begin{equation}\n",
    "z = \\mu + {\\bf{L}} \\varepsilon,\n",
    "\\end{equation}\n",
    "where $\\varepsilon$ is a random vector drawn from a multivariate normal distribution ($\\mu=0$ and ${\\bf{C}} = \\text{Id}$), and $\\bf{L}$ is the Cholesky decomposition of the positive semi-definite covariance matrix. In other words:\n",
    "\n",
    "\\begin{equation}\n",
    "{\\bf{C}} = {\\bf{L}}{\\bf{L}^T}.\n",
    "\\end{equation}\n",
    "\n",
    "This gives a simple method of producing a multivariate Gaussian random variable."
   ]
  },
  {
   "cell_type": "markdown",
   "metadata": {
    "id": "NWpucm972i7j"
   },
   "source": [
    "## 2.1/ A Gaussian model with diagonal covariance\n",
    "\n",
    "The first naïve model is  defined in this first case as:\n",
    "\n",
    "- $\\bf{\\mu}=\\left[\\mu_0, \\mu_1, \\cdots, \\mu_{d-1}\\right]^T$\n",
    "- $\n",
    "  \\bf{C} = \\begin{pmatrix}\n",
    "\\sigma_0^2 & 0 & \\cdots & 0 \\\\\n",
    "0 & \\sigma_1^2 & \\cdots & 0 \\\\\n",
    "\\vdots & \\ddots & \\ddots & \\vdots \\\\\n",
    "0 & 0 & \\cdots & \\sigma_{d-1}^2\n",
    "\\end{pmatrix}$\n",
    "\n",
    "In this situation, therefore, the matrix $\\bf{L}$ can be calculated quite simply, as:\n",
    "- $\n",
    "  \\bf{L} = \\begin{pmatrix}\n",
    "\\sigma_0 & 0 & \\cdots & 0 \\\\\n",
    "0 & \\sigma_1 & \\cdots & 0 \\\\\n",
    "\\vdots & \\ddots & \\ddots & \\vdots \\\\\n",
    "0 & 0 & \\cdots & \\sigma_{d-1}\n",
    "\\end{pmatrix}$\n",
    "\n",
    "In the next cell, calculate the empirical average and variances over a certain number of batches:"
   ]
  },
  {
   "cell_type": "code",
   "execution_count": null,
   "metadata": {
    "id": "sUXHCtvW2iQ0"
   },
   "outputs": [],
   "source": [
    "n_batches = np.floor( len(mnist_train_loader.dataset.indices)/batch_size ).astype(int)\n",
    "\n",
    "z_average = torch.zeros(n_batches,ae_model.z_dim)\n",
    "z_sigma = torch.zeros(n_batches,ae_model.z_dim)\n",
    "\n",
    "for batch_idx, (data, _) in enumerate(mnist_train_loader):\n",
    "  z = ae_model.encoder(data)\n",
    "  z_average[batch_idx,:] = ... # FILL IN CODE HERE\n",
    "  z_sigma[batch_idx,:] = ... # FILL IN CODE HERE\n",
    "\n",
    "z_average = ... # FILL IN CODE HERE\n",
    "z_sigma = ... # FILL IN CODE HERE\n",
    "\n",
    "print(\"Average of latent codes:\",z_average)\n",
    "print(\"Standard deviation of latent codes:\",z_sigma)"
   ]
  },
  {
   "cell_type": "markdown",
   "metadata": {
    "id": "Lrpc62ML9K4l"
   },
   "source": [
    "Now, in the next cell generate data with this simple generative model using the approach described above. Display these images with the ``display_images`` function. \n",
    "\n",
    "__NB__ You do not actually have to define the matrix $\\bf{L}$ in this case, an element-wise multiplication of two (properly chosen) vectors will suffice. To generate multivariate normal random variables you can use the following Pytorch function:\n",
    "\n",
    "- ```torch.randn```\n"
   ]
  },
  {
   "cell_type": "code",
   "execution_count": null,
   "metadata": {
    "id": "1_Tekii-9QEo"
   },
   "outputs": [],
   "source": [
    "def generate_images_diagonal_gaussian(ae_model,z_average,z_sigma,n_images = 5):\n",
    "\n",
    "  epsilon = ... # FILL IN CODE HERE\n",
    "  z_generated = ... # FILL IN CODE HERE\n",
    "  imgs_generated = ... # FILL IN CODE HERE\n",
    "  return(imgs_generated)\n",
    "\n",
    "imgs_generated = generate_images_diagonal_gaussian(ae_model,z_average,z_sigma,n_images=5)\n",
    "display_images(imgs_generated)"
   ]
  },
  {
   "cell_type": "markdown",
   "metadata": {
    "id": "xiNaEgLIloeA"
   },
   "source": [
    "As you should be able to see, these results are not that good. Let's try a slightly more sophisticated model."
   ]
  },
  {
   "cell_type": "markdown",
   "metadata": {
    "id": "WjVPfkRKYMSh"
   },
   "source": [
    "## 2.1 Non-diagonal Gaussian model\n",
    "\n",
    "The second model uses a non-diagonal covariance matrix $\\bf{C}$ in the multivariate Gaussian distribution. In the next cell, calculate the average and covariance matrix over several batches of latent codes.\n",
    "\n",
    "__NB__ You can use the ```torch.cov``` function. Make sure to put the data in the right format for this (see documentation : https://pytorch.org/docs/stable/generated/torch.cov.html)."
   ]
  },
  {
   "cell_type": "code",
   "execution_count": null,
   "metadata": {
    "id": "ArXgre39CD2H"
   },
   "outputs": [],
   "source": [
    "n_batches = np.floor( len(mnist_train_loader.dataset.indices)/batch_size ).astype(int)\n",
    "\n",
    "z_average = torch.zeros(n_batches,ae_model.z_dim)\n",
    "z_covariance = torch.zeros(n_batches,ae_model.z_dim,ae_model.z_dim)\n",
    "\n",
    "for batch_idx, (data, _) in enumerate(mnist_train_loader):\n",
    "  z = ae_model.encoder(data)\n",
    "  z_average[batch_idx,:] = ... # FILL IN CODE HERE\n",
    "  z_covariance[batch_idx,:,:] = ... # FILL IN CODE HERE\n",
    "\n",
    "z_average = ... # FILL IN CODE HERE\n",
    "z_covariance = ... # FILL IN CODE HERE\n",
    "\n",
    "print(\"Average of latent codes:\",z_average)\n",
    "print(\"Covariance matrix of latent codes:\",z_covariance)"
   ]
  },
  {
   "cell_type": "markdown",
   "metadata": {
    "id": "JhXU8cnTZ0E8"
   },
   "source": [
    "Now, generate some samples with this distribution. In this case, you will actually have to calculate the Cholesky decomposition and find $\\bf{L}$. For this, you can use \n",
    "\n",
    "- ```torch.linalg.cholesky```\n",
    "\n",
    "In this model, you will need to carry out matrix multiplication over a batch of latent codes, which is a bit more complicated than the previous naïve model (which used element-wise vector multiplication). So you have two options:\n",
    "\n",
    "- copy the matrix $\\bf{L}$ several times and carry out batch matrix multiplication\n",
    "- simply loop and carry out normal matrix multiplication to produce each image (this has the disadvantage of not taking advantage of any parallelisation, but it should not matter too much).\n",
    "\n",
    "In the first case, you can use the following functions:\n",
    "\n",
    "- ```torch.bmm```\n",
    "- ```torch.tile```\n",
    "\n",
    "Fill in the function to generate images using this model now:"
   ]
  },
  {
   "cell_type": "code",
   "execution_count": null,
   "metadata": {
    "id": "zXGlJTZ7Z4ed"
   },
   "outputs": [],
   "source": [
    "def generate_images_non_diagonal_gaussian(ae_model,z_average,z_covariance,n_images = 5):\n",
    "\n",
    "  #calcualte Cholesky decomposition of covariance matrix : C = L L^T\n",
    "  # Make sure that the first dimension is the batch dimension (with batch size n_images)\n",
    "  # You can use the torch.unsqueeze function for this\n",
    "  L = ... # FILL IN CODE HERE\n",
    "\n",
    "  epsilon = ... # FILL IN CODE HERE\n",
    "  z_generated = ... # FILL IN CODE HERE\n",
    "  imgs_generated = ... # FILL IN CODE HERE\n",
    "  return(imgs_generated)\n",
    "\n",
    "\n",
    "imgs_generated = generate_images_non_diagonal_gaussian(ae_model,z_average,z_covariance,n_images = 5)\n",
    "display_images(imgs_generated)"
   ]
  },
  {
   "cell_type": "markdown",
   "metadata": {
    "id": "qLtsdri6zKEm"
   },
   "source": [
    "You should see some improvement, but we can do better than this. Thus, we turn to the variational autoencoder."
   ]
  },
  {
   "cell_type": "markdown",
   "metadata": {
    "id": "8UqeNhuSdnDt"
   },
   "source": [
    "# 3/ Variational autoencoder\n",
    "\n",
    "Now, we are going to create an variational autoencoder to carry out __image generation__. Let's first recall the idea of a variational autoencoder\n",
    "\n",
    "## Main idea\n",
    "\n",
    "The main idea is to create an autoencoder whose latent codes follow a certain distribution (a Gaussian distribution in practice). This is done with two tools : \n",
    "\n",
    "- A specific architecture, where the encoder produces the average and variance of the latent codes\n",
    "- A specially designed loss function\n",
    "\n",
    "Once the VAE is trained, it is possible to sample in the latent space by producing random normal variables and simply decoding.\n",
    "\n",
    "## Architecture\n",
    "\n",
    "The architecture of the VAE model is as follows:\n",
    "\n",
    "The encoder consists of:\n",
    "\n",
    "Encoder :\n",
    "- Flatten input\n",
    "- Dense layer $+$ ReLU\n",
    "- Dense layer $+$ ReLU\n",
    "- Dense layer (no non-linarity) to produce the average, Dense layer (no non-linarity) to produce the variance (these last two layers are in parallel)\n",
    "\n",
    "Decoder :\n",
    "- Dense layer $+$ ReLU\n",
    "- Dense layer $+$ ReLU\n",
    "- Dense layer $+$ Sigmoid Activation\n",
    "- Reshape, to size $28\\times 28\\times 1$\n",
    "\n",
    "\n",
    "## Variational Autoencoder loss\n",
    "\n",
    "Recall that for the VAE, the loss function is in fact a function to __maximise__. In fact, for implementation, you will see that it is easier to __minimise__ $-\\mathcal{L}$.\n",
    "\n",
    "In the case of an image which is represented by a set of __Bernoulli__ variables (which is relevant for mnist), the original loss function (to maximise) is written :\n",
    "\n",
    "\n",
    "\\begin{align}\n",
    "\\mathcal{L} &= \\log\\left(p_\\theta(x|z)\\right) - KL\\left( q_\\phi(z|x) \\; || \\; p_\\theta(z)\\right) \\\\\n",
    "    &= \\left(\\sum_{i} x_i \\log y_i + (1-x_i) \\log (1-y_i)\\right) - \\left(\\frac{1}{2} \\sum_j \\left( \\sigma_j^2 + \\mu_j^2 - \\log \\sigma_j^2 -1 \\right)\\right)\n",
    "\\end{align}\n",
    "\n",
    "\n",
    "where $i$ is summed over the image pixels, and $j$ is summed over the elements of the latent space. $\\sigma_j^2$ is the $j$th element of the latent space variance, and $\\mu_j$ is the $j$th element of the latent space mean.\n",
    "\n",
    "The left part of the loss (reconstruction error) can be implemented simply as the binary cross-entropy between the input x and the output y. Since we are __maximising__ $-$[binary cross-entropy] (look at the formula), this is equivalent to minimising the binary cross-entropy.\n",
    "\n",
    "For the right part of the equation (KL divergence), you need to implement it manually. \n",
    "\n",
    "The final loss is the average, over the batch size, of the sum of the reconstruction error (left part) and the KL divergence (right part). Be careful, in the formula, the sums over $i$ and $j$ are over the number of pixels and the number of latent elements, respectively. To achieve a sum rather than an average, you can use ```torch.nn.BCELoss(reduction='sum')()```, and the ```torch.sum()``` functions.\n",
    "\n",
    "As in the case of the normal autoencoder, you will need to flatten and then reshape the tensors at the beginning/end of the network."
   ]
  },
  {
   "cell_type": "code",
   "execution_count": 65,
   "metadata": {
    "id": "6siMHQLheM4T"
   },
   "outputs": [
    {
     "name": "stdout",
     "output_type": "stream",
     "text": [
      "torch.Size([])\n",
      "torch.Size([])\n"
     ]
    }
   ],
   "source": [
    "from typing import Tuple\n",
    "class VAE(torch.nn.Module ):\n",
    "  def loss_function(self,x: torch.Tensor, y: torch.Tensor, mu: torch.Tensor, log_var: torch.Tensor) -> torch.Tensor:\n",
    "    \"\"\"Cross entropy loss function + KL divergence on the latent space µ and sigma\n",
    "    Warning: \n",
    "    - the reconstruction error should not be divided by the number of pixels in the image\n",
    "    - 1/2 is the KL weight\n",
    "\n",
    "    Args:\n",
    "        x (torch.Tensor): input N, C, H, W\n",
    "        y (torch.Tensor): output (to compute the reconstuction error)\n",
    "        mu (torch.Tensor): gaussian average µ\n",
    "        log_var (torch.Tensor): log of the variance (so we avoid negative variances)\n",
    "\n",
    "    Returns:\n",
    "        torch.Tensor: reconstruction error - 0.5 KL divergence between the prior and the standard normal distribution\n",
    "    \"\"\"\n",
    "    \n",
    "    # loss should be around 105-115\n",
    "    reconstruction_loss = torch.nn.BCELoss(reduction=\"sum\")\n",
    "    reconstruction_error = - reconstruction_loss(y, x)\n",
    "    variance = self.log_var_to_var(log_var) #exp basically\n",
    "    kld = mu**2 + variance - 1. - log_var\n",
    "    kld = kld.sum()\n",
    "    loss = (reconstruction_error - 0.5*kld)/x.shape[0] #average over the batch dimension!\n",
    "\n",
    "    return loss\n",
    "\n",
    "  def __init__(self, x_dim, h_dim1, h_dim2, z_dim,n_rows,n_cols,n_channels):\n",
    "    super(VAE, self).__init__()\n",
    "\n",
    "    self.n_rows = n_rows\n",
    "    self.n_cols = n_cols\n",
    "    self.n_channels = n_channels\n",
    "    self.n_pixels = (self.n_rows)*(self.n_cols)\n",
    "    self.z_dim = z_dim\n",
    "\n",
    "    # encoder part\n",
    "    self.non_lin = torch.nn.ReLU()\n",
    "    self.fc1 =  torch.nn.Linear(x_dim,  h_dim1)\n",
    "    self.fc2 = torch.nn.Linear(h_dim1,  h_dim2)\n",
    "    self.fc31 = torch.nn.Linear(h_dim2,  z_dim)\n",
    "    self.fc32 = torch.nn.Linear(h_dim2,  z_dim)\n",
    "    \n",
    "    self.encoder_start = torch.nn.Sequential(\n",
    "      self.fc1, self.non_lin, self.fc2, self.non_lin\n",
    "    )\n",
    "    # decoder part\n",
    "    self.fc4 = torch.nn.Linear(z_dim,  h_dim2)\n",
    "    self.fc5 = torch.nn.Linear(h_dim2,  h_dim1)\n",
    "    self.fc6 = torch.nn.Linear(h_dim1,  x_dim)\n",
    "    self.sigmoid = torch.nn.Sigmoid()\n",
    "    self.decoder = torch.nn.Sequential(\n",
    "      self.fc4, self.non_lin, self.fc5, self.non_lin, self.fc6, self.sigmoid\n",
    "    )\n",
    "\n",
    "  def encoder(self, x: torch.Tensor) -> tuple[torch.Tensor, torch.Tensor]:\n",
    "    h = self.encoder_start(x)\n",
    "    mu = self.fc31(h)\n",
    "    log_var = self.fc32(h)\n",
    "    return mu, log_var # mu, log_var\n",
    "\n",
    "  def log_var_to_var(self, log_var: torch.Tensor) -> torch.Tensor:\n",
    "    return torch.exp(log_var)\n",
    "  def sampling(self, mu, log_var):\n",
    "    # this function samples a Gaussian distribution, with average (mu) and standard deviation specified (using log_var)\n",
    "    std = self.log_var_to_var(log_var)\n",
    "    eps = torch.randn(mu.shape, requires_grad=False)\n",
    "    return eps.mul(std).add_(mu) # return z sample\n",
    "\n",
    "  def forward(self, x: torch.Tensor, forced_log_var: float=None) -> Tuple[torch.Tensor, torch.Tensor, torch.Tensor]:\n",
    "    z_mu, z_log_var = self.encoder(x.view(-1, self.n_pixels))\n",
    "    if forced_log_var is not None:\n",
    "      z_log_var = torch.ones_like(z_log_var) * forced_log_var\n",
    "    z = self.sampling(z_mu, z_log_var)\n",
    "    y = self.decoder(z)\n",
    "    y = y.view(x.shape)\n",
    "    return y, z_mu, z_log_var\n",
    "\n",
    "\n",
    "vae_dim_1 = ae_dim_1\n",
    "vae_dim_2 = ae_dim_2\n",
    "vae_model = VAE(x_dim=n_pixels, h_dim1= vae_dim_1, h_dim2=vae_dim_2, z_dim=z_dim,n_rows=n_rows,n_cols=n_cols,n_channels=n_channels)\n",
    "for x_in in [torch.rand(8, 1, 28, 28), torch.rand(8, 28, 28)]:\n",
    "  y_out, mu_out, log_var_out  = vae_model(x_in)\n",
    "  assert y_out.shape == x_in.shape\n",
    "  # print(mu_out.shape, log_var_out.shape)\n",
    "  my_loss = vae_model.loss_function(x_in, y_out, mu_out, log_var_out)\n",
    "  print(my_loss.shape)"
   ]
  },
  {
   "cell_type": "markdown",
   "metadata": {
    "id": "hk_9fDIphlsi"
   },
   "source": [
    "Now, create the model (similarly as above)"
   ]
  },
  {
   "cell_type": "code",
   "execution_count": 66,
   "metadata": {
    "id": "pVlpC2R3htyU"
   },
   "outputs": [],
   "source": [
    "# create model\n",
    "vae_dim_1 = ae_dim_1\n",
    "vae_dim_2 = ae_dim_2\n",
    "vae_model = VAE(x_dim=n_pixels, h_dim1= vae_dim_1, h_dim2=vae_dim_2, z_dim=z_dim,n_rows=n_rows,n_cols=n_cols,n_channels=n_channels)\n",
    "vae_optimizer = optim.Adam(vae_model.parameters())"
   ]
  },
  {
   "cell_type": "markdown",
   "metadata": {
    "id": "NYKLF_oMh5HO"
   },
   "source": [
    "Finally, train the model. First modify the training function to the case of the vae."
   ]
  },
  {
   "cell_type": "code",
   "execution_count": 67,
   "metadata": {
    "id": "z6DjKTWmmssb"
   },
   "outputs": [],
   "source": [
    "def train_vae(vae_model,data_train_loader,epoch):\n",
    "  train_loss = 0\n",
    "  for batch_idx, (data, _) in enumerate(data_train_loader):\n",
    "    vae_optimizer.zero_grad()\n",
    "\n",
    "    y, z_mu, z_log_var = vae_model(data) # FILL IN CODE HERE\n",
    "    loss_vae =  vae_model.loss_function(data, y, z_mu, z_log_var) # FILL IN CODE HERE\n",
    "    loss_vae_neg  = - loss_vae\n",
    "    (loss_vae_neg).backward()\n",
    "    # loss_vae.backward()\n",
    "    train_loss += loss_vae.item()\n",
    "    vae_optimizer.step() \n",
    "\t\t\n",
    "    if batch_idx % 100 == 0:\n",
    "      print('Train Epoch: {} [{}/{} ({:.0f}%)]\\tLoss: {:.6f}'.format(\n",
    "      epoch, batch_idx * len(data), len(data_train_loader.dataset),\n",
    "      100. * batch_idx / len(data_train_loader), loss_vae.item() / len(data)))\n",
    "  print('====> Epoch: {} Average loss: {:.4f}'.format(epoch, train_loss / len(data_train_loader.dataset)))\n"
   ]
  },
  {
   "cell_type": "code",
   "execution_count": 68,
   "metadata": {
    "id": "L9JUUs6Kh8HB"
   },
   "outputs": [
    {
     "name": "stdout",
     "output_type": "stream",
     "text": [
      "Train Epoch: 0 [0/1000 (0%)]\tLoss: -4.250611\n",
      "====> Epoch: 0 Average loss: -3.1819\n",
      "Train Epoch: 1 [0/1000 (0%)]\tLoss: -2.229541\n",
      "====> Epoch: 1 Average loss: -1.8102\n",
      "Train Epoch: 2 [0/1000 (0%)]\tLoss: -1.768567\n",
      "====> Epoch: 2 Average loss: -1.5522\n",
      "Train Epoch: 3 [0/1000 (0%)]\tLoss: -1.712980\n",
      "====> Epoch: 3 Average loss: -1.4921\n",
      "Train Epoch: 4 [0/1000 (0%)]\tLoss: -1.668088\n",
      "====> Epoch: 4 Average loss: -1.4639\n",
      "Train Epoch: 5 [0/1000 (0%)]\tLoss: -1.650950\n",
      "====> Epoch: 5 Average loss: -1.4411\n",
      "Train Epoch: 6 [0/1000 (0%)]\tLoss: -1.612081\n",
      "====> Epoch: 6 Average loss: -1.4370\n",
      "Train Epoch: 7 [0/1000 (0%)]\tLoss: -1.628250\n",
      "====> Epoch: 7 Average loss: -1.4295\n",
      "Train Epoch: 8 [0/1000 (0%)]\tLoss: -1.544529\n",
      "====> Epoch: 8 Average loss: -1.4219\n",
      "Train Epoch: 9 [0/1000 (0%)]\tLoss: -1.554554\n",
      "====> Epoch: 9 Average loss: -1.4063\n",
      "Train Epoch: 10 [0/1000 (0%)]\tLoss: -1.585039\n",
      "====> Epoch: 10 Average loss: -1.4108\n",
      "Train Epoch: 11 [0/1000 (0%)]\tLoss: -1.584836\n",
      "====> Epoch: 11 Average loss: -1.4033\n",
      "Train Epoch: 12 [0/1000 (0%)]\tLoss: -1.626775\n",
      "====> Epoch: 12 Average loss: -1.4002\n",
      "Train Epoch: 13 [0/1000 (0%)]\tLoss: -1.565509\n",
      "====> Epoch: 13 Average loss: -1.3926\n",
      "Train Epoch: 14 [0/1000 (0%)]\tLoss: -1.542655\n",
      "====> Epoch: 14 Average loss: -1.3865\n",
      "Train Epoch: 15 [0/1000 (0%)]\tLoss: -1.520514\n",
      "====> Epoch: 15 Average loss: -1.3796\n",
      "Train Epoch: 16 [0/1000 (0%)]\tLoss: -1.575016\n",
      "====> Epoch: 16 Average loss: -1.3647\n",
      "Train Epoch: 17 [0/1000 (0%)]\tLoss: -1.457012\n",
      "====> Epoch: 17 Average loss: -1.3581\n",
      "Train Epoch: 18 [0/1000 (0%)]\tLoss: -1.516880\n",
      "====> Epoch: 18 Average loss: -1.3611\n",
      "Train Epoch: 19 [0/1000 (0%)]\tLoss: -1.512848\n",
      "====> Epoch: 19 Average loss: -1.3475\n",
      "Train Epoch: 20 [0/1000 (0%)]\tLoss: -1.502748\n",
      "====> Epoch: 20 Average loss: -1.3474\n",
      "Train Epoch: 21 [0/1000 (0%)]\tLoss: -1.493588\n",
      "====> Epoch: 21 Average loss: -1.3465\n",
      "Train Epoch: 22 [0/1000 (0%)]\tLoss: -1.548606\n",
      "====> Epoch: 22 Average loss: -1.3296\n",
      "Train Epoch: 23 [0/1000 (0%)]\tLoss: -1.550306\n",
      "====> Epoch: 23 Average loss: -1.3219\n",
      "Train Epoch: 24 [0/1000 (0%)]\tLoss: -1.466825\n",
      "====> Epoch: 24 Average loss: -1.3034\n",
      "Train Epoch: 25 [0/1000 (0%)]\tLoss: -1.421027\n",
      "====> Epoch: 25 Average loss: -1.2834\n",
      "Train Epoch: 26 [0/1000 (0%)]\tLoss: -1.418304\n",
      "====> Epoch: 26 Average loss: -1.2573\n",
      "Train Epoch: 27 [0/1000 (0%)]\tLoss: -1.338254\n",
      "====> Epoch: 27 Average loss: -1.2503\n",
      "Train Epoch: 28 [0/1000 (0%)]\tLoss: -1.314114\n",
      "====> Epoch: 28 Average loss: -1.2363\n",
      "Train Epoch: 29 [0/1000 (0%)]\tLoss: -1.374369\n",
      "====> Epoch: 29 Average loss: -1.2270\n",
      "Train Epoch: 30 [0/1000 (0%)]\tLoss: -1.345365\n",
      "====> Epoch: 30 Average loss: -1.2133\n",
      "Train Epoch: 31 [0/1000 (0%)]\tLoss: -1.331924\n",
      "====> Epoch: 31 Average loss: -1.2110\n",
      "Train Epoch: 32 [0/1000 (0%)]\tLoss: -1.332894\n",
      "====> Epoch: 32 Average loss: -1.1932\n",
      "Train Epoch: 33 [0/1000 (0%)]\tLoss: -1.319213\n",
      "====> Epoch: 33 Average loss: -1.1904\n",
      "Train Epoch: 34 [0/1000 (0%)]\tLoss: -1.277867\n",
      "====> Epoch: 34 Average loss: -1.1865\n",
      "Train Epoch: 35 [0/1000 (0%)]\tLoss: -1.265599\n",
      "====> Epoch: 35 Average loss: -1.1693\n",
      "Train Epoch: 36 [0/1000 (0%)]\tLoss: -1.291411\n",
      "====> Epoch: 36 Average loss: -1.1680\n",
      "Train Epoch: 37 [0/1000 (0%)]\tLoss: -1.319082\n",
      "====> Epoch: 37 Average loss: -1.1609\n",
      "Train Epoch: 38 [0/1000 (0%)]\tLoss: -1.210539\n",
      "====> Epoch: 38 Average loss: -1.1516\n",
      "Train Epoch: 39 [0/1000 (0%)]\tLoss: -1.253096\n",
      "====> Epoch: 39 Average loss: -1.1376\n",
      "Train Epoch: 40 [0/1000 (0%)]\tLoss: -1.241188\n",
      "====> Epoch: 40 Average loss: -1.1333\n",
      "Train Epoch: 41 [0/1000 (0%)]\tLoss: -1.266115\n",
      "====> Epoch: 41 Average loss: -1.1139\n",
      "Train Epoch: 42 [0/1000 (0%)]\tLoss: -1.223789\n",
      "====> Epoch: 42 Average loss: -1.0969\n",
      "Train Epoch: 43 [0/1000 (0%)]\tLoss: -1.183081\n",
      "====> Epoch: 43 Average loss: -1.0779\n",
      "Train Epoch: 44 [0/1000 (0%)]\tLoss: -1.159879\n",
      "====> Epoch: 44 Average loss: -1.0655\n",
      "Train Epoch: 45 [0/1000 (0%)]\tLoss: -1.184339\n",
      "====> Epoch: 45 Average loss: -1.0557\n",
      "Train Epoch: 46 [0/1000 (0%)]\tLoss: -1.114741\n",
      "====> Epoch: 46 Average loss: -1.0307\n",
      "Train Epoch: 47 [0/1000 (0%)]\tLoss: -1.167255\n",
      "====> Epoch: 47 Average loss: -1.0270\n",
      "Train Epoch: 48 [0/1000 (0%)]\tLoss: -1.159459\n",
      "====> Epoch: 48 Average loss: -1.0053\n",
      "Train Epoch: 49 [0/1000 (0%)]\tLoss: -1.191623\n",
      "====> Epoch: 49 Average loss: -1.0064\n",
      "Train Epoch: 50 [0/1000 (0%)]\tLoss: -1.135290\n",
      "====> Epoch: 50 Average loss: -0.9902\n",
      "Train Epoch: 51 [0/1000 (0%)]\tLoss: -1.146811\n",
      "====> Epoch: 51 Average loss: -0.9873\n",
      "Train Epoch: 52 [0/1000 (0%)]\tLoss: -1.091073\n",
      "====> Epoch: 52 Average loss: -0.9809\n",
      "Train Epoch: 53 [0/1000 (0%)]\tLoss: -1.078924\n",
      "====> Epoch: 53 Average loss: -0.9733\n",
      "Train Epoch: 54 [0/1000 (0%)]\tLoss: -1.033762\n",
      "====> Epoch: 54 Average loss: -0.9665\n",
      "Train Epoch: 55 [0/1000 (0%)]\tLoss: -1.085847\n",
      "====> Epoch: 55 Average loss: -0.9664\n",
      "Train Epoch: 56 [0/1000 (0%)]\tLoss: -1.076658\n",
      "====> Epoch: 56 Average loss: -0.9509\n",
      "Train Epoch: 57 [0/1000 (0%)]\tLoss: -1.078094\n",
      "====> Epoch: 57 Average loss: -0.9359\n",
      "Train Epoch: 58 [0/1000 (0%)]\tLoss: -1.019589\n",
      "====> Epoch: 58 Average loss: -0.9385\n",
      "Train Epoch: 59 [0/1000 (0%)]\tLoss: -1.059033\n",
      "====> Epoch: 59 Average loss: -0.9301\n",
      "Train Epoch: 60 [0/1000 (0%)]\tLoss: -1.033253\n",
      "====> Epoch: 60 Average loss: -0.9270\n",
      "Train Epoch: 61 [0/1000 (0%)]\tLoss: -1.037482\n",
      "====> Epoch: 61 Average loss: -0.9154\n",
      "Train Epoch: 62 [0/1000 (0%)]\tLoss: -1.066258\n",
      "====> Epoch: 62 Average loss: -0.9129\n",
      "Train Epoch: 63 [0/1000 (0%)]\tLoss: -1.032664\n",
      "====> Epoch: 63 Average loss: -0.9079\n",
      "Train Epoch: 64 [0/1000 (0%)]\tLoss: -0.985232\n",
      "====> Epoch: 64 Average loss: -0.8993\n",
      "Train Epoch: 65 [0/1000 (0%)]\tLoss: -0.987035\n",
      "====> Epoch: 65 Average loss: -0.8963\n",
      "Train Epoch: 66 [0/1000 (0%)]\tLoss: -0.993606\n",
      "====> Epoch: 66 Average loss: -0.8895\n",
      "Train Epoch: 67 [0/1000 (0%)]\tLoss: -1.008365\n",
      "====> Epoch: 67 Average loss: -0.8823\n",
      "Train Epoch: 68 [0/1000 (0%)]\tLoss: -0.954667\n",
      "====> Epoch: 68 Average loss: -0.8759\n",
      "Train Epoch: 69 [0/1000 (0%)]\tLoss: -0.932968\n",
      "====> Epoch: 69 Average loss: -0.8727\n",
      "Train Epoch: 70 [0/1000 (0%)]\tLoss: -0.926904\n",
      "====> Epoch: 70 Average loss: -0.8679\n",
      "Train Epoch: 71 [0/1000 (0%)]\tLoss: -0.980705\n",
      "====> Epoch: 71 Average loss: -0.8600\n",
      "Train Epoch: 72 [0/1000 (0%)]\tLoss: -0.919245\n",
      "====> Epoch: 72 Average loss: -0.8571\n",
      "Train Epoch: 73 [0/1000 (0%)]\tLoss: -0.925808\n",
      "====> Epoch: 73 Average loss: -0.8571\n",
      "Train Epoch: 74 [0/1000 (0%)]\tLoss: -0.920714\n",
      "====> Epoch: 74 Average loss: -0.8487\n",
      "Train Epoch: 75 [0/1000 (0%)]\tLoss: -0.928780\n",
      "====> Epoch: 75 Average loss: -0.8449\n",
      "Train Epoch: 76 [0/1000 (0%)]\tLoss: -0.921153\n",
      "====> Epoch: 76 Average loss: -0.8411\n",
      "Train Epoch: 77 [0/1000 (0%)]\tLoss: -0.935405\n",
      "====> Epoch: 77 Average loss: -0.8380\n",
      "Train Epoch: 78 [0/1000 (0%)]\tLoss: -0.952908\n",
      "====> Epoch: 78 Average loss: -0.8250\n",
      "Train Epoch: 79 [0/1000 (0%)]\tLoss: -0.922413\n",
      "====> Epoch: 79 Average loss: -0.8250\n",
      "Train Epoch: 80 [0/1000 (0%)]\tLoss: -0.915071\n",
      "====> Epoch: 80 Average loss: -0.8250\n",
      "Train Epoch: 81 [0/1000 (0%)]\tLoss: -0.904993\n",
      "====> Epoch: 81 Average loss: -0.8197\n",
      "Train Epoch: 82 [0/1000 (0%)]\tLoss: -0.928825\n",
      "====> Epoch: 82 Average loss: -0.8174\n",
      "Train Epoch: 83 [0/1000 (0%)]\tLoss: -0.958665\n",
      "====> Epoch: 83 Average loss: -0.8134\n",
      "Train Epoch: 84 [0/1000 (0%)]\tLoss: -0.894735\n",
      "====> Epoch: 84 Average loss: -0.8035\n",
      "Train Epoch: 85 [0/1000 (0%)]\tLoss: -0.903349\n",
      "====> Epoch: 85 Average loss: -0.7995\n",
      "Train Epoch: 86 [0/1000 (0%)]\tLoss: -0.863964\n",
      "====> Epoch: 86 Average loss: -0.7967\n",
      "Train Epoch: 87 [0/1000 (0%)]\tLoss: -0.893806\n",
      "====> Epoch: 87 Average loss: -0.7941\n",
      "Train Epoch: 88 [0/1000 (0%)]\tLoss: -0.879464\n",
      "====> Epoch: 88 Average loss: -0.7864\n",
      "Train Epoch: 89 [0/1000 (0%)]\tLoss: -0.870190\n",
      "====> Epoch: 89 Average loss: -0.7892\n",
      "Train Epoch: 90 [0/1000 (0%)]\tLoss: -0.866742\n",
      "====> Epoch: 90 Average loss: -0.7857\n",
      "Train Epoch: 91 [0/1000 (0%)]\tLoss: -0.876678\n",
      "====> Epoch: 91 Average loss: -0.7846\n",
      "Train Epoch: 92 [0/1000 (0%)]\tLoss: -0.918814\n",
      "====> Epoch: 92 Average loss: -0.7783\n",
      "Train Epoch: 93 [0/1000 (0%)]\tLoss: -0.863056\n",
      "====> Epoch: 93 Average loss: -0.7703\n",
      "Train Epoch: 94 [0/1000 (0%)]\tLoss: -0.845411\n",
      "====> Epoch: 94 Average loss: -0.7725\n",
      "Train Epoch: 95 [0/1000 (0%)]\tLoss: -0.863126\n",
      "====> Epoch: 95 Average loss: -0.7653\n",
      "Train Epoch: 96 [0/1000 (0%)]\tLoss: -0.826505\n",
      "====> Epoch: 96 Average loss: -0.7648\n",
      "Train Epoch: 97 [0/1000 (0%)]\tLoss: -0.830103\n",
      "====> Epoch: 97 Average loss: -0.7610\n",
      "Train Epoch: 98 [0/1000 (0%)]\tLoss: -0.851247\n",
      "====> Epoch: 98 Average loss: -0.7613\n",
      "Train Epoch: 99 [0/1000 (0%)]\tLoss: -0.836925\n",
      "====> Epoch: 99 Average loss: -0.7591\n",
      "Train Epoch: 100 [0/1000 (0%)]\tLoss: -0.853018\n",
      "====> Epoch: 100 Average loss: -0.7567\n",
      "Train Epoch: 101 [0/1000 (0%)]\tLoss: -0.867625\n",
      "====> Epoch: 101 Average loss: -0.7572\n",
      "Train Epoch: 102 [0/1000 (0%)]\tLoss: -0.840024\n",
      "====> Epoch: 102 Average loss: -0.7512\n",
      "Train Epoch: 103 [0/1000 (0%)]\tLoss: -0.827231\n",
      "====> Epoch: 103 Average loss: -0.7495\n",
      "Train Epoch: 104 [0/1000 (0%)]\tLoss: -0.859995\n",
      "====> Epoch: 104 Average loss: -0.7457\n",
      "Train Epoch: 105 [0/1000 (0%)]\tLoss: -0.817685\n",
      "====> Epoch: 105 Average loss: -0.7399\n",
      "Train Epoch: 106 [0/1000 (0%)]\tLoss: -0.828515\n",
      "====> Epoch: 106 Average loss: -0.7397\n",
      "Train Epoch: 107 [0/1000 (0%)]\tLoss: -0.797880\n",
      "====> Epoch: 107 Average loss: -0.7336\n",
      "Train Epoch: 108 [0/1000 (0%)]\tLoss: -0.800688\n",
      "====> Epoch: 108 Average loss: -0.7353\n",
      "Train Epoch: 109 [0/1000 (0%)]\tLoss: -0.817285\n",
      "====> Epoch: 109 Average loss: -0.7342\n",
      "Train Epoch: 110 [0/1000 (0%)]\tLoss: -0.786732\n",
      "====> Epoch: 110 Average loss: -0.7303\n",
      "Train Epoch: 111 [0/1000 (0%)]\tLoss: -0.783330\n",
      "====> Epoch: 111 Average loss: -0.7252\n",
      "Train Epoch: 112 [0/1000 (0%)]\tLoss: -0.831272\n",
      "====> Epoch: 112 Average loss: -0.7217\n",
      "Train Epoch: 113 [0/1000 (0%)]\tLoss: -0.790586\n",
      "====> Epoch: 113 Average loss: -0.7186\n",
      "Train Epoch: 114 [0/1000 (0%)]\tLoss: -0.785836\n",
      "====> Epoch: 114 Average loss: -0.7181\n",
      "Train Epoch: 115 [0/1000 (0%)]\tLoss: -0.807039\n",
      "====> Epoch: 115 Average loss: -0.7207\n",
      "Train Epoch: 116 [0/1000 (0%)]\tLoss: -0.799221\n",
      "====> Epoch: 116 Average loss: -0.7138\n",
      "Train Epoch: 117 [0/1000 (0%)]\tLoss: -0.788043\n",
      "====> Epoch: 117 Average loss: -0.7141\n",
      "Train Epoch: 118 [0/1000 (0%)]\tLoss: -0.786620\n",
      "====> Epoch: 118 Average loss: -0.7112\n",
      "Train Epoch: 119 [0/1000 (0%)]\tLoss: -0.786446\n",
      "====> Epoch: 119 Average loss: -0.7065\n",
      "Train Epoch: 120 [0/1000 (0%)]\tLoss: -0.768691\n",
      "====> Epoch: 120 Average loss: -0.7079\n",
      "Train Epoch: 121 [0/1000 (0%)]\tLoss: -0.808151\n",
      "====> Epoch: 121 Average loss: -0.7051\n",
      "Train Epoch: 122 [0/1000 (0%)]\tLoss: -0.782084\n",
      "====> Epoch: 122 Average loss: -0.7052\n",
      "Train Epoch: 123 [0/1000 (0%)]\tLoss: -0.771895\n",
      "====> Epoch: 123 Average loss: -0.7028\n",
      "Train Epoch: 124 [0/1000 (0%)]\tLoss: -0.752646\n",
      "====> Epoch: 124 Average loss: -0.7031\n",
      "Train Epoch: 125 [0/1000 (0%)]\tLoss: -0.777987\n",
      "====> Epoch: 125 Average loss: -0.6997\n",
      "Train Epoch: 126 [0/1000 (0%)]\tLoss: -0.814963\n",
      "====> Epoch: 126 Average loss: -0.6998\n",
      "Train Epoch: 127 [0/1000 (0%)]\tLoss: -0.754876\n",
      "====> Epoch: 127 Average loss: -0.6955\n",
      "Train Epoch: 128 [0/1000 (0%)]\tLoss: -0.788690\n",
      "====> Epoch: 128 Average loss: -0.6968\n",
      "Train Epoch: 129 [0/1000 (0%)]\tLoss: -0.753560\n",
      "====> Epoch: 129 Average loss: -0.6951\n",
      "Train Epoch: 130 [0/1000 (0%)]\tLoss: -0.760213\n",
      "====> Epoch: 130 Average loss: -0.6917\n",
      "Train Epoch: 131 [0/1000 (0%)]\tLoss: -0.745280\n",
      "====> Epoch: 131 Average loss: -0.6874\n",
      "Train Epoch: 132 [0/1000 (0%)]\tLoss: -0.732299\n",
      "====> Epoch: 132 Average loss: -0.6855\n",
      "Train Epoch: 133 [0/1000 (0%)]\tLoss: -0.748584\n",
      "====> Epoch: 133 Average loss: -0.6867\n",
      "Train Epoch: 134 [0/1000 (0%)]\tLoss: -0.744938\n",
      "====> Epoch: 134 Average loss: -0.6852\n",
      "Train Epoch: 135 [0/1000 (0%)]\tLoss: -0.760000\n",
      "====> Epoch: 135 Average loss: -0.6838\n",
      "Train Epoch: 136 [0/1000 (0%)]\tLoss: -0.772884\n",
      "====> Epoch: 136 Average loss: -0.6835\n",
      "Train Epoch: 137 [0/1000 (0%)]\tLoss: -0.778343\n",
      "====> Epoch: 137 Average loss: -0.6796\n",
      "Train Epoch: 138 [0/1000 (0%)]\tLoss: -0.766147\n",
      "====> Epoch: 138 Average loss: -0.6776\n",
      "Train Epoch: 139 [0/1000 (0%)]\tLoss: -0.754187\n",
      "====> Epoch: 139 Average loss: -0.6791\n",
      "Train Epoch: 140 [0/1000 (0%)]\tLoss: -0.759866\n",
      "====> Epoch: 140 Average loss: -0.6774\n",
      "Train Epoch: 141 [0/1000 (0%)]\tLoss: -0.771502\n",
      "====> Epoch: 141 Average loss: -0.6787\n",
      "Train Epoch: 142 [0/1000 (0%)]\tLoss: -0.741704\n",
      "====> Epoch: 142 Average loss: -0.6719\n",
      "Train Epoch: 143 [0/1000 (0%)]\tLoss: -0.746119\n",
      "====> Epoch: 143 Average loss: -0.6722\n",
      "Train Epoch: 144 [0/1000 (0%)]\tLoss: -0.707169\n",
      "====> Epoch: 144 Average loss: -0.6731\n",
      "Train Epoch: 145 [0/1000 (0%)]\tLoss: -0.756944\n",
      "====> Epoch: 145 Average loss: -0.6699\n",
      "Train Epoch: 146 [0/1000 (0%)]\tLoss: -0.731397\n",
      "====> Epoch: 146 Average loss: -0.6688\n",
      "Train Epoch: 147 [0/1000 (0%)]\tLoss: -0.736403\n",
      "====> Epoch: 147 Average loss: -0.6652\n",
      "Train Epoch: 148 [0/1000 (0%)]\tLoss: -0.756529\n",
      "====> Epoch: 148 Average loss: -0.6707\n",
      "Train Epoch: 149 [0/1000 (0%)]\tLoss: -0.755052\n",
      "====> Epoch: 149 Average loss: -0.6652\n"
     ]
    }
   ],
   "source": [
    "# now train the model\n",
    "for epoch in range(0, n_epochs):\n",
    "  train_vae(vae_model,mnist_train_loader,epoch)"
   ]
  },
  {
   "cell_type": "markdown",
   "metadata": {
    "id": "uTfRje_AkKDr"
   },
   "source": [
    "Now, generate some images with the VAE model"
   ]
  },
  {
   "cell_type": "code",
   "execution_count": 83,
   "metadata": {},
   "outputs": [
    {
     "name": "stderr",
     "output_type": "stream",
     "text": [
      "/tmp/ipykernel_42901/3141267753.py:10: UserWarning: To copy construct from a tensor, it is recommended to use sourceTensor.clone().detach() or sourceTensor.clone().detach().requires_grad_(True), rather than torch.tensor(sourceTensor).\n",
      "  selected_imgs_tensor = torch.tensor(selected_imgs, dtype=torch.float32)\n"
     ]
    },
    {
     "name": "stdout",
     "output_type": "stream",
     "text": [
      "(5, 1, 28, 28)\n"
     ]
    },
    {
     "data": {
      "image/png": "[encoded data removed]",
      "text/plain": [
       "<Figure size 1000x1000 with 20 Axes>"
      ]
     },
     "metadata": {},
     "output_type": "display_data"
    }
   ],
   "source": [
    "import numpy as np\n",
    "import matplotlib.pyplot as plt\n",
    "import torch\n",
    "\n",
    "def display_vae_images(ae_model, vae_model,test_imgs):\n",
    "    n_images = 5\n",
    "    idx = np.random.randint(0, test_imgs.shape[0], n_images)\n",
    "    selected_imgs = test_imgs[idx,:,:,:]\n",
    "\n",
    "    selected_imgs_tensor = torch.tensor(selected_imgs, dtype=torch.float32)\n",
    "    output_imgs_vae, _, _ = vae_model(selected_imgs_tensor, forced_log_var=None)\n",
    "    output_imgs_vae = output_imgs_vae.detach().cpu().numpy()\n",
    "\n",
    "    output_imgs_vae_not_noisy, _, _ = vae_model(selected_imgs_tensor, forced_log_var=-torch.inf)\n",
    "    output_imgs_vae_not_noisy = output_imgs_vae_not_noisy.detach().cpu().numpy()\n",
    "\n",
    "    output_imgs_ae = ae_model(selected_imgs_tensor)\n",
    "    output_imgs_ae = output_imgs_ae.detach().cpu().numpy()\n",
    "   \n",
    "    print(output_imgs_vae.shape)\n",
    "\n",
    "    r = 4  # 3 rows: one for original and one for reconstructed images with VAE and AE\n",
    "    c = n_images  # Number of columns equals the number of images to display\n",
    "    fig, axs = plt.subplots(r, c, figsize=(10, 10))\n",
    "    for j in range(c):\n",
    "        # Display original images\n",
    "        axs[0, j].imshow(selected_imgs[j, 0, :, :], cmap='gray')\n",
    "        axs[0, j].axis('off')\n",
    "        # Display reconstructed (output VAE) images\n",
    "        axs[1, j].imshow(output_imgs_vae[j, 0, :, :], cmap='gray')\n",
    "        axs[1, j].axis('off')\n",
    "        # Display reconstructed (output VAE) images\n",
    "        axs[2, j].imshow(output_imgs_vae_not_noisy[j, 0, :, :], cmap='gray')\n",
    "        axs[2, j].axis('off')\n",
    "        # Display reconstructed (output AE) images\n",
    "        axs[3, j].imshow(output_imgs_ae[j, 0, :, :], cmap='gray')\n",
    "        axs[3, j].axis('off')\n",
    "    plt.suptitle(\"Original \\n VAE Reconstruction\\n VAE Reconstruction - No noise \\n AE Reconstruction\")\n",
    "    plt.show()\n",
    "\n",
    "# Example usage with mnist_train_loader (assuming ae_model is your VAE model)\n",
    "test_imgs = next(iter(mnist_train_loader))[0]\n",
    "display_vae_images(ae_model, vae_model, test_imgs)\n"
   ]
  },
  {
   "cell_type": "code",
   "execution_count": 53,
   "metadata": {},
   "outputs": [
    {
     "name": "stdout",
     "output_type": "stream",
     "text": [
      "torch.Size([5, 1, 28, 28])\n"
     ]
    },
    {
     "data": {
      "image/png": "[encoded data removed]",
      "text/plain": [
       "<Figure size 640x480 with 5 Axes>"
      ]
     },
     "metadata": {},
     "output_type": "display_data"
    }
   ],
   "source": [
    "\n",
    "def generate_images_vae(vae_model, n_images=5):\n",
    "    epsilon = torch.randn(n_images, vae_model.z_dim)\n",
    "    imgs_generated = vae_model.decoder(epsilon)\n",
    "    imgs_generated = imgs_generated.view(n_images, vae_model.n_channels, vae_model.n_rows, vae_model.n_cols)\n",
    "    return imgs_generated\n",
    "imgs_generated = generate_images_vae(vae_model,n_images=5)\n",
    "print(imgs_generated.shape)\n",
    "display_images(imgs_generated)"
   ]
  },
  {
   "cell_type": "markdown",
   "metadata": {
    "id": "lGnvKoynzaFN"
   },
   "source": [
    "Do you think the results are better ? What difference can you see ? What advantage does the Variational Autoencoder have over the simple autoencoder model, even though the second autoencoder approach has a more complex probabilistic latent model (a full covariance matrix) ?"
   ]
  },
  {
   "cell_type": "markdown",
   "metadata": {},
   "source": [
    "### Statistics of $q_\\phi$\n",
    "\n",
    "Remember, our goal was to create an autoencoder such that the distributions $q_{\\phi}(z|x)$ of each input data point in the latent space is a normal distribution, ie such that $\\mu=0$ and $\\sigma=1$ for all inputs. Let us see if this goal was attained.\n",
    "\n",
    "For this, take a batch of test images, and calculate the vectors $\\mu=0$ and $\\sigma=1$ of these images (recall that they should be 0 and 1). Now,use a 2D scatter plot on any two of the latent coordinates to visualise the values of $\\mu$ and $\\sigma$ (you can try several different combinations of the latent coordinates.\n",
    "\n",
    "You will need to use ```detach().numpy()``` to plot these values."
   ]
  },
  {
   "cell_type": "code",
   "execution_count": null,
   "metadata": {},
   "outputs": [],
   "source": [
    "# FILL IN STUDENT"
   ]
  },
  {
   "cell_type": "markdown",
   "metadata": {},
   "source": [
    "Do we indeed see most values around $\\mu=0$, $\\sigma=1$ ? Is this in fact possible ? Why ? What compromise are we trying to achieve ?"
   ]
  },
  {
   "cell_type": "markdown",
   "metadata": {
    "id": "uuYn3_PBzjkI"
   },
   "source": [
    "__Your answer:__"
   ]
  },
  {
   "cell_type": "markdown",
   "metadata": {
    "id": "uXm-D9Ef9vYm"
   },
   "source": [
    "Let us now compare the three models (AE diagonal covariance, AE full covariance and VAE) quantitavely."
   ]
  },
  {
   "cell_type": "markdown",
   "metadata": {
    "id": "04MddkzuE324"
   },
   "source": [
    "# 3 Evaluating and comparing the models\n",
    "\n",
    "We will evaluate the models, in the following manner:\n",
    "\n",
    "- we train a simple convolutional neural network classifier on mnist, to a good accuracy\n",
    "- we generate images with each model\n",
    "- we find the average of the highest probability of the images according to the classifier, for each model. If this value is high, it means that on average the classifier considers that the images look like a \n",
    "\n",
    "We will use the following convoluional architecture for the classifier:\n",
    "\n",
    "- conv2d, filter size  3×3 , 32 filters, stride=(2,2), padding=\"SAME\"\n",
    "- ReLU\n",
    "- conv2d, filter size  3×3 , 32 filters, stride=(2,2), padding=\"SAME\"\n",
    "- ReLU\n",
    "- MaxPool2D, stride=(2,2)\n",
    "- Flatten\n",
    "- Dense layer\n",
    "\n",
    "Now, define the model. To make things easier, use the ```torch.nn.Sequential``` API (there is no need for a Class in this simple case)."
   ]
  },
  {
   "cell_type": "code",
   "execution_count": null,
   "metadata": {
    "id": "P87a-DkXFOCv"
   },
   "outputs": [],
   "source": [
    "learning_rate = 0.01\n",
    "n_epochs = 20\n",
    "batch_size = 64\n",
    "nb_classes = int(mnist_trainset.targets.max()+1)\n",
    "\n",
    "# number of convolutional filters to use\n",
    "nb_filters = 32\n",
    "# convolution kernel size\n",
    "kernel_size = (3, 3)\n",
    "# size of pooling area for max pooling\n",
    "pool_size = (2, 2)\n",
    "\n",
    "# --- Size of the successive layers\n",
    "n_h_0 = 1 #greyscale input images\n",
    "n_h_1 = nb_filters\n",
    "n_h_2 = nb_filters\n",
    "\n",
    "mnist_classification_model = ... # FILL IN CODE HERE\n",
    "\n",
    "criterion = ... # FILL IN CODE HERE\n",
    "optimizer = torch.optim.Adam(mnist_classification_model.parameters(), lr=learning_rate)"
   ]
  },
  {
   "cell_type": "markdown",
   "metadata": {
    "id": "_sUZONxw2bnt"
   },
   "source": [
    "Create a function to calculate accuracy, instead of loss"
   ]
  },
  {
   "cell_type": "code",
   "execution_count": null,
   "metadata": {
    "id": "aOww0ydr2fT0"
   },
   "outputs": [],
   "source": [
    "def get_accuracy(x_pred,x_label):\n",
    "  acc = torch.sum(x_pred == x_label)/(x_pred.shape[0])\n",
    "  return acc"
   ]
  },
  {
   "cell_type": "markdown",
   "metadata": {
    "id": "qw0vkZIqFcse"
   },
   "source": [
    "Now, train the model. You should be able to achieve an accuracy close to 1.00 within 20 epochs"
   ]
  },
  {
   "cell_type": "code",
   "execution_count": null,
   "metadata": {
    "id": "0FA8YoX2FcHP"
   },
   "outputs": [],
   "source": [
    "train_losses=[]\n",
    "valid_losses=[]\n",
    "\n",
    "for epoch in range(0,n_epochs):\n",
    "  train_loss=0.0\n",
    "\n",
    "  for batch_idx, (imgs, labels) in enumerate(mnist_train_loader):\n",
    "\n",
    "    # set the gradients back to 0\n",
    "    optimizer.zero_grad()\n",
    "    predict=mnist_classification_model(imgs)\n",
    "    # apply loss function\n",
    "    loss=criterion(predict,labels)\n",
    "    acc = get_accuracy(torch.argmax(predict,dim=1),labels)\n",
    "    # backpropagation\n",
    "    loss.backward()\n",
    "    optimizer.step()\n",
    "    train_loss=loss.item()\n",
    "  print('Epoch:{} Train Loss:{:.4f} Accuracy:{:.4f}'.format(epoch,train_loss/imgs.shape[0],acc))"
   ]
  },
  {
   "cell_type": "markdown",
   "metadata": {
    "id": "zFgN5LblFwTa"
   },
   "source": [
    "### Evaluate the average maximum prediction of the images generated by each generative model (higher is better)\n",
    "\n",
    "Now, we will evaluate the models. For each ones, produce a certain number of images, and put those images through the classification network. Then find the maximum class probability of each image, and average it over all the images. We will use this as a metric to evaluate each model.\n",
    "\n",
    "__CAREFUL__: the output of the network does __not__ include the Softmax layer, so you will have to carry it out, with:\n",
    "- ```torch.nn.Softmax()(...)```\n",
    "\n",
    "Define this metric now:"
   ]
  },
  {
   "cell_type": "code",
   "execution_count": null,
   "metadata": {
    "id": "lCJ_0qqjOXHT"
   },
   "outputs": [],
   "source": [
    "def generative_model_score(imgs_in,classification_model):\n",
    "  gen_score = ... # FILL IN CODE HERE\n",
    "  return(gen_score)"
   ]
  },
  {
   "cell_type": "markdown",
   "metadata": {
    "id": "yGq7YFg51UoP"
   },
   "source": [
    "Now, generate some images with each of the three models, and evaluate these models:"
   ]
  },
  {
   "cell_type": "code",
   "execution_count": null,
   "metadata": {
    "id": "4-L4u2jhILFx"
   },
   "outputs": [],
   "source": [
    "imgs_diagonal_gaussian = generate_images_diagonal_gaussian(ae_model,z_average,z_sigma,n_images = 50)\n",
    "imgs_non_diagonal_gaussian = generate_images_non_diagonal_gaussian(ae_model,z_average,z_covariance,n_images = 50)\n",
    "imgs_vae = generate_images_vae(vae_model,n_images=50)\n",
    "\n",
    "# average of maximum of first model \n",
    "diagonal_gaussian_score = float(generative_model_score(imgs_diagonal_gaussian,mnist_classification_model))\n",
    "non_diagonal_gaussian_score = float(generative_model_score(imgs_non_diagonal_gaussian,mnist_classification_model))\n",
    "vae_gaussian_score = float(generative_model_score(imgs_vae,mnist_classification_model))\n",
    "\n",
    "print(\"Diagonal gaussian generative model score : \",diagonal_gaussian_score)\n",
    "print(\"Non diagonal gaussian generative model score : \",non_diagonal_gaussian_score)\n",
    "print(\"Variational autoencoder model score: \",vae_gaussian_score) "
   ]
  },
  {
   "cell_type": "markdown",
   "metadata": {
    "id": "sxvsG8FC1gNS"
   },
   "source": [
    "Please answer the following questions:\n",
    "\n",
    "- Which model is better quantitatively ? \n",
    "- Do the quantitative result support the qualitative results ?\n",
    "- Can you see any drawbacks of this method of evaluation ?\n",
    "- Can you propose any more sophisticated models than the multivariate Gaussian approach (apart from the variational autoencoder) ? "
   ]
  },
  {
   "cell_type": "markdown",
   "metadata": {
    "id": "3SYCyfKR3G7Y"
   },
   "source": [
    "__Your answer__"
   ]
  },
  {
   "cell_type": "code",
   "execution_count": null,
   "metadata": {},
   "outputs": [],
   "source": []
  }
 ],
 "metadata": {
  "accelerator": "GPU",
  "colab": {
   "provenance": []
  },
  "kernelspec": {
   "display_name": "Python 3 (ipykernel)",
   "language": "python",
   "name": "python3"
  },
  "language_info": {
   "codemirror_mode": {
    "name": "ipython",
    "version": 3
   },
   "file_extension": ".py",
   "mimetype": "text/x-python",
   "name": "python",
   "nbconvert_exporter": "python",
   "pygments_lexer": "ipython3",
   "version": "3.10.12"
  }
 },
 "nbformat": 4,
 "nbformat_minor": 4
}
