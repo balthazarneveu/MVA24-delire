{
 "cells": [
  {
   "cell_type": "markdown",
   "metadata": {},
   "source": [
    "# Student information\n",
    "Student: Balthazar Neveu\n",
    "\n",
    "🔗 [Github](https://github.com/balthazarneveu/MVA24-delire) | [Online page for this class lab session](https://balthazarneveu.github.io/MVA24-delire)\n",
    "\n",
    "⭐ [Online HTML version of this notebook](https://balthazarneveu.github.io/MVA24-delire/TP_4/tp_4.html)"
   ]
  },
  {
   "cell_type": "markdown",
   "metadata": {
    "id": "TdpPHz2Lp6VD"
   },
   "source": [
    "# TP Coding autoencoders and variational autoencoders in Pytorch\n",
    "\n",
    "Author : Alasdair Newson\n",
    "alasdair.newson@telecom-paris.fr\n",
    "\n",
    "## Objective:\n",
    "\n",
    "The goal of this TP is to explore autoencoders and variational autoencoders applied to a simple dataset. In this first part, we will look at an autoencoder applied to MNIST. We recall that an autoencoder is a neural network with the following general architecture:\n",
    "\n",
    "\n",
    "![AUTOENCODER](https://perso.telecom-paristech.fr/anewson/doc/images/autoencoder_illustration_2.png)\n",
    "\n",
    "The tensor $z$ in the middle of the network is called a __latent code__, and it belongs to the latent space. It is this latent space which is interesting in autoencoders (for image synthesis, editing, etc).\n",
    "\n",
    "### Your task:\n",
    "You need to add the missing parts in the code (parts between # --- START CODE HERE and # --- END CODE HERE or # FILL IN CODE)\n",
    "\n",
    "\n",
    "First of all, let's load some packages"
   ]
  },
  {
   "cell_type": "code",
   "execution_count": 1,
   "metadata": {
    "id": "JqNeIJ8Op8Ao"
   },
   "outputs": [],
   "source": [
    "import torch\n",
    "import torch.optim as optim\n",
    "from torchvision import datasets, transforms\n",
    "from torch.autograd import Variable\n",
    "from torchvision.utils import save_image\n",
    "from tqdm import tqdm\n",
    "from pathlib import Path\n",
    "import numpy as np\n",
    "import matplotlib.pyplot as plt\n",
    "device = \"cuda\" if torch.cuda.is_available() else \"cpu\"\n",
    "\n",
    "def display_images(imgs):\n",
    "  r = 1\n",
    "  c = imgs.shape[0]\n",
    "  fig, axs = plt.subplots(r, c)\n",
    "  for j in range(c):\n",
    "    #black and white images\n",
    "    axs[j].imshow(pytorch_to_numpy(imgs[j, 0,:,:]), cmap='gray')\n",
    "    axs[j].axis('off')\n",
    "  plt.show()\n",
    "\n",
    "\n",
    "def pytorch_to_numpy(x):\n",
    "  return x.detach().numpy()\n",
    "\n",
    "ae_dim_1 = 512\n",
    "ae_dim_2 = 256\n",
    "z_dim = 10\n",
    "batch_size = 128"
   ]
  },
  {
   "cell_type": "markdown",
   "metadata": {
    "id": "Hyj5dj_eui9D"
   },
   "source": [
    "First, we load the mnist dataset."
   ]
  },
  {
   "cell_type": "code",
   "execution_count": 2,
   "metadata": {
    "id": "4YPLKlPrufSk"
   },
   "outputs": [
    {
     "name": "stderr",
     "output_type": "stream",
     "text": [
      "/home/bneveu/.local/lib/python3.10/site-packages/torchvision/datasets/mnist.py:75: UserWarning: train_data has been renamed data\n",
      "  warnings.warn(\"train_data has been renamed data\")\n"
     ]
    },
    {
     "data": {
      "text/plain": [
       "torch.Size([60000, 28, 28])"
      ]
     },
     "execution_count": 2,
     "metadata": {},
     "output_type": "execute_result"
    }
   ],
   "source": [
    "data_path = Path('./mnist_data')\n",
    "# MNIST Dataset\n",
    "mnist_trainset = datasets.MNIST(root=data_path, train=True, transform=transforms.ToTensor(), download=True)\n",
    "mnist_testset = datasets.MNIST(root=data_path, train=False, transform=transforms.ToTensor(), download=False)\n",
    "\n",
    "#create data loader with smaller dataset size\n",
    "max_mnist_size = 1000\n",
    "mnist_trainset_reduced = torch.utils.data.random_split(mnist_trainset, [max_mnist_size, len(mnist_trainset)-max_mnist_size])[0] \n",
    "mnist_train_loader = torch.utils.data.DataLoader(mnist_trainset_reduced, batch_size=batch_size, shuffle=True,drop_last=True)\n",
    "\n",
    "# download test dataset\n",
    "max_mnist_size = 512\n",
    "mnist_testset_reduced = torch.utils.data.random_split(mnist_testset, [max_mnist_size, len(mnist_testset)-max_mnist_size])[0] \n",
    "mnist_test_loader = torch.utils.data.DataLoader(mnist_testset_reduced, batch_size=batch_size, shuffle=True,drop_last=True)\n",
    "\n",
    "mnist_trainset_reduced.dataset.train_data.shape"
   ]
  },
  {
   "cell_type": "markdown",
   "metadata": {
    "id": "t-bkK4ktwfvC"
   },
   "source": [
    "# 1 Vanilla Autoencoder\n",
    "\n",
    "Now, we define the general parameters of the autoencoder"
   ]
  },
  {
   "cell_type": "code",
   "execution_count": 3,
   "metadata": {
    "id": "mD56EDzbvUxq"
   },
   "outputs": [],
   "source": [
    "# autoencoder parameters\n",
    "n_rows = mnist_trainset_reduced.dataset.train_data.shape[1]\n",
    "n_cols = mnist_trainset_reduced.dataset.train_data.shape[2]\n",
    "n_channels = 1\n",
    "n_pixels = n_rows*n_cols\n",
    "\n",
    "img_shape = (n_rows, n_cols, n_channels)\n",
    "n_epochs = 150"
   ]
  },
  {
   "cell_type": "markdown",
   "metadata": {
    "id": "6jLa2-jQwxSI"
   },
   "source": [
    "Now, define the autoencoder architecture. In the first part, we will use the following MLP architecture :\n",
    "\n",
    "Encoder :\n",
    "- Flatten input\n",
    "- Dense layer, output size h_dim_1 + ReLU\n",
    "- Dense layer, output size h_dim_2 + ReLU\n",
    "- Dense layer, output size z_dim (no non-linearity)\n",
    "\n",
    "Decoder :\n",
    "- Dense layer, output size h_dim_2 + ReLU\n",
    "- Dense layer, output size h_dim_1 + ReLU\n",
    "- Dense layer, output size x_dim + Sigmoid Activation\n",
    "- Reshape, to size $28\\times 28\\times 1$\n",
    "\n",
    "For the Reshape operation, use the ```A.view(dim_1,dim_2,...)``` function, where ```A``` is your tensor."
   ]
  },
  {
   "cell_type": "code",
   "execution_count": 39,
   "metadata": {
    "id": "tEuZfnUlXxMl"
   },
   "outputs": [],
   "source": [
    "class AE(torch.nn.Module ):\n",
    "  def __init__(self, x_dim: int, h_dim1: int, h_dim2: int, z_dim: int,n_rows: int,n_cols: int,n_channels: int):\n",
    "    \"\"\"Autoencoder - fully connected for fixed size 28x28 MNIST images - (not convolutional, sorry Mr Lecun)\n",
    "\n",
    "    Args:\n",
    "        x_dim (int): 28²\n",
    "        h_dim1 (int): hidden dimension layer 1\n",
    "        h_dim2 (int): hidden dimension layer 2\n",
    "        z_dim (int): latent dimension\n",
    "        n_rows (int): height of the image\n",
    "        n_cols (int): width of the image\n",
    "        n_channels (int): number of channels\n",
    "    \"\"\"\n",
    "    super(AE, self).__init__()\n",
    "    assert n_cols*n_rows == x_dim, \"wrong dimension\"\n",
    "    self.n_rows = n_rows\n",
    "    self.n_cols = n_cols\n",
    "    self.n_channels = n_channels\n",
    "    self.n_pixels = (self.n_rows)*(self.n_cols)\n",
    "    self.z_dim = z_dim\n",
    "\n",
    "    # encoder part\n",
    "    self.fc1 =  torch.nn.Linear(x_dim,  h_dim1)\n",
    "    self.fc2 = torch.nn.Linear(h_dim1,  h_dim2)\n",
    "    self.fc3 = torch.nn.Linear(h_dim2,  z_dim)\n",
    "    self.non_lin = torch.nn.ReLU()\n",
    "    self.encoder = torch.nn.Sequential(\n",
    "      self.fc1, self.non_lin, self.fc2, self.non_lin, self.fc3\n",
    "    )\n",
    "    # decoder part\n",
    "    self.fc4 = torch.nn.Linear(z_dim,  h_dim2)\n",
    "    self.fc5 = torch.nn.Linear(h_dim2,  h_dim1)\n",
    "    self.fc6 = torch.nn.Linear(h_dim1,  x_dim)\n",
    "    self.sigmoid = torch.nn.Sigmoid()\n",
    "    self.decoder = torch.nn.Sequential(\n",
    "      self.fc4, self.non_lin, self.fc5, self.non_lin, self.fc6, self.sigmoid\n",
    "    )\n",
    "\n",
    "  def forward(self, x):\n",
    "    # N, (C=1), H, W -> N, C*H*W\n",
    "    z = self.encoder(x.view(-1, self.n_pixels))\n",
    "    y = self.decoder(z)\n",
    "    y = y.view(x.shape)\n",
    "    return y\n",
    "  def loss_function(self,x, y):\n",
    "    mse_loss = torch.nn.functional.mse_loss(x, y, reduction=\"mean\")\n",
    "    return torch.mean(mse_loss)\n",
    "\n",
    "# sanity check\n",
    "ae_model = AE(x_dim=n_pixels, h_dim1= ae_dim_1, h_dim2=ae_dim_2, z_dim=z_dim,n_rows=n_rows,n_cols=n_cols,n_channels=n_channels)\n",
    "x_in = torch.rand(10, n_rows, n_cols, n_channels)\n",
    "x_out = ae_model(x_in)\n",
    "assert x_out.shape == x_in.shape, \"wrong shape\""
   ]
  },
  {
   "cell_type": "markdown",
   "metadata": {
    "id": "-659aM36xvXX"
   },
   "source": [
    "Now, define a generic function to train the model for one epoch"
   ]
  },
  {
   "cell_type": "code",
   "execution_count": 45,
   "metadata": {
    "id": "wfqX6Brlxjyi"
   },
   "outputs": [],
   "source": [
    "def train_ae(ae_model, ae_optimizer, data_train_loader, data_val_loader, epoch, current_device=device):\n",
    "\tae_model.train()\n",
    "\ttrain_loss = 0\n",
    "\tval_loss = 0\n",
    "\t# for batch_idx, (data, _) in enumerate(tqdm(data_train_loader)):\n",
    "\tfor batch_idx, (data, _) in enumerate(data_train_loader):\n",
    "\t\tae_optimizer.zero_grad()\n",
    "\t\tdata = data.to(current_device)\n",
    "\t\ty = ae_model(data)\n",
    "\t\tloss_ae = ae_model.loss_function(y, data)\n",
    "\n",
    "\t\tloss_ae.backward()\n",
    "\t\ttrain_loss += loss_ae.item()\n",
    "\t\tae_optimizer.step()\n",
    "\tae_model.eval()\n",
    "\twith torch.no_grad():\n",
    "\t\tfor batch_idx, (data, _) in enumerate(data_val_loader):\n",
    "\t\t\tdata = data.to(current_device)\n",
    "\t\t\ty = ae_model(data)\n",
    "\t\t\tloss_ae = ae_model.loss_function(y, data)\n",
    "\t\t\tval_loss += loss_ae.item()\n",
    "\t\t\tae_optimizer.step()\n",
    "\n",
    "\t\t# if batch_idx % 100 == 0:\n",
    "\t\t# \tprint('Train Epoch: {} [{}/{} ({:.0f}%)]\\tLoss: {:.6f}'.format(\n",
    "\t\t# \t\tepoch, batch_idx * len(data), len(data_train_loader.dataset),\n",
    "\t\t# \t\t100. * batch_idx / len(data_train_loader), loss_ae.item() / len(data)))\n",
    "\t\n",
    "\t# print('====> Epoch: {} Average loss: {:.4f}'.format(epoch, train_loss / len(data_train_loader.dataset)))\n",
    "\treturn train_loss / len(data_train_loader.dataset), val_loss / len(data_val_loader.dataset)\n"
   ]
  },
  {
   "cell_type": "markdown",
   "metadata": {
    "id": "w3EbmswSzJdK"
   },
   "source": [
    "We define a function to carry out testing on the autoencoder model"
   ]
  },
  {
   "cell_type": "code",
   "execution_count": 46,
   "metadata": {
    "id": "11q_0PSibZk-"
   },
   "outputs": [
    {
     "name": "stderr",
     "output_type": "stream",
     "text": [
      "  0%|          | 0/150 [00:00<?, ?it/s]"
     ]
    },
    {
     "name": "stderr",
     "output_type": "stream",
     "text": [
      "100%|██████████| 150/150 [00:44<00:00,  3.35it/s]"
     ]
    },
    {
     "name": "stdout",
     "output_type": "stream",
     "text": [
      "====> Epoch: 149 Train loss: 0.0001\tValidation loss: 0.0002\n"
     ]
    },
    {
     "name": "stderr",
     "output_type": "stream",
     "text": [
      "\n"
     ]
    }
   ],
   "source": [
    "# create model\n",
    "\n",
    "ae_model = AE(x_dim=n_pixels, h_dim1= ae_dim_1, h_dim2=ae_dim_2, z_dim=z_dim,n_rows=n_rows,n_cols=n_cols,n_channels=n_channels)\n",
    "ae_optim = optim.Adam(ae_model.parameters())\n",
    "\n",
    "# train model\n",
    "train_losses = []\n",
    "val_losses = []\n",
    "ae_model.to(device)\n",
    "for epoch in tqdm(range(0, n_epochs)):\n",
    "  train_loss, val_loss = train_ae(ae_model, ae_optim, mnist_train_loader, mnist_test_loader, epoch, current_device=device)\n",
    "  train_losses.append(train_loss)\n",
    "  val_losses.append(val_loss)\n",
    "ae_model.to(\"cpu\")\n",
    "print(f'====> Epoch: {epoch} Train loss: {train_loss:.4f}\\tValidation loss: {val_loss:.4f}')"
   ]
  },
  {
   "cell_type": "code",
   "execution_count": 47,
   "metadata": {},
   "outputs": [
    {
     "data": {
      "image/png": "[encoded data removed]",
      "text/plain": [
       "<Figure size 500x500 with 1 Axes>"
      ]
     },
     "metadata": {},
     "output_type": "display_data"
    }
   ],
   "source": [
    "plt.figure(figsize=(5,5))\n",
    "plt.plot(train_losses, label=f\"Training loss {val_losses[-1]:.3e}\")\n",
    "plt.plot(val_losses, label=f\"Validation loss {val_losses[-1]:.3e}\")\n",
    "plt.grid()\n",
    "plt.title(\"Training metrics\")\n",
    "plt.legend()\n",
    "plt.show()"
   ]
  },
  {
   "cell_type": "code",
   "execution_count": 52,
   "metadata": {},
   "outputs": [],
   "source": [
    "def display_ae_images(ae_model, test_imgs):\n",
    "  n_images = 5\n",
    "  idx = np.random.randint(0, test_imgs.shape[0], n_images)\n",
    "  test_imgs = test_imgs[idx,:,:,:]\n",
    "\n",
    "  #get output images\n",
    "  output_imgs = pytorch_to_numpy(ae_model.forward( test_imgs ))\n",
    "  \n",
    "  r = 2\n",
    "  c = n_images\n",
    "  fig, axs = plt.subplots(r, c)\n",
    "  for j in range(c):\n",
    "    #black and white images\n",
    "    axs[0,j].imshow(test_imgs[j, 0,:,:], cmap='gray')\n",
    "    axs[0,j].axis('off')\n",
    "    axs[1,j].imshow(output_imgs[j, 0,:,:], cmap='gray')\n",
    "    axs[1,j].axis('off')\n",
    "  plt.suptitle(f\"(top row) Original\\n (bottom row) AE compressed/decompressed images\\ncompression ratio {z_dim/n_pixels:.3%}\")\n",
    "  plt.show()"
   ]
  },
  {
   "cell_type": "code",
   "execution_count": 53,
   "metadata": {
    "id": "9pbXch29d68D"
   },
   "outputs": [
    {
     "data": {
      "image/png": "[encoded data removed]",
      "text/plain": [
       "<Figure size 640x480 with 10 Axes>"
      ]
     },
     "metadata": {},
     "output_type": "display_data"
    }
   ],
   "source": [
    "test_imgs = next(iter(mnist_train_loader))[0]\n",
    "display_ae_images(ae_model, test_imgs)"
   ]
  },
  {
   "cell_type": "markdown",
   "metadata": {
    "id": "assPaJqB5sa-"
   },
   "source": [
    "__Question__ Are you satisfied with the results, do they look good ?"
   ]
  },
  {
   "cell_type": "markdown",
   "metadata": {
    "id": "Q7uoWa4O5x8R"
   },
   "source": [
    "__Your answer:__\n",
    "Overall, digits look similar to the input despite the auto-encoder high compression rate (factor 1.276%).\n",
    "The images look slightly blurier than the inputs.\n",
    "Some details are removed if you look carefully, for instance the loop in the 4th image (the second six) has been closed.\n",
    "\n",
    "![](figures/ae_samples.png)"
   ]
  },
  {
   "cell_type": "markdown",
   "metadata": {
    "id": "zO9ATQEiyr3b"
   },
   "source": [
    "## 2/ Two simple generative models\n",
    "\n",
    "In this section, we consider two naïve approaches to creating generative models. The general idea is the following:\n",
    "\n",
    "- train an autoencoder\n",
    "- estimate different statistics (average, variance) of the data in the latent space\n",
    "- using these statistics, define a model based on a Gaussian distribution\n",
    "- generate data with this distribution\n",
    "\n",
    "We will consider these two situations :\n",
    "\n",
    "- a multivariate Gaussian distribution with __diagonal covariance matrix__ (each latent component is an independent random variable). This requires the average and variance in each latent component\n",
    "- a multivariate Gaussian distribution with __non-diagonal covariance matrix__. This requires the average and covariance matrix of the latent components\n",
    "\n",
    "Obviously, since this is done _a posteriori_ after training the autoencoder, there is nothing which guarantees that the latent codes do indeed follow a Gaussian distribution. Our goal will be to verify that Variational Autoencoders indeed produce better results than such naïve approaches."
   ]
  },
  {
   "cell_type": "markdown",
   "metadata": {
    "id": "x2M1-BRmf56d"
   },
   "source": [
    "## 2.0 Defining and generating random Gaussian latent codes\n",
    "\n",
    "Let $z$ be a latent code and $d$ the dimension of the latent space (called ``z_dim`` in the code). We suppose that the $z$'s follow a multivariate Gaussian distribution, written as:\n",
    "\n",
    "\\begin{equation}\n",
    "z \\sim \\mathcal{N}\\left(\n",
    "\\mu,\n",
    "\\bf{C}\n",
    "\\right),\n",
    "\\end{equation}\n",
    "where $\\mu$ and $\\bf{C}$ are the average vector and covariance matrix of the Gaussian distribution. To define such a generative model, we must therefore determine $\\mu$ and $\\bf{C}$. Once this is done, we can generate a random Gaussian latent code in the following manner:\n",
    "\n",
    "\\begin{equation}\n",
    "z = \\mu + {\\bf{L}} \\varepsilon,\n",
    "\\end{equation}\n",
    "where $\\varepsilon$ is a random vector drawn from a multivariate normal distribution ($\\mu=0$ and ${\\bf{C}} = \\text{Id}$), and $\\bf{L}$ is the Cholesky decomposition of the positive semi-definite covariance matrix. In other words:\n",
    "\n",
    "\\begin{equation}\n",
    "{\\bf{C}} = {\\bf{L}}{\\bf{L}^T}.\n",
    "\\end{equation}\n",
    "\n",
    "This gives a simple method of producing a multivariate Gaussian random variable."
   ]
  },
  {
   "cell_type": "markdown",
   "metadata": {
    "id": "NWpucm972i7j"
   },
   "source": [
    "## 2.1/ A Gaussian model with diagonal covariance\n",
    "\n",
    "The first naïve model is  defined in this first case as:\n",
    "\n",
    "- $\\bf{\\mu}=\\left[\\mu_0, \\mu_1, \\cdots, \\mu_{d-1}\\right]^T$\n",
    "- $\n",
    "  \\bf{C} = \\begin{pmatrix}\n",
    "\\sigma_0^2 & 0 & \\cdots & 0 \\\\\n",
    "0 & \\sigma_1^2 & \\cdots & 0 \\\\\n",
    "\\vdots & \\ddots & \\ddots & \\vdots \\\\\n",
    "0 & 0 & \\cdots & \\sigma_{d-1}^2\n",
    "\\end{pmatrix}$\n",
    "\n",
    "In this situation, therefore, the matrix $\\bf{L}$ can be calculated quite simply, as:\n",
    "- $\n",
    "  \\bf{L} = \\begin{pmatrix}\n",
    "\\sigma_0 & 0 & \\cdots & 0 \\\\\n",
    "0 & \\sigma_1 & \\cdots & 0 \\\\\n",
    "\\vdots & \\ddots & \\ddots & \\vdots \\\\\n",
    "0 & 0 & \\cdots & \\sigma_{d-1}\n",
    "\\end{pmatrix}$\n",
    "\n",
    "In the next cell, calculate the empirical average and variances over a certain number of batches:"
   ]
  },
  {
   "cell_type": "code",
   "execution_count": 54,
   "metadata": {
    "id": "sUXHCtvW2iQ0"
   },
   "outputs": [
    {
     "name": "stdout",
     "output_type": "stream",
     "text": [
      "Average of latent codes: tensor([ 0.0077, -2.1128,  0.6970, -0.2213,  1.1373,  0.4577,  0.0103, -0.5062,\n",
      "        -0.6427, -0.3766])\n",
      "Standard deviation of latent codes: tensor([2.3070, 2.6906, 2.4968, 3.1975, 2.5280, 2.5492, 2.3500, 3.2531, 2.4632,\n",
      "        2.2708])\n"
     ]
    }
   ],
   "source": [
    "n_batches = np.floor(len(mnist_train_loader.dataset.indices)/batch_size).astype(int)\n",
    "with torch.no_grad():\n",
    "    ae_model.eval()\n",
    "    z_average = torch.zeros(n_batches, ae_model.z_dim)\n",
    "    z_sigma = torch.zeros(n_batches, ae_model.z_dim)\n",
    "\n",
    "    for batch_idx, (data, _) in enumerate(mnist_train_loader):\n",
    "        z = ae_model.encoder(data.view(data.shape[0], -1))\n",
    "        z_average[batch_idx, :] = torch.mean(z, 0)\n",
    "        z_sigma[batch_idx, :] = torch.std(z, 0)\n",
    "\n",
    "    z_average = torch.mean(z_average, 0)\n",
    "    z_sigma = torch.mean(z_sigma, 0)\n",
    "\n",
    "print(\"Average of latent codes:\", z_average)\n",
    "print(\"Standard deviation of latent codes:\", z_sigma)"
   ]
  },
  {
   "cell_type": "markdown",
   "metadata": {
    "id": "Lrpc62ML9K4l"
   },
   "source": [
    "Now, in the next cell generate data with this simple generative model using the approach described above. Display these images with the ``display_images`` function. \n",
    "\n",
    "__NB__ You do not actually have to define the matrix $\\bf{L}$ in this case, an element-wise multiplication of two (properly chosen) vectors will suffice. To generate multivariate normal random variables you can use the following Pytorch function:\n",
    "\n",
    "- ```torch.randn```\n"
   ]
  },
  {
   "cell_type": "code",
   "execution_count": 55,
   "metadata": {
    "id": "1_Tekii-9QEo"
   },
   "outputs": [
    {
     "data": {
      "image/png": "[encoded data removed]",
      "text/plain": [
       "<Figure size 640x480 with 5 Axes>"
      ]
     },
     "metadata": {},
     "output_type": "display_data"
    },
    {
     "data": {
      "image/png": "[encoded data removed]",
      "text/plain": [
       "<Figure size 640x480 with 5 Axes>"
      ]
     },
     "metadata": {},
     "output_type": "display_data"
    },
    {
     "data": {
      "image/png": "[encoded data removed]",
      "text/plain": [
       "<Figure size 640x480 with 5 Axes>"
      ]
     },
     "metadata": {},
     "output_type": "display_data"
    },
    {
     "data": {
      "image/png": "[encoded data removed]",
      "text/plain": [
       "<Figure size 640x480 with 5 Axes>"
      ]
     },
     "metadata": {},
     "output_type": "display_data"
    }
   ],
   "source": [
    "def generate_images_diagonal_gaussian(\n",
    "    ae_model: AE,\n",
    "    z_average: torch.Tensor,\n",
    "    z_sigma: torch.Tensor ,n_images: int = 5) -> torch.Tensor:\n",
    "  epsilon =  torch.randn(n_images, ae_model.z_dim)\n",
    "  # z_generated = torch.matmul(epsilon,torch.diag(z_sigma)) + z_average\n",
    "  z_generated = z_average + z_sigma*epsilon\n",
    "  imgs_generated = ae_model.decoder(z_generated)\n",
    "  imgs_generated = imgs_generated.view(n_images,1,n_rows,n_cols)\n",
    "  return(imgs_generated)\n",
    "\n",
    "imgs_generated = generate_images_diagonal_gaussian(ae_model,z_average,z_sigma,n_images=20)\n",
    "display_images(imgs_generated[:5])\n",
    "display_images(imgs_generated[5:10])\n",
    "display_images(imgs_generated[10:15])\n",
    "display_images(imgs_generated[15:20])"
   ]
  },
  {
   "cell_type": "markdown",
   "metadata": {
    "id": "xiNaEgLIloeA"
   },
   "source": [
    "As you should be able to see, these results are not that good. Let's try a slightly more sophisticated model.\n",
    "\n",
    "![](figures/ae_latent_diagonal_generation.png)"
   ]
  },
  {
   "cell_type": "markdown",
   "metadata": {
    "id": "WjVPfkRKYMSh"
   },
   "source": [
    "## 2.1 Non-diagonal Gaussian model\n",
    "\n",
    "The second model uses a non-diagonal covariance matrix $\\bf{C}$ in the multivariate Gaussian distribution. In the next cell, calculate the average and covariance matrix over several batches of latent codes.\n",
    "\n",
    "__NB__ You can use the ```torch.cov``` function. Make sure to put the data in the right format for this (see documentation : https://pytorch.org/docs/stable/generated/torch.cov.html)."
   ]
  },
  {
   "cell_type": "code",
   "execution_count": 56,
   "metadata": {
    "id": "ArXgre39CD2H"
   },
   "outputs": [
    {
     "name": "stdout",
     "output_type": "stream",
     "text": [
      "Average of latent codes: tensor([-2.2352e-02, -1.9931e+00,  6.7194e-01, -2.5558e-01,  1.0753e+00,\n",
      "         4.4842e-01,  1.8346e-03, -4.3701e-01, -6.4506e-01, -3.5401e-01])\n",
      "Covariance matrix of latent codes: tensor([[ 5.5011e+00, -1.4501e-01,  6.9953e-01,  7.2065e-01,  1.6459e+00,\n",
      "         -1.6982e+00,  8.2318e-01, -2.1565e+00, -1.6772e+00,  1.3901e+00],\n",
      "        [-1.4501e-01,  7.1090e+00,  7.2658e-01, -1.3649e+00, -2.5255e+00,\n",
      "         -1.2535e+00, -7.3220e-01,  2.5282e+00, -1.1856e-01,  2.6559e+00],\n",
      "        [ 6.9953e-01,  7.2658e-01,  6.1916e+00, -2.0698e-01,  1.6283e+00,\n",
      "         -6.6722e-01,  1.2258e+00,  3.0424e+00,  1.4155e-01,  1.4350e+00],\n",
      "        [ 7.2065e-01, -1.3649e+00, -2.0698e-01,  1.0285e+01,  1.8405e+00,\n",
      "         -1.1649e+00, -5.6057e-01,  6.6624e-01, -6.3016e-01, -1.8868e-01],\n",
      "        [ 1.6459e+00, -2.5255e+00,  1.6283e+00,  1.8405e+00,  6.4638e+00,\n",
      "          1.6134e+00, -7.8027e-01, -1.0840e+00, -7.5340e-03,  2.3952e+00],\n",
      "        [-1.6982e+00, -1.2535e+00, -6.6722e-01, -1.1649e+00,  1.6134e+00,\n",
      "          6.5297e+00, -2.2717e+00,  1.2590e-01,  2.4004e+00,  1.7858e+00],\n",
      "        [ 8.2318e-01, -7.3220e-01,  1.2258e+00, -5.6057e-01, -7.8027e-01,\n",
      "         -2.2717e+00,  5.5102e+00, -1.4543e+00, -1.3838e+00, -3.1966e+00],\n",
      "        [-2.1565e+00,  2.5282e+00,  3.0424e+00,  6.6624e-01, -1.0840e+00,\n",
      "          1.2590e-01, -1.4543e+00,  1.0732e+01,  2.4148e-01,  3.1946e-01],\n",
      "        [-1.6772e+00, -1.1856e-01,  1.4155e-01, -6.3016e-01, -7.5340e-03,\n",
      "          2.4004e+00, -1.3838e+00,  2.4148e-01,  5.9107e+00,  7.3436e-01],\n",
      "        [ 1.3901e+00,  2.6559e+00,  1.4350e+00, -1.8868e-01,  2.3952e+00,\n",
      "          1.7858e+00, -3.1966e+00,  3.1946e-01,  7.3436e-01,  5.1766e+00]])\n"
     ]
    }
   ],
   "source": [
    "n_batches = np.floor(len(mnist_train_loader.dataset.indices)/batch_size).astype(int)\n",
    "with torch.no_grad():\n",
    "    ae_model.eval()\n",
    "    z_average = torch.zeros(n_batches, ae_model.z_dim)\n",
    "    z_covariance_approx = torch.zeros(n_batches, ae_model.z_dim, ae_model.z_dim)\n",
    "    latents_stack = torch.zeros(n_batches, mnist_train_loader.batch_size, ae_model.z_dim)\n",
    "    for batch_idx, (data, _) in enumerate(mnist_train_loader):\n",
    "        z = ae_model.encoder(data.view(data.shape[0],-1))\n",
    "        z_average[batch_idx, :] = torch.mean(z, 0)\n",
    "        # z_covariance_approx[batch_idx, :, :] = torch.cov(z.T)\n",
    "        # similar to (torch.matmul((z-z_average).T,(z-z_average))/z.shape[0])\n",
    "        latents_stack[batch_idx, :, :] = z\n",
    "    z_average = torch.mean(z_average, 0)\n",
    "    # z_covariance_approx = torch.mean(z_covariance, 0) # THIS IS AN APPROXIMATION OF THE COVARIANCE MATRIX x²+y² != x²\n",
    "    z_covariance =torch.cov(latents_stack.view(-1, ae_model.z_dim).T)\n",
    "assert torch.allclose(z_covariance, z_covariance.T), \"Covariance matrix is not symmetric\"\n",
    "print(\"Average of latent codes:\", z_average)\n",
    "print(\"Covariance matrix of latent codes:\", z_covariance)"
   ]
  },
  {
   "cell_type": "markdown",
   "metadata": {
    "id": "JhXU8cnTZ0E8"
   },
   "source": [
    "Now, generate some samples with this distribution. In this case, you will actually have to calculate the Cholesky decomposition and find $\\bf{L}$. For this, you can use \n",
    "\n",
    "- ```torch.linalg.cholesky```\n",
    "\n",
    "In this model, you will need to carry out matrix multiplication over a batch of latent codes, which is a bit more complicated than the previous naïve model (which used element-wise vector multiplication). So you have two options:\n",
    "\n",
    "- copy the matrix $\\bf{L}$ several times and carry out batch matrix multiplication\n",
    "- simply loop and carry out normal matrix multiplication to produce each image (this has the disadvantage of not taking advantage of any parallelisation, but it should not matter too much).\n",
    "\n",
    "In the first case, you can use the following functions:\n",
    "\n",
    "- ```torch.bmm```\n",
    "- ```torch.tile```\n",
    "\n",
    "Fill in the function to generate images using this model now:"
   ]
  },
  {
   "cell_type": "code",
   "execution_count": 57,
   "metadata": {
    "id": "zXGlJTZ7Z4ed"
   },
   "outputs": [
    {
     "data": {
      "image/png": "[encoded data removed]",
      "text/plain": [
       "<Figure size 640x480 with 5 Axes>"
      ]
     },
     "metadata": {},
     "output_type": "display_data"
    },
    {
     "data": {
      "image/png": "[encoded data removed]",
      "text/plain": [
       "<Figure size 640x480 with 5 Axes>"
      ]
     },
     "metadata": {},
     "output_type": "display_data"
    },
    {
     "data": {
      "image/png": "[encoded data removed]",
      "text/plain": [
       "<Figure size 640x480 with 5 Axes>"
      ]
     },
     "metadata": {},
     "output_type": "display_data"
    },
    {
     "data": {
      "image/png": "[encoded data removed]",
      "text/plain": [
       "<Figure size 640x480 with 5 Axes>"
      ]
     },
     "metadata": {},
     "output_type": "display_data"
    }
   ],
   "source": [
    "def generate_images_non_diagonal_gaussian(ae_model: AE, z_average: torch.Tensor, z_covariance: torch.Tensor, n_images: int = 5) -> torch.Tensor:\n",
    "  # Calculate Cholesky decomposition of covariance matrix: C = L L^T\n",
    "  # Make sure that the first dimension is the batch dimension (with batch size n_images)\n",
    "  # You can use the torch.unsqueeze function for this\n",
    "  L = torch.linalg.cholesky(z_covariance)\n",
    "  epsilon = torch.randn(n_images, ae_model.z_dim)\n",
    "  z_generated = z_average + torch.matmul(epsilon, L.T)\n",
    "  imgs_generated = ae_model.decoder(z_generated)\n",
    "  imgs_generated = imgs_generated.view(n_images, 1, n_rows, n_cols)\n",
    "  return imgs_generated\n",
    "\n",
    "imgs_generated = generate_images_non_diagonal_gaussian(ae_model, z_average, z_covariance, n_images=20)\n",
    "display_images(imgs_generated[:5])\n",
    "display_images(imgs_generated[5:10])\n",
    "display_images(imgs_generated[10:15])\n",
    "display_images(imgs_generated[15:20])"
   ]
  },
  {
   "cell_type": "markdown",
   "metadata": {
    "id": "qLtsdri6zKEm"
   },
   "source": [
    "You should see some improvement, but we can do better than this. Thus, we turn to the variational autoencoder."
   ]
  },
  {
   "cell_type": "markdown",
   "metadata": {
    "id": "8UqeNhuSdnDt"
   },
   "source": [
    "# 3/ Variational autoencoder\n",
    "\n",
    "Now, we are going to create an variational autoencoder to carry out __image generation__. Let's first recall the idea of a variational autoencoder\n",
    "\n",
    "## Main idea\n",
    "\n",
    "The main idea is to create an autoencoder whose latent codes follow a certain distribution (a Gaussian distribution in practice). This is done with two tools : \n",
    "\n",
    "- A specific architecture, where the encoder produces the average and variance of the latent codes\n",
    "- A specially designed loss function\n",
    "\n",
    "Once the VAE is trained, it is possible to sample in the latent space by producing random normal variables and simply decoding.\n",
    "\n",
    "## Architecture\n",
    "\n",
    "The architecture of the VAE model is as follows:\n",
    "\n",
    "The encoder consists of:\n",
    "\n",
    "Encoder :\n",
    "- Flatten input\n",
    "- Dense layer $+$ ReLU\n",
    "- Dense layer $+$ ReLU\n",
    "- Dense layer (no non-linarity) to produce the average, Dense layer (no non-linarity) to produce the variance (these last two layers are in parallel)\n",
    "\n",
    "Decoder :\n",
    "- Dense layer $+$ ReLU\n",
    "- Dense layer $+$ ReLU\n",
    "- Dense layer $+$ Sigmoid Activation\n",
    "- Reshape, to size $28\\times 28\\times 1$\n",
    "\n",
    "\n",
    "## Variational Autoencoder loss\n",
    "\n",
    "Recall that for the VAE, the loss function is in fact a function to __maximise__. In fact, for implementation, you will see that it is easier to __minimise__ $-\\mathcal{L}$.\n",
    "\n",
    "In the case of an image which is represented by a set of __Bernoulli__ variables (which is relevant for mnist), the original loss function (to maximise) is written :\n",
    "\n",
    "\n",
    "\\begin{align}\n",
    "\\mathcal{L} &= \\log\\left(p_\\theta(x|z)\\right) - KL\\left( q_\\phi(z|x) \\; || \\; p_\\theta(z)\\right) \\\\\n",
    "    &= \\left(\\sum_{i} x_i \\log y_i + (1-x_i) \\log (1-y_i)\\right) - \\left(\\frac{1}{2} \\sum_j \\left( \\sigma_j^2 + \\mu_j^2 - \\log \\sigma_j^2 -1 \\right)\\right)\n",
    "\\end{align}\n",
    "\n",
    "\n",
    "where $i$ is summed over the image pixels, and $j$ is summed over the elements of the latent space. $\\sigma_j^2$ is the $j$th element of the latent space variance, and $\\mu_j$ is the $j$th element of the latent space mean.\n",
    "\n",
    "The left part of the loss (reconstruction error) can be implemented simply as the binary cross-entropy between the input x and the output y. Since we are __maximising__ $-$[binary cross-entropy] (look at the formula), this is equivalent to minimising the binary cross-entropy.\n",
    "\n",
    "For the right part of the equation (KL divergence), you need to implement it manually. \n",
    "\n",
    "The final loss is the average, over the batch size, of the sum of the reconstruction error (left part) and the KL divergence (right part). Be careful, in the formula, the sums over $i$ and $j$ are over the number of pixels and the number of latent elements, respectively. To achieve a sum rather than an average, you can use ```torch.nn.BCELoss(reduction='sum')()```, and the ```torch.sum()``` functions.\n",
    "\n",
    "As in the case of the normal autoencoder, you will need to flatten and then reshape the tensors at the beginning/end of the network."
   ]
  },
  {
   "cell_type": "code",
   "execution_count": null,
   "metadata": {
    "id": "6siMHQLheM4T"
   },
   "outputs": [],
   "source": [
    "from typing import Tuple\n",
    "class VAE(torch.nn.Module ):\n",
    "  def loss_function(self,x: torch.Tensor, y: torch.Tensor, mu: torch.Tensor, log_var: torch.Tensor) -> torch.Tensor:\n",
    "    \"\"\"Cross entropy loss function + KL divergence on the latent space µ and sigma\n",
    "    Warning: \n",
    "    - the reconstruction error should not be divided by the number of pixels in the image\n",
    "    - 1/2 is the KL weight\n",
    "\n",
    "    Args:\n",
    "        x (torch.Tensor): input N, C, H, W\n",
    "        y (torch.Tensor): output (to compute the reconstuction error)\n",
    "        mu (torch.Tensor): gaussian average µ\n",
    "        log_var (torch.Tensor): log of the variance (so we avoid negative variances)\n",
    "\n",
    "    Returns:\n",
    "        torch.Tensor: reconstruction error - 0.5 KL divergence between the prior and the standard normal distribution\n",
    "    \"\"\"\n",
    "    \n",
    "    # loss should be around 105-115\n",
    "    reconstruction_loss = torch.nn.BCELoss(reduction=\"sum\")\n",
    "    reconstruction_error = - reconstruction_loss(y, x)\n",
    "    variance = self.log_var_to_var(log_var) #exp basically\n",
    "    kld = mu**2 + variance - 1. - log_var\n",
    "    kld = kld.sum()\n",
    "    loss = (reconstruction_error - 0.5*kld)/x.shape[0] #average over the batch dimension!\n",
    "\n",
    "    return loss\n",
    "\n",
    "  def __init__(self, x_dim, h_dim1, h_dim2, z_dim,n_rows,n_cols,n_channels):\n",
    "    super(VAE, self).__init__()\n",
    "\n",
    "    self.n_rows = n_rows\n",
    "    self.n_cols = n_cols\n",
    "    self.n_channels = n_channels\n",
    "    self.n_pixels = (self.n_rows)*(self.n_cols)\n",
    "    self.z_dim = z_dim\n",
    "\n",
    "    # encoder part\n",
    "    self.non_lin = torch.nn.ReLU()\n",
    "    self.fc1 =  torch.nn.Linear(x_dim,  h_dim1)\n",
    "    self.fc2 = torch.nn.Linear(h_dim1,  h_dim2)\n",
    "    self.fc31 = torch.nn.Linear(h_dim2,  z_dim)\n",
    "    self.fc32 = torch.nn.Linear(h_dim2,  z_dim)\n",
    "    \n",
    "    self.encoder_start = torch.nn.Sequential(\n",
    "      self.fc1, self.non_lin, self.fc2, self.non_lin\n",
    "    )\n",
    "    # decoder part\n",
    "    self.fc4 = torch.nn.Linear(z_dim,  h_dim2)\n",
    "    self.fc5 = torch.nn.Linear(h_dim2,  h_dim1)\n",
    "    self.fc6 = torch.nn.Linear(h_dim1,  x_dim)\n",
    "    self.sigmoid = torch.nn.Sigmoid()\n",
    "    self.decoder = torch.nn.Sequential(\n",
    "      self.fc4, self.non_lin, self.fc5, self.non_lin, self.fc6, self.sigmoid\n",
    "    )\n",
    "\n",
    "  def encoder(self, x: torch.Tensor) -> tuple[torch.Tensor, torch.Tensor]:\n",
    "    h = self.encoder_start(x)\n",
    "    mu = self.fc31(h)\n",
    "    log_var = self.fc32(h)\n",
    "    return mu, log_var # mu, log_var\n",
    "\n",
    "  def log_var_to_var(self, log_var: torch.Tensor) -> torch.Tensor:\n",
    "    return torch.exp(log_var)\n",
    "  def sampling(self, mu, log_var):\n",
    "    # this function samples a Gaussian distribution, with average (mu) and standard deviation specified (using log_var)\n",
    "    std = self.log_var_to_var(log_var)\n",
    "    eps = torch.randn(mu.shape, requires_grad=False)\n",
    "    return eps.mul(std).add_(mu) # return z sample\n",
    "\n",
    "  def forward(self, x: torch.Tensor, forced_log_var: float=None) -> Tuple[torch.Tensor, torch.Tensor, torch.Tensor]:\n",
    "    z_mu, z_log_var = self.encoder(x.view(-1, self.n_pixels))\n",
    "    if forced_log_var is not None:\n",
    "      z_log_var = torch.ones_like(z_log_var) * forced_log_var\n",
    "    z = self.sampling(z_mu, z_log_var)\n",
    "    y = self.decoder(z)\n",
    "    y = y.view(x.shape)\n",
    "    return y, z_mu, z_log_var\n",
    "\n",
    "# Instanciation test of the VAE model\n",
    "vae_dim_1 = ae_dim_1\n",
    "vae_dim_2 = ae_dim_2\n",
    "vae_model = VAE(x_dim=n_pixels, h_dim1= vae_dim_1, h_dim2=vae_dim_2, z_dim=z_dim,n_rows=n_rows,n_cols=n_cols,n_channels=n_channels)\n",
    "for x_in in [torch.rand(8, 1, 28, 28), torch.rand(8, 28, 28)]:\n",
    "  y_out, mu_out, log_var_out  = vae_model(x_in)\n",
    "  assert y_out.shape == x_in.shape\n",
    "  # print(mu_out.shape, log_var_out.shape)\n",
    "  my_loss = vae_model.loss_function(x_in, y_out, mu_out, log_var_out)\n",
    "  print(my_loss.shape)"
   ]
  },
  {
   "cell_type": "markdown",
   "metadata": {
    "id": "hk_9fDIphlsi"
   },
   "source": [
    "Now, create the model (similarly as above)"
   ]
  },
  {
   "cell_type": "code",
   "execution_count": null,
   "metadata": {
    "id": "pVlpC2R3htyU"
   },
   "outputs": [],
   "source": [
    "# create model\n",
    "vae_dim_1 = ae_dim_1\n",
    "vae_dim_2 = ae_dim_2\n",
    "vae_model = VAE(x_dim=n_pixels, h_dim1= vae_dim_1, h_dim2=vae_dim_2, z_dim=z_dim,n_rows=n_rows,n_cols=n_cols,n_channels=n_channels)\n",
    "vae_optimizer = optim.Adam(vae_model.parameters())"
   ]
  },
  {
   "cell_type": "markdown",
   "metadata": {
    "id": "NYKLF_oMh5HO"
   },
   "source": [
    "Finally, train the model. First modify the training function to the case of the vae."
   ]
  },
  {
   "cell_type": "code",
   "execution_count": null,
   "metadata": {
    "id": "z6DjKTWmmssb"
   },
   "outputs": [],
   "source": [
    "def train_vae(vae_model,data_train_loader,epoch):\n",
    "  train_loss = 0\n",
    "  for batch_idx, (data, _) in enumerate(data_train_loader):\n",
    "    vae_optimizer.zero_grad()\n",
    "\n",
    "    y, z_mu, z_log_var = vae_model(data) # FILL IN CODE HERE\n",
    "    loss_vae =  vae_model.loss_function(data, y, z_mu, z_log_var) # FILL IN CODE HERE\n",
    "    loss_vae_neg  = - loss_vae\n",
    "    (loss_vae_neg).backward()\n",
    "    # loss_vae.backward()\n",
    "    train_loss += loss_vae.item()\n",
    "    vae_optimizer.step() \n",
    "\t\t\n",
    "    if batch_idx % 100 == 0:\n",
    "      print('Train Epoch: {} [{}/{} ({:.0f}%)]\\tLoss: {:.6f}'.format(\n",
    "      epoch, batch_idx * len(data), len(data_train_loader.dataset),\n",
    "      100. * batch_idx / len(data_train_loader), loss_vae.item() / len(data)))\n",
    "  print('====> Epoch: {} Average loss: {:.4f}'.format(epoch, train_loss / len(data_train_loader.dataset)))\n"
   ]
  },
  {
   "cell_type": "code",
   "execution_count": null,
   "metadata": {
    "id": "L9JUUs6Kh8HB"
   },
   "outputs": [],
   "source": [
    "# now train the model\n",
    "for epoch in range(0, n_epochs):\n",
    "  train_vae(vae_model,mnist_train_loader,epoch)"
   ]
  },
  {
   "cell_type": "markdown",
   "metadata": {
    "id": "uTfRje_AkKDr"
   },
   "source": [
    "Now, generate some images with the VAE model"
   ]
  },
  {
   "cell_type": "code",
   "execution_count": null,
   "metadata": {},
   "outputs": [],
   "source": [
    "import numpy as np\n",
    "import matplotlib.pyplot as plt\n",
    "import torch\n",
    "\n",
    "def display_vae_images(ae_model, vae_model,test_imgs):\n",
    "    n_images = 5\n",
    "    idx = np.random.randint(0, test_imgs.shape[0], n_images)\n",
    "    selected_imgs = test_imgs[idx,:,:,:]\n",
    "\n",
    "    selected_imgs_tensor = torch.tensor(selected_imgs, dtype=torch.float32)\n",
    "    output_imgs_vae, _, _ = vae_model(selected_imgs_tensor, forced_log_var=None)\n",
    "    output_imgs_vae = output_imgs_vae.detach().cpu().numpy()\n",
    "\n",
    "    output_imgs_vae_not_noisy, _, _ = vae_model(selected_imgs_tensor, forced_log_var=-torch.inf)\n",
    "    output_imgs_vae_not_noisy = output_imgs_vae_not_noisy.detach().cpu().numpy()\n",
    "\n",
    "    output_imgs_ae = ae_model(selected_imgs_tensor)\n",
    "    output_imgs_ae = output_imgs_ae.detach().cpu().numpy()\n",
    "   \n",
    "    print(output_imgs_vae.shape)\n",
    "\n",
    "    r = 4  # 3 rows: one for original and one for reconstructed images with VAE and AE\n",
    "    c = n_images  # Number of columns equals the number of images to display\n",
    "    fig, axs = plt.subplots(r, c, figsize=(10, 10))\n",
    "    for j in range(c):\n",
    "        # Display original images\n",
    "        axs[0, j].imshow(selected_imgs[j, 0, :, :], cmap='gray')\n",
    "        axs[0, j].axis('off')\n",
    "        # Display reconstructed (output VAE) images\n",
    "        axs[1, j].imshow(output_imgs_vae[j, 0, :, :], cmap='gray')\n",
    "        axs[1, j].axis('off')\n",
    "        # Display reconstructed (output VAE) images\n",
    "        axs[2, j].imshow(output_imgs_vae_not_noisy[j, 0, :, :], cmap='gray')\n",
    "        axs[2, j].axis('off')\n",
    "        # Display reconstructed (output AE) images\n",
    "        axs[3, j].imshow(output_imgs_ae[j, 0, :, :], cmap='gray')\n",
    "        axs[3, j].axis('off')\n",
    "    plt.suptitle(\"Original \\n VAE Reconstruction\\n VAE Reconstruction - No noise \\n AE Reconstruction\")\n",
    "    plt.show()\n",
    "\n",
    "# Example usage with mnist_train_loader (assuming ae_model is your VAE model)\n",
    "test_imgs = next(iter(mnist_train_loader))[0]\n",
    "display_vae_images(ae_model, vae_model, test_imgs)\n"
   ]
  },
  {
   "cell_type": "code",
   "execution_count": null,
   "metadata": {},
   "outputs": [],
   "source": [
    "def generate_images_vae(vae_model, n_images=5):\n",
    "    epsilon = torch.randn(n_images, vae_model.z_dim)\n",
    "    imgs_generated = vae_model.decoder(epsilon)\n",
    "    imgs_generated = imgs_generated.view(n_images, vae_model.n_channels, vae_model.n_rows, vae_model.n_cols)\n",
    "    return imgs_generated\n",
    "imgs_generated = generate_images_vae(vae_model,n_images=20)\n",
    "display_images(imgs_generated[:5])\n",
    "display_images(imgs_generated[5:10])\n",
    "display_images(imgs_generated[10:15])\n",
    "display_images(imgs_generated[15:20])"
   ]
  },
  {
   "cell_type": "markdown",
   "metadata": {
    "id": "lGnvKoynzaFN"
   },
   "source": [
    "Do you think the results are better ? What difference can you see ? What advantage does the Variational Autoencoder have over the simple autoencoder model, even though the second autoencoder approach has a more complex probabilistic latent model (a full covariance matrix) ?"
   ]
  },
  {
   "cell_type": "markdown",
   "metadata": {},
   "source": [
    "**Answer**\n",
    "\n",
    "- Sampled VAE results are sometimes blurry but we do not get totally unstructured garbage like we got using the original Auto-encoder.\n",
    "- We sometimes get blended digits  (like a blend of a 3 and a 8) - there is no technique used here to enforce partitions of the latent space to match digits categories.\n",
    "- The VAE has theoretical groundings which led to a very specific kind of training method."
   ]
  },
  {
   "cell_type": "markdown",
   "metadata": {},
   "source": [
    "### Statistics of $q_\\phi$\n",
    "\n",
    "Remember, our goal was to create an autoencoder such that the distributions $q_{\\phi}(z|x)$ of each input data point in the latent space is a normal distribution, ie such that $\\mu=0$ and $\\sigma=1$ for all inputs. Let us see if this goal was attained.\n",
    "\n",
    "For this, take a batch of test images, and calculate the vectors $\\mu=0$ and $\\sigma=1$ of these images (recall that they should be 0 and 1). Now,use a 2D scatter plot on any two of the latent coordinates to visualise the values of $\\mu$ and $\\sigma$ (you can try several different combinations of the latent coordinates.\n",
    "\n",
    "You will need to use ```detach().numpy()``` to plot these values."
   ]
  },
  {
   "cell_type": "code",
   "execution_count": null,
   "metadata": {},
   "outputs": [],
   "source": [
    "vae_model.eval()\n",
    "with torch.no_grad():\n",
    "    n_batches = len(mnist_train_loader)\n",
    "    latents_mu_stack = torch.zeros(n_batches, mnist_train_loader.batch_size, vae_model.z_dim)\n",
    "    latents_logvar_stack = torch.zeros(n_batches, mnist_train_loader.batch_size, vae_model.z_dim)\n",
    "    for batch_idx, (data, _) in enumerate(mnist_train_loader):\n",
    "        vae_optimizer.zero_grad()\n",
    "        mu, log_var = vae_model.encoder(data.view(-1, n_pixels))\n",
    "        latents_mu_stack[batch_idx, :, :] = mu\n",
    "        latents_logvar_stack[batch_idx, :, :] = log_var\n",
    "\n",
    "for dim in range(vae_model.z_dim):\n",
    "    latents_mu = latents_mu_stack.view(-1, vae_model.z_dim)\n",
    "    latents_var = torch.exp(latents_logvar_stack.view(-1, vae_model.z_dim))\n",
    "    plt.figure(figsize=(16, 6))\n",
    "    plt.subplot(1, 3, 1)\n",
    "    plt.hist(latents_mu[:, dim], bins=50, alpha=1.)\n",
    "    plt.title(\"histogram of $\\mu$\")\n",
    "    plt.grid()\n",
    "    plt.subplot(1, 3, 2)\n",
    "    plt.hist(latents_var[:, dim], bins=50, alpha=1.)\n",
    "    plt.title(\"histogram of $\\sigma^2$\")\n",
    "    \n",
    "    plt.grid()\n",
    "    plt.subplot(1, 3, 3)\n",
    "    plt.scatter(latents_mu[:, dim], latents_var[:, dim], c='blue', alpha=0.1, label=r'$\\mu$')\n",
    "    plt.xlabel(f'Latent $\\mu$')\n",
    "    plt.ylabel(f'Latent $\\sigma^2$')\n",
    "    plt.title(\"Scatter plot of $\\mu$ and $\\sigma^2$\")\n",
    "    plt.grid()\n",
    "    plt.suptitle(f'Latent Dimension {dim+1}')\n",
    "    plt.show()\n"
   ]
  },
  {
   "cell_type": "markdown",
   "metadata": {},
   "source": [
    "Do we indeed see most values around $\\mu=0$, $\\sigma=1$ ? Is this in fact possible ? Why ? What compromise are we trying to achieve ?"
   ]
  },
  {
   "cell_type": "markdown",
   "metadata": {
    "id": "uuYn3_PBzjkI"
   },
   "source": [
    "__Your answer:__"
   ]
  },
  {
   "cell_type": "markdown",
   "metadata": {
    "id": "uXm-D9Ef9vYm"
   },
   "source": [
    "Let us now compare the three models (AE diagonal covariance, AE full covariance and VAE) quantitavely."
   ]
  },
  {
   "cell_type": "markdown",
   "metadata": {
    "id": "04MddkzuE324"
   },
   "source": [
    "# 3 Evaluating and comparing the models\n",
    "\n",
    "We will evaluate the models, in the following manner:\n",
    "\n",
    "- we train a simple convolutional neural network classifier on mnist, to a good accuracy\n",
    "- we generate images with each model\n",
    "- we find the average of the highest probability of the images according to the classifier, for each model. If this value is high, it means that on average the classifier considers that the images look like a \n",
    "\n",
    "We will use the following convoluional architecture for the classifier:\n",
    "\n",
    "- conv2d, filter size  3×3 , 32 filters, stride=(2,2), padding=\"SAME\"\n",
    "- ReLU\n",
    "- conv2d, filter size  3×3 , 32 filters, stride=(2,2), padding=\"SAME\"\n",
    "- ReLU\n",
    "- MaxPool2D, stride=(2,2)\n",
    "- Flatten\n",
    "- Dense layer\n",
    "\n",
    "Now, define the model. To make things easier, use the ```torch.nn.Sequential``` API (there is no need for a Class in this simple case)."
   ]
  },
  {
   "cell_type": "code",
   "execution_count": null,
   "metadata": {},
   "outputs": [],
   "source": [
    "class DigitClassifier(torch.nn.Module):\n",
    "    def __init__(\n",
    "        self,\n",
    "        n_h_0: int = 1,  # greyscale input images\n",
    "        n_h_1: int = 32,\n",
    "        n_h_2: int = 32,\n",
    "        kernel_size: Tuple[int, int] = (3, 3),\n",
    "        pool_size: Tuple[int, int] = (2, 2),\n",
    "        image_sizes: Tuple[int, int] = (28, 28),\n",
    "        n_digits: int = 10\n",
    "    ):\n",
    "        super().__init__()\n",
    "        self.non_linearity = torch.nn.ReLU()\n",
    "        # Using padding=`valid` instead of same as there's an asserted ambiguity in torch.\n",
    "        # Let's be pragmatic here, borders are black in these digit images basically so padding with zeros won't be a big deal\n",
    "        self.conv1 = torch.nn.Conv2d(n_h_0, n_h_1, kernel_size=kernel_size, stride=2, padding=kernel_size[0]//2)\n",
    "        self.conv2 = torch.nn.Conv2d(n_h_1, n_h_2, kernel_size=kernel_size, stride=2, padding=kernel_size[0]//2)\n",
    "        self.maxpool = torch.nn.MaxPool2d(kernel_size=pool_size, stride=2)\n",
    "        self.stack_of_conv = torch.nn.Sequential(\n",
    "            self.conv1, self.non_linearity, self.conv2, self.non_linearity, self.maxpool\n",
    "        )\n",
    "        # Forward pass to compute the size of the flattened output.\n",
    "        # https://pytorch.org/docs/stable/generated/torch.nn.LazyLinear.html\n",
    "        out = self.stack_of_conv(torch.rand(1, n_h_0, image_sizes[0], image_sizes[1]))\n",
    "        print(f\"Thumbnail size which goes into the dense classification head {out[0, ...].shape}\")\n",
    "        flattened_size = out.view(-1).shape[0]\n",
    "        self.fc1 = torch.nn.Linear(flattened_size, n_digits)\n",
    "\n",
    "    def forward(self, x: torch.Tensor) -> torch.Tensor:\n",
    "        batch_size = x.shape[0]\n",
    "        x = self.stack_of_conv(x)\n",
    "        x = x.view(batch_size, -1)\n",
    "        logits = self.fc1(x)\n",
    "        return logits\n",
    "\n",
    "\n",
    "digit_classifier = DigitClassifier()\n",
    "img_in = torch.rand(64, 1, 28, 28)\n",
    "digit_classifier(img_in).shape\n",
    "digit_classifier.conv2(digit_classifier.conv1(img_in)).shape"
   ]
  },
  {
   "cell_type": "code",
   "execution_count": null,
   "metadata": {
    "id": "P87a-DkXFOCv"
   },
   "outputs": [],
   "source": [
    "learning_rate = 0.01\n",
    "n_epochs = 20\n",
    "batch_size = 64\n",
    "nb_classes = int(mnist_trainset.targets.max()+1)\n",
    "\n",
    "# number of convolutional filters to use\n",
    "nb_filters = 32\n",
    "# convolution kernel size\n",
    "kernel_size = (3, 3)\n",
    "# size of pooling area for max pooling\n",
    "pool_size = (2, 2)\n",
    "\n",
    "# --- Size of the successive layers\n",
    "n_h_0 = 1 #greyscale input images\n",
    "n_h_1 = nb_filters\n",
    "n_h_2 = nb_filters\n",
    "\n",
    "mnist_classification_model = DigitClassifier(n_h_0, n_h_1, n_h_2, kernel_size, pool_size, n_digits=nb_classes) # FILL IN CODE HERE\n",
    "\n",
    "criterion = torch.nn.CrossEntropyLoss() # FILL IN CODE HERE\n",
    "optimizer = torch.optim.Adam(mnist_classification_model.parameters(), lr=learning_rate) #, weight_decay=0.02)"
   ]
  },
  {
   "cell_type": "markdown",
   "metadata": {
    "id": "_sUZONxw2bnt"
   },
   "source": [
    "Create a function to calculate accuracy, instead of loss"
   ]
  },
  {
   "cell_type": "code",
   "execution_count": null,
   "metadata": {
    "id": "aOww0ydr2fT0"
   },
   "outputs": [],
   "source": [
    "def get_accuracy(x_pred,x_label):\n",
    "  acc = torch.sum(x_pred == x_label)/(x_pred.shape[0])\n",
    "  return acc"
   ]
  },
  {
   "cell_type": "markdown",
   "metadata": {
    "id": "qw0vkZIqFcse"
   },
   "source": [
    "Now, train the model. You should be able to achieve an accuracy close to 1.00 within 20 epochs"
   ]
  },
  {
   "cell_type": "code",
   "execution_count": null,
   "metadata": {
    "id": "0FA8YoX2FcHP"
   },
   "outputs": [],
   "source": [
    "train_losses = []\n",
    "valid_losses = []\n",
    "train_accuracies = []\n",
    "valid_accuracies = []\n",
    "\n",
    "for epoch in range(0, n_epochs):\n",
    "    train_loss = 0.0\n",
    "    train_acc = 0.\n",
    "    mnist_classification_model.train()\n",
    "    for batch_idx, (imgs, labels) in enumerate(mnist_train_loader):\n",
    "        # set the gradients back to 0\n",
    "        optimizer.zero_grad()\n",
    "        predict = mnist_classification_model(imgs)\n",
    "        # apply loss function\n",
    "        loss = criterion(predict, labels)\n",
    "        train_acc += get_accuracy(torch.argmax(predict, dim=1), labels)\n",
    "        # backpropagation\n",
    "        loss.backward()\n",
    "        optimizer.step()\n",
    "        train_loss = loss.item()\n",
    "    train_acc /= len(mnist_train_loader)\n",
    "    train_accuracies.append(train_acc)\n",
    "    \n",
    "    val_acc = 0.\n",
    "    with torch.no_grad():\n",
    "        for batch_idx, (imgs, labels) in enumerate(mnist_test_loader):\n",
    "            predict = mnist_classification_model(imgs)\n",
    "            val_acc += get_accuracy(torch.argmax(predict, dim=1), labels)\n",
    "    val_acc /= len(mnist_test_loader)\n",
    "    valid_accuracies.append(val_acc)\n",
    "    print('Epoch:{} Train Loss:{:.4f} Accuracy: Train {:.4%} | Val {:.4%}'.format(epoch, train_loss/imgs.shape[0], train_acc, val_acc))"
   ]
  },
  {
   "cell_type": "code",
   "execution_count": null,
   "metadata": {},
   "outputs": [],
   "source": [
    "plt.figure(figsize=(10, 6))\n",
    "plt.plot(train_accuracies, label='Training Accuracies')\n",
    "plt.plot(valid_accuracies, label='Validation Accuracies')\n",
    "plt.grid()\n",
    "plt.title('Digit classifier on MNIST: Training and Validation Accuracies')\n",
    "plt.xlabel('Epochs')\n",
    "plt.ylabel('Accuracy')\n",
    "plt.legend()\n",
    "plt.show()"
   ]
  },
  {
   "cell_type": "markdown",
   "metadata": {
    "id": "zFgN5LblFwTa"
   },
   "source": [
    "### Evaluate the average maximum prediction of the images generated by each generative model (higher is better)\n",
    "\n",
    "Now, we will evaluate the models. For each ones, produce a certain number of images, and put those images through the classification network. Then find the maximum class probability of each image, and average it over all the images. We will use this as a metric to evaluate each model.\n",
    "\n",
    "__CAREFUL__: the output of the network does __not__ include the Softmax layer, so you will have to carry it out, with:\n",
    "- ```torch.nn.Softmax()(...)```\n",
    "\n",
    "Define this metric now:"
   ]
  },
  {
   "cell_type": "code",
   "execution_count": null,
   "metadata": {
    "id": "lCJ_0qqjOXHT"
   },
   "outputs": [],
   "source": [
    "def generative_model_score(imgs_in, classification_model):\n",
    "  classification_model.eval()\n",
    "  with torch.no_grad():\n",
    "    logits = classification_model(imgs_in)\n",
    "    probabilities = torch.nn.functional.softmax(logits, dim=-1)\n",
    "    gen_score = torch.mean(torch.max(probabilities, dim=-1).values)\n",
    "    return(gen_score)"
   ]
  },
  {
   "cell_type": "markdown",
   "metadata": {
    "id": "yGq7YFg51UoP"
   },
   "source": [
    "Now, generate some images with each of the three models, and evaluate these models:"
   ]
  },
  {
   "cell_type": "code",
   "execution_count": null,
   "metadata": {
    "id": "4-L4u2jhILFx"
   },
   "outputs": [],
   "source": [
    "n_images = 50000\n",
    "imgs_diagonal_gaussian = generate_images_diagonal_gaussian(ae_model, z_average, z_sigma, n_images=n_images)\n",
    "imgs_non_diagonal_gaussian = generate_images_non_diagonal_gaussian(ae_model, z_average, z_covariance, n_images=n_images)\n",
    "imgs_vae = generate_images_vae(vae_model, n_images=n_images)\n",
    "\n",
    "# average of maximum of first model\n",
    "diagonal_gaussian_score = float(generative_model_score(imgs_diagonal_gaussian, mnist_classification_model))\n",
    "non_diagonal_gaussian_score = float(generative_model_score(imgs_non_diagonal_gaussian, mnist_classification_model))\n",
    "vae_gaussian_score = float(generative_model_score(imgs_vae, mnist_classification_model))\n",
    "\n",
    "print(f\"Diagonal gaussian generative model score : {diagonal_gaussian_score:.4%}\")\n",
    "print(f\"Non diagonal gaussian generative model score : {non_diagonal_gaussian_score:.4%}\")\n",
    "print(f\"Variational autoencoder model score: {vae_gaussian_score:.4%}\")"
   ]
  },
  {
   "cell_type": "markdown",
   "metadata": {
    "id": "sxvsG8FC1gNS"
   },
   "source": [
    "Please answer the following questions:\n",
    "\n",
    "- Which model is better quantitatively ? \n",
    "- Do the quantitative result support the qualitative results ?\n",
    "- Can you see any drawbacks of this method of evaluation ?\n",
    "- Can you propose any more sophisticated models than the multivariate Gaussian approach (apart from the variational autoencoder) ? "
   ]
  },
  {
   "cell_type": "markdown",
   "metadata": {
    "id": "3SYCyfKR3G7Y"
   },
   "source": [
    "__Your answer__"
   ]
  },
  {
   "cell_type": "markdown",
   "metadata": {},
   "source": [
    "### Quantitative and qualitative results\n",
    "\n",
    "| Type of generation | AE decoder - latent sampled using estimated per component variance | AE decoder - latent sampled using estimated covariance matrix | VAE decoder |\n",
    "|:--:|:--:| :---:|:---:|\n",
    "| Samples |![](figures/ae_latent_diagonal_generation_twenty.png)|![](figures/ae_latent_cov_generation_twenty.png) | ![](figures/vae_generation.png) |\n",
    "| Average probability of the most likely digit using a CNN digit recognition | 76% | 80% | 85% |\n",
    "\n",
    "- VAE generated results get the best detector confidence (i.e it gets the **highest average maximum class probability**).\n",
    "- Quantitative results support what we observe visually (Sampling from an Autoencoder sometimes leads to totally un-recognizable digits).\n",
    "\n",
    "### Metrics limitation\n",
    "This evaluation method is fairly limited:\n",
    "- **Classifier limitations** : The metric heavily relies on a MNIST digit classifier trained on the same data which was used to train the VAE. The classifier is far from perfect (*and did slightly overfit*). \n",
    "- **Lack of diversity evaluation** .It does not look at novelty in the generation \n",
    "  - If the generator has a mode collapse and generates always the same digit, the metric could score high (fortunately, that's not really the case here). \n",
    "  - The most simple way we would think of is to check if the digits are sampled uniformly across 10 classes. \n",
    "  - Ideally, we'd be happy to see whether or not the generative model is able to create tilted digits, vary thickness and writings. This can be studied by trying to interpolate between latents but this will be qualitative analyzis.\n",
    "\n",
    "### Alternative methods\n",
    "Here are 2 personal (maybe a bit creative) ideas that could improve sampling from the Auto Encoder.\n",
    "\n",
    "- 1/ A modified Denoising Auto-encoder:\n",
    "  - The Denoising auto-encoder consists in adding a bit of noise to the input to try to generate more consistent output images and improve robustness (a little noise will not affect the output much).\n",
    "  - This would probably lead the latents of the same image with 2 different realization of noises to be close (as the outputs also need to be the same). But one could think of adding an extra loss term to force the encoded latents of the 2 noisy versions of the same image to be as close as possible.  \n",
    "- 2/ Enforcing generated data to always look like digits.\n",
    "  - Once our AE has been pre-trained, freeze the decoder.\n",
    "  - Use a tiny MLP which takes standardized gaussian noise and transform it into a latent vector. *This MLP will transform the normal distribution into something more adapted, instead of a covariance matrix for instance, you're training a non linear function that will mimick the right distribution* .\n",
    "  - Enforce the generated samples to look like real digits by using a digit detector: \n",
    "    - Train the MLP by sampling randomly, decoding the latent\n",
    "    - Run through the classifier and take the most probable class\n",
    "    - Perform gradient descent to maximize the probability of the most likely class. *detector and decoder are fully differentiable even though the weights are frozen, this is doable, we'd train the MLP weights*.\n",
    "\n",
    "\n",
    "These ideas sound kind of hacky (and far from the theoretical groundings seen with VAE's).\n",
    "There are somehow other more convential alternative generative methods:\n",
    "  - use a GAN loss to train the auto-encoder (learn an  additional discriminator encoder which will learn to tell whether an image has been generated or not - real or fake)\n",
    "  - diffusion model: perform many tiny steps of denoising (to take progressive steps toward maximizing the probability of belonging to the image manifold)  "
   ]
  },
  {
   "cell_type": "markdown",
   "metadata": {},
   "source": []
  }
 ],
 "metadata": {
  "accelerator": "GPU",
  "colab": {
   "provenance": []
  },
  "kernelspec": {
   "display_name": "Python 3 (ipykernel)",
   "language": "python",
   "name": "python3"
  },
  "language_info": {
   "codemirror_mode": {
    "name": "ipython",
    "version": 3
   },
   "file_extension": ".py",
   "mimetype": "text/x-python",
   "name": "python",
   "nbconvert_exporter": "python",
   "pygments_lexer": "ipython3",
   "version": "3.10.12"
  }
 },
 "nbformat": 4,
 "nbformat_minor": 4
}
