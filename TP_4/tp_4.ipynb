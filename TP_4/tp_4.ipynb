{
 "cells": [
  {
   "cell_type": "markdown",
   "metadata": {
    "id": "TdpPHz2Lp6VD"
   },
   "source": [
    "# TP Coding autoencoders and variational autoencoders in Pytorch\n",
    "\n",
    "\n",
    "Author : Alasdair Newson\n",
    "\n",
    "alasdair.newson@telecom-paris.fr\n",
    "\n",
    "## Objective:\n",
    "\n",
    "The goal of this TP is to explore autoencoders and variational autoencoders applied to a simple dataset. In this first part, we will look at an autoencoder applied to MNIST. We recall that an autoencoder is a neural network with the following general architecture:\n",
    "\n",
    "\n",
    "![AUTOENCODER](https://perso.telecom-paristech.fr/anewson/doc/images/autoencoder_illustration_2.png)\n",
    "\n",
    "The tensor $z$ in the middle of the network is called a __latent code__, and it belongs to the latent space. It is this latent space which is interesting in autoencoders (for image synthesis, editing, etc).\n",
    "\n",
    "### Your task:\n",
    "You need to add the missing parts in the code (parts between # --- START CODE HERE and # --- END CODE HERE or # FILL IN CODE)\n",
    "\n",
    "\n",
    "First of all, let's load some packages"
   ]
  },
  {
   "cell_type": "code",
   "execution_count": 95,
   "metadata": {
    "id": "JqNeIJ8Op8Ao"
   },
   "outputs": [],
   "source": [
    "import torch\n",
    "import torch.nn as nn\n",
    "import torch.nn.functional as F\n",
    "import torch.optim as optim\n",
    "from torchvision import datasets, transforms\n",
    "from torch.autograd import Variable\n",
    "from torchvision.utils import save_image\n",
    "from pathlib import Path\n",
    "import pdb\n",
    "import numpy as np\n",
    "import matplotlib.pyplot as plt\n",
    "def display_images(imgs):\n",
    "  r = 1\n",
    "  c = imgs.shape[0]\n",
    "  fig, axs = plt.subplots(r, c)\n",
    "  for j in range(c):\n",
    "    #black and white images\n",
    "    axs[j].imshow(pytorch_to_numpy(imgs[j, 0,:,:]), cmap='gray')\n",
    "    axs[j].axis('off')\n",
    "  plt.show()\n",
    "\n",
    "\n",
    "def pytorch_to_numpy(x):\n",
    "  return x.detach().numpy()\n",
    "\n",
    "ae_dim_1 = 512\n",
    "ae_dim_2 = 256\n",
    "z_dim = 10\n",
    "batch_size = 128"
   ]
  },
  {
   "cell_type": "markdown",
   "metadata": {
    "id": "Hyj5dj_eui9D"
   },
   "source": [
    "First, we load the mnist dataset."
   ]
  },
  {
   "cell_type": "code",
   "execution_count": 4,
   "metadata": {
    "id": "4YPLKlPrufSk"
   },
   "outputs": [
    {
     "name": "stderr",
     "output_type": "stream",
     "text": [
      "/home/bneveu/.local/lib/python3.10/site-packages/torchvision/datasets/mnist.py:75: UserWarning: train_data has been renamed data\n",
      "  warnings.warn(\"train_data has been renamed data\")\n"
     ]
    },
    {
     "data": {
      "text/plain": [
       "torch.Size([60000, 28, 28])"
      ]
     },
     "execution_count": 4,
     "metadata": {},
     "output_type": "execute_result"
    }
   ],
   "source": [
    "data_path = Path('./mnist_data')\n",
    "# MNIST Dataset\n",
    "mnist_trainset = datasets.MNIST(root=data_path, train=True, transform=transforms.ToTensor(), download=True)\n",
    "mnist_testset = datasets.MNIST(root=data_path, train=False, transform=transforms.ToTensor(), download=False)\n",
    "\n",
    "#create data loader with smaller dataset size\n",
    "max_mnist_size = 1000\n",
    "mnist_trainset_reduced = torch.utils.data.random_split(mnist_trainset, [max_mnist_size, len(mnist_trainset)-max_mnist_size])[0] \n",
    "mnist_train_loader = torch.utils.data.DataLoader(mnist_trainset_reduced, batch_size=batch_size, shuffle=True,drop_last=True)\n",
    "\n",
    "# download test dataset\n",
    "max_mnist_size = 512\n",
    "mnist_testset_reduced = torch.utils.data.random_split(mnist_testset, [max_mnist_size, len(mnist_testset)-max_mnist_size])[0] \n",
    "mnist_test_loader = torch.utils.data.DataLoader(mnist_testset_reduced, batch_size=batch_size, shuffle=True,drop_last=True)\n",
    "\n",
    "mnist_trainset_reduced.dataset.train_data.shape"
   ]
  },
  {
   "cell_type": "markdown",
   "metadata": {
    "id": "t-bkK4ktwfvC"
   },
   "source": [
    "# 1 Vanilla Autoencoder\n",
    "\n",
    "Now, we define the general parameters of the autoencoder"
   ]
  },
  {
   "cell_type": "code",
   "execution_count": 5,
   "metadata": {
    "id": "mD56EDzbvUxq"
   },
   "outputs": [],
   "source": [
    "# autoencoder parameters\n",
    "n_rows = mnist_trainset_reduced.dataset.train_data.shape[1]\n",
    "n_cols = mnist_trainset_reduced.dataset.train_data.shape[2]\n",
    "n_channels = 1\n",
    "n_pixels = n_rows*n_cols\n",
    "\n",
    "img_shape = (n_rows, n_cols, n_channels)\n",
    "n_epochs = 150"
   ]
  },
  {
   "cell_type": "markdown",
   "metadata": {
    "id": "6jLa2-jQwxSI"
   },
   "source": [
    "Now, define the autoencoder architecture. In the first part, we will use the following MLP architecture :\n",
    "\n",
    "Encoder :\n",
    "- Flatten input\n",
    "- Dense layer, output size h_dim_1 + ReLU\n",
    "- Dense layer, output size h_dim_2 + ReLU\n",
    "- Dense layer, output size z_dim (no non-linearity)\n",
    "\n",
    "Decoder :\n",
    "- Dense layer, output size h_dim_2 + ReLU\n",
    "- Dense layer, output size h_dim_1 + ReLU\n",
    "- Dense layer, output size x_dim + Sigmoid Activation\n",
    "- Reshape, to size $28\\times 28\\times 1$\n",
    "\n",
    "For the Reshape operation, use the ```A.view(dim_1,dim_2,...)``` function, where ```A``` is your tensor."
   ]
  },
  {
   "cell_type": "code",
   "execution_count": 6,
   "metadata": {
    "id": "tEuZfnUlXxMl"
   },
   "outputs": [],
   "source": [
    "class AE(torch.nn.Module ):\n",
    "  def __init__(self, x_dim: int, h_dim1: int, h_dim2: int, z_dim: int,n_rows: int,n_cols: int,n_channels: int):\n",
    "    \"\"\"Autoencoder - fully connected for fixed size 28x28 MNIST images - (not convolutional, sorry Mr Lecun)\n",
    "\n",
    "    Args:\n",
    "        x_dim (int): 28²\n",
    "        h_dim1 (int): hidden dimension layer 1\n",
    "        h_dim2 (int): hidden dimension layer 2\n",
    "        z_dim (int): latent dimension\n",
    "        n_rows (int): height of the image\n",
    "        n_cols (int): width of the image\n",
    "        n_channels (int): number of channels\n",
    "    \"\"\"\n",
    "    super(AE, self).__init__()\n",
    "    assert n_cols*n_rows == x_dim, \"wrong dimension\"\n",
    "    self.n_rows = n_rows\n",
    "    self.n_cols = n_cols\n",
    "    self.n_channels = n_channels\n",
    "    self.n_pixels = (self.n_rows)*(self.n_cols)\n",
    "    self.z_dim = z_dim\n",
    "\n",
    "    # encoder part\n",
    "    self.fc1 =  torch.nn.Linear(x_dim,  h_dim1)\n",
    "    self.fc2 = torch.nn.Linear(h_dim1,  h_dim2)\n",
    "    self.fc3 = torch.nn.Linear(h_dim2,  z_dim)\n",
    "    self.non_lin = torch.nn.ReLU()\n",
    "    self.encoder = torch.nn.Sequential(\n",
    "      self.fc1, self.non_lin, self.fc2, self.non_lin, self.fc3\n",
    "    )\n",
    "    # decoder part\n",
    "    self.fc4 = torch.nn.Linear(z_dim,  h_dim2)\n",
    "    self.fc5 = torch.nn.Linear(h_dim2,  h_dim1)\n",
    "    self.fc6 = torch.nn.Linear(h_dim1,  x_dim)\n",
    "    self.sigmoid = torch.nn.Sigmoid()\n",
    "    self.decoder = torch.nn.Sequential(\n",
    "      self.fc4, self.non_lin, self.fc5, self.non_lin, self.fc6, self.sigmoid\n",
    "    )\n",
    "\n",
    "  def forward(self, x):\n",
    "    # N, (C=1), H, W -> N, C*H*W\n",
    "    z = self.encoder(x.view(-1, self.n_pixels))\n",
    "    y = self.decoder(z)\n",
    "    y = y.view(x.shape)\n",
    "    return y\n",
    "  def loss_function(self,x, y):\n",
    "    mse_loss = torch.nn.functional.mse_loss(x, y, reduction=\"mean\")\n",
    "    return torch.mean(mse_loss)"
   ]
  },
  {
   "cell_type": "code",
   "execution_count": 7,
   "metadata": {
    "id": "oV40vRMQRoG1"
   },
   "outputs": [],
   "source": [
    "# create model\n",
    "\n",
    "ae_model = AE(x_dim=n_pixels, h_dim1= ae_dim_1, h_dim2=ae_dim_2, z_dim=z_dim,n_rows=n_rows,n_cols=n_cols,n_channels=n_channels)\n",
    "ae_optimizer = optim.Adam(ae_model.parameters())"
   ]
  },
  {
   "cell_type": "code",
   "execution_count": 8,
   "metadata": {},
   "outputs": [],
   "source": [
    "# sanity check\n",
    "x_in = torch.rand(10, n_rows, n_cols, n_channels)\n",
    "x_out = ae_model(x_in)\n",
    "assert x_out.shape == x_in.shape, \"wrong shape\""
   ]
  },
  {
   "cell_type": "markdown",
   "metadata": {
    "id": "-659aM36xvXX"
   },
   "source": [
    "Now, define a generic function to train the model for one epoch"
   ]
  },
  {
   "cell_type": "code",
   "execution_count": 10,
   "metadata": {
    "id": "wfqX6Brlxjyi"
   },
   "outputs": [],
   "source": [
    "def train_ae(ae_model,data_train_loader,epoch):\n",
    "\ttrain_loss = 0\n",
    "\tfor batch_idx, (data, _) in enumerate(data_train_loader):\n",
    "\t\tae_optimizer.zero_grad()\n",
    "\t\t\n",
    "\t\ty = ae_model(data)\n",
    "\t\tloss_ae = ae_model.loss_function(y, data)\n",
    "\n",
    "\t\tloss_ae.backward()\n",
    "\t\ttrain_loss += loss_ae.item()\n",
    "\t\tae_optimizer.step()\n",
    "\t\t\n",
    "\t\tif batch_idx % 100 == 0:\n",
    "\t\t\tprint('Train Epoch: {} [{}/{} ({:.0f}%)]\\tLoss: {:.6f}'.format(\n",
    "\t\t\t\tepoch, batch_idx * len(data), len(data_train_loader.dataset),\n",
    "\t\t\t\t100. * batch_idx / len(data_train_loader), loss_ae.item() / len(data)))\n",
    "\tprint('====> Epoch: {} Average loss: {:.4f}'.format(epoch, train_loss / len(data_train_loader.dataset)))\n"
   ]
  },
  {
   "cell_type": "markdown",
   "metadata": {
    "id": "w3EbmswSzJdK"
   },
   "source": [
    "We define a function to carry out testing on the autoencoder model"
   ]
  },
  {
   "cell_type": "code",
   "execution_count": 11,
   "metadata": {
    "id": "11q_0PSibZk-"
   },
   "outputs": [
    {
     "name": "stdout",
     "output_type": "stream",
     "text": [
      "Train Epoch: 0 [0/1000 (0%)]\tLoss: 0.001807\n",
      "====> Epoch: 0 Average loss: 0.0014\n",
      "Train Epoch: 1 [0/1000 (0%)]\tLoss: 0.000760\n",
      "====> Epoch: 1 Average loss: 0.0006\n",
      "Train Epoch: 2 [0/1000 (0%)]\tLoss: 0.000640\n",
      "====> Epoch: 2 Average loss: 0.0006\n",
      "Train Epoch: 3 [0/1000 (0%)]\tLoss: 0.000589\n",
      "====> Epoch: 3 Average loss: 0.0005\n",
      "Train Epoch: 4 [0/1000 (0%)]\tLoss: 0.000582\n",
      "====> Epoch: 4 Average loss: 0.0005\n",
      "Train Epoch: 5 [0/1000 (0%)]\tLoss: 0.000572\n",
      "====> Epoch: 5 Average loss: 0.0005\n",
      "Train Epoch: 6 [0/1000 (0%)]\tLoss: 0.000586\n",
      "====> Epoch: 6 Average loss: 0.0005\n",
      "Train Epoch: 7 [0/1000 (0%)]\tLoss: 0.000532\n",
      "====> Epoch: 7 Average loss: 0.0005\n",
      "Train Epoch: 8 [0/1000 (0%)]\tLoss: 0.000534\n",
      "====> Epoch: 8 Average loss: 0.0005\n",
      "Train Epoch: 9 [0/1000 (0%)]\tLoss: 0.000509\n",
      "====> Epoch: 9 Average loss: 0.0005\n",
      "Train Epoch: 10 [0/1000 (0%)]\tLoss: 0.000505\n",
      "====> Epoch: 10 Average loss: 0.0004\n",
      "Train Epoch: 11 [0/1000 (0%)]\tLoss: 0.000472\n",
      "====> Epoch: 11 Average loss: 0.0004\n",
      "Train Epoch: 12 [0/1000 (0%)]\tLoss: 0.000457\n",
      "====> Epoch: 12 Average loss: 0.0004\n",
      "Train Epoch: 13 [0/1000 (0%)]\tLoss: 0.000443\n",
      "====> Epoch: 13 Average loss: 0.0004\n",
      "Train Epoch: 14 [0/1000 (0%)]\tLoss: 0.000437\n",
      "====> Epoch: 14 Average loss: 0.0004\n",
      "Train Epoch: 15 [0/1000 (0%)]\tLoss: 0.000424\n",
      "====> Epoch: 15 Average loss: 0.0004\n",
      "Train Epoch: 16 [0/1000 (0%)]\tLoss: 0.000401\n",
      "====> Epoch: 16 Average loss: 0.0004\n",
      "Train Epoch: 17 [0/1000 (0%)]\tLoss: 0.000384\n",
      "====> Epoch: 17 Average loss: 0.0003\n",
      "Train Epoch: 18 [0/1000 (0%)]\tLoss: 0.000370\n",
      "====> Epoch: 18 Average loss: 0.0003\n",
      "Train Epoch: 19 [0/1000 (0%)]\tLoss: 0.000352\n",
      "====> Epoch: 19 Average loss: 0.0003\n",
      "Train Epoch: 20 [0/1000 (0%)]\tLoss: 0.000329\n",
      "====> Epoch: 20 Average loss: 0.0003\n",
      "Train Epoch: 21 [0/1000 (0%)]\tLoss: 0.000315\n",
      "====> Epoch: 21 Average loss: 0.0003\n",
      "Train Epoch: 22 [0/1000 (0%)]\tLoss: 0.000298\n",
      "====> Epoch: 22 Average loss: 0.0003\n",
      "Train Epoch: 23 [0/1000 (0%)]\tLoss: 0.000290\n",
      "====> Epoch: 23 Average loss: 0.0003\n",
      "Train Epoch: 24 [0/1000 (0%)]\tLoss: 0.000285\n",
      "====> Epoch: 24 Average loss: 0.0003\n",
      "Train Epoch: 25 [0/1000 (0%)]\tLoss: 0.000289\n",
      "====> Epoch: 25 Average loss: 0.0002\n",
      "Train Epoch: 26 [0/1000 (0%)]\tLoss: 0.000251\n",
      "====> Epoch: 26 Average loss: 0.0002\n",
      "Train Epoch: 27 [0/1000 (0%)]\tLoss: 0.000265\n",
      "====> Epoch: 27 Average loss: 0.0002\n",
      "Train Epoch: 28 [0/1000 (0%)]\tLoss: 0.000243\n",
      "====> Epoch: 28 Average loss: 0.0002\n",
      "Train Epoch: 29 [0/1000 (0%)]\tLoss: 0.000240\n",
      "====> Epoch: 29 Average loss: 0.0002\n",
      "Train Epoch: 30 [0/1000 (0%)]\tLoss: 0.000236\n",
      "====> Epoch: 30 Average loss: 0.0002\n",
      "Train Epoch: 31 [0/1000 (0%)]\tLoss: 0.000241\n",
      "====> Epoch: 31 Average loss: 0.0002\n",
      "Train Epoch: 32 [0/1000 (0%)]\tLoss: 0.000224\n",
      "====> Epoch: 32 Average loss: 0.0002\n",
      "Train Epoch: 33 [0/1000 (0%)]\tLoss: 0.000210\n",
      "====> Epoch: 33 Average loss: 0.0002\n",
      "Train Epoch: 34 [0/1000 (0%)]\tLoss: 0.000224\n",
      "====> Epoch: 34 Average loss: 0.0002\n",
      "Train Epoch: 35 [0/1000 (0%)]\tLoss: 0.000200\n",
      "====> Epoch: 35 Average loss: 0.0002\n",
      "Train Epoch: 36 [0/1000 (0%)]\tLoss: 0.000200\n",
      "====> Epoch: 36 Average loss: 0.0002\n",
      "Train Epoch: 37 [0/1000 (0%)]\tLoss: 0.000193\n",
      "====> Epoch: 37 Average loss: 0.0002\n",
      "Train Epoch: 38 [0/1000 (0%)]\tLoss: 0.000186\n",
      "====> Epoch: 38 Average loss: 0.0002\n",
      "Train Epoch: 39 [0/1000 (0%)]\tLoss: 0.000196\n",
      "====> Epoch: 39 Average loss: 0.0002\n",
      "Train Epoch: 40 [0/1000 (0%)]\tLoss: 0.000180\n",
      "====> Epoch: 40 Average loss: 0.0002\n",
      "Train Epoch: 41 [0/1000 (0%)]\tLoss: 0.000186\n",
      "====> Epoch: 41 Average loss: 0.0002\n",
      "Train Epoch: 42 [0/1000 (0%)]\tLoss: 0.000183\n",
      "====> Epoch: 42 Average loss: 0.0002\n",
      "Train Epoch: 43 [0/1000 (0%)]\tLoss: 0.000180\n",
      "====> Epoch: 43 Average loss: 0.0002\n",
      "Train Epoch: 44 [0/1000 (0%)]\tLoss: 0.000176\n",
      "====> Epoch: 44 Average loss: 0.0002\n",
      "Train Epoch: 45 [0/1000 (0%)]\tLoss: 0.000174\n",
      "====> Epoch: 45 Average loss: 0.0002\n",
      "Train Epoch: 46 [0/1000 (0%)]\tLoss: 0.000169\n",
      "====> Epoch: 46 Average loss: 0.0002\n",
      "Train Epoch: 47 [0/1000 (0%)]\tLoss: 0.000179\n",
      "====> Epoch: 47 Average loss: 0.0002\n",
      "Train Epoch: 48 [0/1000 (0%)]\tLoss: 0.000174\n",
      "====> Epoch: 48 Average loss: 0.0002\n",
      "Train Epoch: 49 [0/1000 (0%)]\tLoss: 0.000156\n",
      "====> Epoch: 49 Average loss: 0.0001\n",
      "Train Epoch: 50 [0/1000 (0%)]\tLoss: 0.000162\n",
      "====> Epoch: 50 Average loss: 0.0001\n",
      "Train Epoch: 51 [0/1000 (0%)]\tLoss: 0.000157\n",
      "====> Epoch: 51 Average loss: 0.0001\n",
      "Train Epoch: 52 [0/1000 (0%)]\tLoss: 0.000153\n",
      "====> Epoch: 52 Average loss: 0.0001\n",
      "Train Epoch: 53 [0/1000 (0%)]\tLoss: 0.000163\n",
      "====> Epoch: 53 Average loss: 0.0001\n",
      "Train Epoch: 54 [0/1000 (0%)]\tLoss: 0.000156\n",
      "====> Epoch: 54 Average loss: 0.0001\n",
      "Train Epoch: 55 [0/1000 (0%)]\tLoss: 0.000153\n",
      "====> Epoch: 55 Average loss: 0.0001\n",
      "Train Epoch: 56 [0/1000 (0%)]\tLoss: 0.000156\n",
      "====> Epoch: 56 Average loss: 0.0001\n",
      "Train Epoch: 57 [0/1000 (0%)]\tLoss: 0.000150\n",
      "====> Epoch: 57 Average loss: 0.0001\n",
      "Train Epoch: 58 [0/1000 (0%)]\tLoss: 0.000144\n",
      "====> Epoch: 58 Average loss: 0.0001\n",
      "Train Epoch: 59 [0/1000 (0%)]\tLoss: 0.000154\n",
      "====> Epoch: 59 Average loss: 0.0001\n",
      "Train Epoch: 60 [0/1000 (0%)]\tLoss: 0.000147\n",
      "====> Epoch: 60 Average loss: 0.0001\n",
      "Train Epoch: 61 [0/1000 (0%)]\tLoss: 0.000135\n",
      "====> Epoch: 61 Average loss: 0.0001\n",
      "Train Epoch: 62 [0/1000 (0%)]\tLoss: 0.000126\n",
      "====> Epoch: 62 Average loss: 0.0001\n",
      "Train Epoch: 63 [0/1000 (0%)]\tLoss: 0.000138\n",
      "====> Epoch: 63 Average loss: 0.0001\n",
      "Train Epoch: 64 [0/1000 (0%)]\tLoss: 0.000130\n",
      "====> Epoch: 64 Average loss: 0.0001\n",
      "Train Epoch: 65 [0/1000 (0%)]\tLoss: 0.000135\n",
      "====> Epoch: 65 Average loss: 0.0001\n",
      "Train Epoch: 66 [0/1000 (0%)]\tLoss: 0.000131\n",
      "====> Epoch: 66 Average loss: 0.0001\n",
      "Train Epoch: 67 [0/1000 (0%)]\tLoss: 0.000137\n",
      "====> Epoch: 67 Average loss: 0.0001\n",
      "Train Epoch: 68 [0/1000 (0%)]\tLoss: 0.000126\n",
      "====> Epoch: 68 Average loss: 0.0001\n",
      "Train Epoch: 69 [0/1000 (0%)]\tLoss: 0.000126\n",
      "====> Epoch: 69 Average loss: 0.0001\n",
      "Train Epoch: 70 [0/1000 (0%)]\tLoss: 0.000126\n",
      "====> Epoch: 70 Average loss: 0.0001\n",
      "Train Epoch: 71 [0/1000 (0%)]\tLoss: 0.000136\n",
      "====> Epoch: 71 Average loss: 0.0001\n",
      "Train Epoch: 72 [0/1000 (0%)]\tLoss: 0.000126\n",
      "====> Epoch: 72 Average loss: 0.0001\n",
      "Train Epoch: 73 [0/1000 (0%)]\tLoss: 0.000126\n",
      "====> Epoch: 73 Average loss: 0.0001\n",
      "Train Epoch: 74 [0/1000 (0%)]\tLoss: 0.000118\n",
      "====> Epoch: 74 Average loss: 0.0001\n",
      "Train Epoch: 75 [0/1000 (0%)]\tLoss: 0.000114\n",
      "====> Epoch: 75 Average loss: 0.0001\n",
      "Train Epoch: 76 [0/1000 (0%)]\tLoss: 0.000116\n",
      "====> Epoch: 76 Average loss: 0.0001\n",
      "Train Epoch: 77 [0/1000 (0%)]\tLoss: 0.000120\n",
      "====> Epoch: 77 Average loss: 0.0001\n",
      "Train Epoch: 78 [0/1000 (0%)]\tLoss: 0.000115\n",
      "====> Epoch: 78 Average loss: 0.0001\n",
      "Train Epoch: 79 [0/1000 (0%)]\tLoss: 0.000117\n",
      "====> Epoch: 79 Average loss: 0.0001\n",
      "Train Epoch: 80 [0/1000 (0%)]\tLoss: 0.000115\n",
      "====> Epoch: 80 Average loss: 0.0001\n",
      "Train Epoch: 81 [0/1000 (0%)]\tLoss: 0.000116\n",
      "====> Epoch: 81 Average loss: 0.0001\n",
      "Train Epoch: 82 [0/1000 (0%)]\tLoss: 0.000114\n",
      "====> Epoch: 82 Average loss: 0.0001\n",
      "Train Epoch: 83 [0/1000 (0%)]\tLoss: 0.000111\n",
      "====> Epoch: 83 Average loss: 0.0001\n",
      "Train Epoch: 84 [0/1000 (0%)]\tLoss: 0.000110\n",
      "====> Epoch: 84 Average loss: 0.0001\n",
      "Train Epoch: 85 [0/1000 (0%)]\tLoss: 0.000105\n",
      "====> Epoch: 85 Average loss: 0.0001\n",
      "Train Epoch: 86 [0/1000 (0%)]\tLoss: 0.000101\n",
      "====> Epoch: 86 Average loss: 0.0001\n",
      "Train Epoch: 87 [0/1000 (0%)]\tLoss: 0.000113\n",
      "====> Epoch: 87 Average loss: 0.0001\n",
      "Train Epoch: 88 [0/1000 (0%)]\tLoss: 0.000098\n",
      "====> Epoch: 88 Average loss: 0.0001\n",
      "Train Epoch: 89 [0/1000 (0%)]\tLoss: 0.000105\n",
      "====> Epoch: 89 Average loss: 0.0001\n",
      "Train Epoch: 90 [0/1000 (0%)]\tLoss: 0.000109\n",
      "====> Epoch: 90 Average loss: 0.0001\n",
      "Train Epoch: 91 [0/1000 (0%)]\tLoss: 0.000099\n",
      "====> Epoch: 91 Average loss: 0.0001\n",
      "Train Epoch: 92 [0/1000 (0%)]\tLoss: 0.000095\n",
      "====> Epoch: 92 Average loss: 0.0001\n",
      "Train Epoch: 93 [0/1000 (0%)]\tLoss: 0.000107\n",
      "====> Epoch: 93 Average loss: 0.0001\n",
      "Train Epoch: 94 [0/1000 (0%)]\tLoss: 0.000100\n",
      "====> Epoch: 94 Average loss: 0.0001\n",
      "Train Epoch: 95 [0/1000 (0%)]\tLoss: 0.000096\n",
      "====> Epoch: 95 Average loss: 0.0001\n",
      "Train Epoch: 96 [0/1000 (0%)]\tLoss: 0.000098\n",
      "====> Epoch: 96 Average loss: 0.0001\n",
      "Train Epoch: 97 [0/1000 (0%)]\tLoss: 0.000101\n",
      "====> Epoch: 97 Average loss: 0.0001\n",
      "Train Epoch: 98 [0/1000 (0%)]\tLoss: 0.000098\n",
      "====> Epoch: 98 Average loss: 0.0001\n",
      "Train Epoch: 99 [0/1000 (0%)]\tLoss: 0.000089\n",
      "====> Epoch: 99 Average loss: 0.0001\n",
      "Train Epoch: 100 [0/1000 (0%)]\tLoss: 0.000091\n",
      "====> Epoch: 100 Average loss: 0.0001\n",
      "Train Epoch: 101 [0/1000 (0%)]\tLoss: 0.000083\n",
      "====> Epoch: 101 Average loss: 0.0001\n",
      "Train Epoch: 102 [0/1000 (0%)]\tLoss: 0.000090\n",
      "====> Epoch: 102 Average loss: 0.0001\n",
      "Train Epoch: 103 [0/1000 (0%)]\tLoss: 0.000092\n",
      "====> Epoch: 103 Average loss: 0.0001\n",
      "Train Epoch: 104 [0/1000 (0%)]\tLoss: 0.000094\n",
      "====> Epoch: 104 Average loss: 0.0001\n",
      "Train Epoch: 105 [0/1000 (0%)]\tLoss: 0.000092\n",
      "====> Epoch: 105 Average loss: 0.0001\n",
      "Train Epoch: 106 [0/1000 (0%)]\tLoss: 0.000093\n",
      "====> Epoch: 106 Average loss: 0.0001\n",
      "Train Epoch: 107 [0/1000 (0%)]\tLoss: 0.000090\n",
      "====> Epoch: 107 Average loss: 0.0001\n",
      "Train Epoch: 108 [0/1000 (0%)]\tLoss: 0.000090\n",
      "====> Epoch: 108 Average loss: 0.0001\n",
      "Train Epoch: 109 [0/1000 (0%)]\tLoss: 0.000097\n",
      "====> Epoch: 109 Average loss: 0.0001\n",
      "Train Epoch: 110 [0/1000 (0%)]\tLoss: 0.000089\n",
      "====> Epoch: 110 Average loss: 0.0001\n",
      "Train Epoch: 111 [0/1000 (0%)]\tLoss: 0.000087\n",
      "====> Epoch: 111 Average loss: 0.0001\n",
      "Train Epoch: 112 [0/1000 (0%)]\tLoss: 0.000087\n",
      "====> Epoch: 112 Average loss: 0.0001\n",
      "Train Epoch: 113 [0/1000 (0%)]\tLoss: 0.000076\n",
      "====> Epoch: 113 Average loss: 0.0001\n",
      "Train Epoch: 114 [0/1000 (0%)]\tLoss: 0.000085\n",
      "====> Epoch: 114 Average loss: 0.0001\n",
      "Train Epoch: 115 [0/1000 (0%)]\tLoss: 0.000076\n",
      "====> Epoch: 115 Average loss: 0.0001\n",
      "Train Epoch: 116 [0/1000 (0%)]\tLoss: 0.000079\n",
      "====> Epoch: 116 Average loss: 0.0001\n",
      "Train Epoch: 117 [0/1000 (0%)]\tLoss: 0.000081\n",
      "====> Epoch: 117 Average loss: 0.0001\n",
      "Train Epoch: 118 [0/1000 (0%)]\tLoss: 0.000084\n",
      "====> Epoch: 118 Average loss: 0.0001\n",
      "Train Epoch: 119 [0/1000 (0%)]\tLoss: 0.000082\n",
      "====> Epoch: 119 Average loss: 0.0001\n",
      "Train Epoch: 120 [0/1000 (0%)]\tLoss: 0.000073\n",
      "====> Epoch: 120 Average loss: 0.0001\n",
      "Train Epoch: 121 [0/1000 (0%)]\tLoss: 0.000075\n",
      "====> Epoch: 121 Average loss: 0.0001\n",
      "Train Epoch: 122 [0/1000 (0%)]\tLoss: 0.000075\n",
      "====> Epoch: 122 Average loss: 0.0001\n",
      "Train Epoch: 123 [0/1000 (0%)]\tLoss: 0.000076\n",
      "====> Epoch: 123 Average loss: 0.0001\n",
      "Train Epoch: 124 [0/1000 (0%)]\tLoss: 0.000081\n",
      "====> Epoch: 124 Average loss: 0.0001\n",
      "Train Epoch: 125 [0/1000 (0%)]\tLoss: 0.000079\n",
      "====> Epoch: 125 Average loss: 0.0001\n",
      "Train Epoch: 126 [0/1000 (0%)]\tLoss: 0.000076\n",
      "====> Epoch: 126 Average loss: 0.0001\n",
      "Train Epoch: 127 [0/1000 (0%)]\tLoss: 0.000074\n",
      "====> Epoch: 127 Average loss: 0.0001\n",
      "Train Epoch: 128 [0/1000 (0%)]\tLoss: 0.000075\n",
      "====> Epoch: 128 Average loss: 0.0001\n",
      "Train Epoch: 129 [0/1000 (0%)]\tLoss: 0.000072\n",
      "====> Epoch: 129 Average loss: 0.0001\n",
      "Train Epoch: 130 [0/1000 (0%)]\tLoss: 0.000073\n",
      "====> Epoch: 130 Average loss: 0.0001\n",
      "Train Epoch: 131 [0/1000 (0%)]\tLoss: 0.000071\n",
      "====> Epoch: 131 Average loss: 0.0001\n",
      "Train Epoch: 132 [0/1000 (0%)]\tLoss: 0.000068\n",
      "====> Epoch: 132 Average loss: 0.0001\n",
      "Train Epoch: 133 [0/1000 (0%)]\tLoss: 0.000079\n",
      "====> Epoch: 133 Average loss: 0.0001\n",
      "Train Epoch: 134 [0/1000 (0%)]\tLoss: 0.000072\n",
      "====> Epoch: 134 Average loss: 0.0001\n",
      "Train Epoch: 135 [0/1000 (0%)]\tLoss: 0.000072\n",
      "====> Epoch: 135 Average loss: 0.0001\n",
      "Train Epoch: 136 [0/1000 (0%)]\tLoss: 0.000070\n",
      "====> Epoch: 136 Average loss: 0.0001\n",
      "Train Epoch: 137 [0/1000 (0%)]\tLoss: 0.000076\n",
      "====> Epoch: 137 Average loss: 0.0001\n",
      "Train Epoch: 138 [0/1000 (0%)]\tLoss: 0.000069\n",
      "====> Epoch: 138 Average loss: 0.0001\n",
      "Train Epoch: 139 [0/1000 (0%)]\tLoss: 0.000069\n",
      "====> Epoch: 139 Average loss: 0.0001\n",
      "Train Epoch: 140 [0/1000 (0%)]\tLoss: 0.000066\n",
      "====> Epoch: 140 Average loss: 0.0001\n",
      "Train Epoch: 141 [0/1000 (0%)]\tLoss: 0.000070\n",
      "====> Epoch: 141 Average loss: 0.0001\n",
      "Train Epoch: 142 [0/1000 (0%)]\tLoss: 0.000060\n",
      "====> Epoch: 142 Average loss: 0.0001\n",
      "Train Epoch: 143 [0/1000 (0%)]\tLoss: 0.000062\n",
      "====> Epoch: 143 Average loss: 0.0001\n",
      "Train Epoch: 144 [0/1000 (0%)]\tLoss: 0.000064\n",
      "====> Epoch: 144 Average loss: 0.0001\n",
      "Train Epoch: 145 [0/1000 (0%)]\tLoss: 0.000070\n",
      "====> Epoch: 145 Average loss: 0.0001\n",
      "Train Epoch: 146 [0/1000 (0%)]\tLoss: 0.000074\n",
      "====> Epoch: 146 Average loss: 0.0001\n",
      "Train Epoch: 147 [0/1000 (0%)]\tLoss: 0.000067\n",
      "====> Epoch: 147 Average loss: 0.0001\n",
      "Train Epoch: 148 [0/1000 (0%)]\tLoss: 0.000061\n",
      "====> Epoch: 148 Average loss: 0.0001\n",
      "Train Epoch: 149 [0/1000 (0%)]\tLoss: 0.000064\n",
      "====> Epoch: 149 Average loss: 0.0001\n"
     ]
    }
   ],
   "source": [
    "for epoch in range(0, n_epochs):\n",
    "  train_ae(ae_model,mnist_train_loader,epoch)"
   ]
  },
  {
   "cell_type": "code",
   "execution_count": 14,
   "metadata": {},
   "outputs": [],
   "source": [
    "def display_ae_images(ae_model, test_imgs):\n",
    "  n_images = 5\n",
    "  idx = np.random.randint(0, test_imgs.shape[0], n_images)\n",
    "  test_imgs = test_imgs[idx,:,:,:]\n",
    "  print(test_imgs.shape)\n",
    "\n",
    "  #get output images\n",
    "  output_imgs = pytorch_to_numpy(ae_model.forward( test_imgs ))\n",
    "  print(output_imgs.shape)\n",
    "  \n",
    "  r = 2\n",
    "  c = n_images\n",
    "  fig, axs = plt.subplots(r, c)\n",
    "  for j in range(c):\n",
    "    #black and white images\n",
    "    axs[0,j].imshow(test_imgs[j, 0,:,:], cmap='gray')\n",
    "    axs[0,j].axis('off')\n",
    "    axs[1,j].imshow(output_imgs[j, 0,:,:], cmap='gray')\n",
    "    axs[1,j].axis('off')\n",
    "  plt.suptitle(f\"(top row) Original\\n (bottom row) AE compressed/decompressed images\\ncompression ratio {z_dim/n_pixels:.3%}\")\n",
    "  plt.show()"
   ]
  },
  {
   "cell_type": "code",
   "execution_count": 15,
   "metadata": {
    "id": "9pbXch29d68D"
   },
   "outputs": [
    {
     "name": "stdout",
     "output_type": "stream",
     "text": [
      "torch.Size([5, 1, 28, 28])\n",
      "(5, 1, 28, 28)\n"
     ]
    },
    {
     "data": {
      "image/png": "[encoded data removed]",
      "text/plain": [
       "<Figure size 640x480 with 10 Axes>"
      ]
     },
     "metadata": {},
     "output_type": "display_data"
    }
   ],
   "source": [
    "test_imgs = next(iter(mnist_train_loader))[0]\n",
    "display_ae_images(ae_model, test_imgs)"
   ]
  },
  {
   "cell_type": "markdown",
   "metadata": {
    "id": "assPaJqB5sa-"
   },
   "source": [
    "__Question__ Are you satisfied with the results, do they look good ?"
   ]
  },
  {
   "cell_type": "markdown",
   "metadata": {
    "id": "Q7uoWa4O5x8R"
   },
   "source": [
    "__Your answer:__\n",
    "Overall, digits look similar to the input despite the auto-encoder high compression rate (factor 1.276%).\n",
    "The images look slightly blurier than the inputs.\n",
    "Some details are removed if you look carefully, for instance the loop in the 4th image (the second six) has been closed.\n",
    "\n",
    "![](figures/ae_samples.png)"
   ]
  },
  {
   "cell_type": "markdown",
   "metadata": {
    "id": "zO9ATQEiyr3b"
   },
   "source": [
    "## 2/ Two simple generative models\n",
    "\n",
    "In this section, we consider two naïve approaches to creating generative models. The general idea is the following:\n",
    "\n",
    "- train an autoencoder\n",
    "- estimate different statistics (average, variance) of the data in the latent space\n",
    "- using these statistics, define a model based on a Gaussian distribution\n",
    "- generate data with this distribution\n",
    "\n",
    "We will consider these two situations :\n",
    "\n",
    "- a multivariate Gaussian distribution with __diagonal covariance matrix__ (each latent component is an independent random variable). This requires the average and variance in each latent component\n",
    "- a multivariate Gaussian distribution with __non-diagonal covariance matrix__. This requires the average and covariance matrix of the latent components\n",
    "\n",
    "Obviously, since this is done _a posteriori_ after training the autoencoder, there is nothing which guarantees that the latent codes do indeed follow a Gaussian distribution. Our goal will be to verify that Variational Autoencoders indeed produce better results than such naïve approaches."
   ]
  },
  {
   "cell_type": "markdown",
   "metadata": {
    "id": "x2M1-BRmf56d"
   },
   "source": [
    "## 2.0 Defining and generating random Gaussian latent codes\n",
    "\n",
    "Let $z$ be a latent code and $d$ the dimension of the latent space (called ``z_dim`` in the code). We suppose that the $z$'s follow a multivariate Gaussian distribution, written as:\n",
    "\n",
    "\\begin{equation}\n",
    "z \\sim \\mathcal{N}\\left(\n",
    "\\mu,\n",
    "\\bf{C}\n",
    "\\right),\n",
    "\\end{equation}\n",
    "where $\\mu$ and $\\bf{C}$ are the average vector and covariance matrix of the Gaussian distribution. To define such a generative model, we must therefore determine $\\mu$ and $\\bf{C}$. Once this is done, we can generate a random Gaussian latent code in the following manner:\n",
    "\n",
    "\\begin{equation}\n",
    "z = \\mu + {\\bf{L}} \\varepsilon,\n",
    "\\end{equation}\n",
    "where $\\varepsilon$ is a random vector drawn from a multivariate normal distribution ($\\mu=0$ and ${\\bf{C}} = \\text{Id}$), and $\\bf{L}$ is the Cholesky decomposition of the positive semi-definite covariance matrix. In other words:\n",
    "\n",
    "\\begin{equation}\n",
    "{\\bf{C}} = {\\bf{L}}{\\bf{L}^T}.\n",
    "\\end{equation}\n",
    "\n",
    "This gives a simple method of producing a multivariate Gaussian random variable."
   ]
  },
  {
   "cell_type": "markdown",
   "metadata": {
    "id": "NWpucm972i7j"
   },
   "source": [
    "## 2.1/ A Gaussian model with diagonal covariance\n",
    "\n",
    "The first naïve model is  defined in this first case as:\n",
    "\n",
    "- $\\bf{\\mu}=\\left[\\mu_0, \\mu_1, \\cdots, \\mu_{d-1}\\right]^T$\n",
    "- $\n",
    "  \\bf{C} = \\begin{pmatrix}\n",
    "\\sigma_0^2 & 0 & \\cdots & 0 \\\\\n",
    "0 & \\sigma_1^2 & \\cdots & 0 \\\\\n",
    "\\vdots & \\ddots & \\ddots & \\vdots \\\\\n",
    "0 & 0 & \\cdots & \\sigma_{d-1}^2\n",
    "\\end{pmatrix}$\n",
    "\n",
    "In this situation, therefore, the matrix $\\bf{L}$ can be calculated quite simply, as:\n",
    "- $\n",
    "  \\bf{L} = \\begin{pmatrix}\n",
    "\\sigma_0 & 0 & \\cdots & 0 \\\\\n",
    "0 & \\sigma_1 & \\cdots & 0 \\\\\n",
    "\\vdots & \\ddots & \\ddots & \\vdots \\\\\n",
    "0 & 0 & \\cdots & \\sigma_{d-1}\n",
    "\\end{pmatrix}$\n",
    "\n",
    "In the next cell, calculate the empirical average and variances over a certain number of batches:"
   ]
  },
  {
   "cell_type": "code",
   "execution_count": 195,
   "metadata": {
    "id": "sUXHCtvW2iQ0"
   },
   "outputs": [
    {
     "name": "stdout",
     "output_type": "stream",
     "text": [
      "Average of latent codes: tensor([-1.8950, -2.8989,  4.1039, -2.1516,  3.1355,  3.9627, -3.7008, -1.8233,\n",
      "         4.5559,  1.1885])\n",
      "Standard deviation of latent codes: tensor([3.4938, 5.1418, 3.2634, 4.0588, 3.8447, 4.2523, 3.8816, 3.4964, 3.7547,\n",
      "        3.4330])\n"
     ]
    }
   ],
   "source": [
    "n_batches = np.floor(len(mnist_train_loader.dataset.indices)/batch_size).astype(int)\n",
    "with torch.no_grad():\n",
    "    ae_model.eval()\n",
    "    z_average = torch.zeros(n_batches, ae_model.z_dim)\n",
    "    z_sigma = torch.zeros(n_batches, ae_model.z_dim)\n",
    "\n",
    "    for batch_idx, (data, _) in enumerate(mnist_train_loader):\n",
    "        z = ae_model.encoder(data.view(data.shape[0], -1))\n",
    "        z_average[batch_idx, :] = torch.mean(z, 0)\n",
    "        z_sigma[batch_idx, :] = torch.std(z, 0)\n",
    "\n",
    "    z_average = torch.mean(z_average, 0)\n",
    "    z_sigma = torch.mean(z_sigma, 0)\n",
    "\n",
    "print(\"Average of latent codes:\", z_average)\n",
    "print(\"Standard deviation of latent codes:\", z_sigma)"
   ]
  },
  {
   "cell_type": "markdown",
   "metadata": {
    "id": "Lrpc62ML9K4l"
   },
   "source": [
    "Now, in the next cell generate data with this simple generative model using the approach described above. Display these images with the ``display_images`` function. \n",
    "\n",
    "__NB__ You do not actually have to define the matrix $\\bf{L}$ in this case, an element-wise multiplication of two (properly chosen) vectors will suffice. To generate multivariate normal random variables you can use the following Pytorch function:\n",
    "\n",
    "- ```torch.randn```\n"
   ]
  },
  {
   "cell_type": "code",
   "execution_count": 103,
   "metadata": {
    "id": "1_Tekii-9QEo"
   },
   "outputs": [
    {
     "data": {
      "image/png": "[encoded data removed]",
      "text/plain": [
       "<Figure size 640x480 with 5 Axes>"
      ]
     },
     "metadata": {},
     "output_type": "display_data"
    },
    {
     "data": {
      "image/png": "[encoded data removed]",
      "text/plain": [
       "<Figure size 640x480 with 5 Axes>"
      ]
     },
     "metadata": {},
     "output_type": "display_data"
    },
    {
     "data": {
      "image/png": "[encoded data removed]",
      "text/plain": [
       "<Figure size 640x480 with 5 Axes>"
      ]
     },
     "metadata": {},
     "output_type": "display_data"
    },
    {
     "data": {
      "image/png": "[encoded data removed]",
      "text/plain": [
       "<Figure size 640x480 with 5 Axes>"
      ]
     },
     "metadata": {},
     "output_type": "display_data"
    }
   ],
   "source": [
    "def generate_images_diagonal_gaussian(\n",
    "    ae_model: AE,\n",
    "    z_average: torch.Tensor,\n",
    "    z_sigma: torch.Tensor ,n_images: int = 5) -> torch.Tensor:\n",
    "  epsilon =  torch.randn(n_images, ae_model.z_dim)\n",
    "  # z_generated = torch.matmul(epsilon,torch.diag(z_sigma)) + z_average\n",
    "  z_generated = z_average + z_sigma*epsilon\n",
    "  imgs_generated = ae_model.decoder(z_generated)\n",
    "  imgs_generated = imgs_generated.view(n_images,1,n_rows,n_cols)\n",
    "  return(imgs_generated)\n",
    "\n",
    "imgs_generated = generate_images_diagonal_gaussian(ae_model,z_average,z_sigma,n_images=20)\n",
    "display_images(imgs_generated[:5])\n",
    "display_images(imgs_generated[5:10])\n",
    "display_images(imgs_generated[10:15])\n",
    "display_images(imgs_generated[15:20])"
   ]
  },
  {
   "cell_type": "markdown",
   "metadata": {
    "id": "xiNaEgLIloeA"
   },
   "source": [
    "As you should be able to see, these results are not that good. Let's try a slightly more sophisticated model.\n",
    "\n",
    "![](figures/ae_latent_diagonal_generation.png)"
   ]
  },
  {
   "cell_type": "markdown",
   "metadata": {
    "id": "WjVPfkRKYMSh"
   },
   "source": [
    "## 2.1 Non-diagonal Gaussian model\n",
    "\n",
    "The second model uses a non-diagonal covariance matrix $\\bf{C}$ in the multivariate Gaussian distribution. In the next cell, calculate the average and covariance matrix over several batches of latent codes.\n",
    "\n",
    "__NB__ You can use the ```torch.cov``` function. Make sure to put the data in the right format for this (see documentation : https://pytorch.org/docs/stable/generated/torch.cov.html)."
   ]
  },
  {
   "cell_type": "code",
   "execution_count": 55,
   "metadata": {},
   "outputs": [
    {
     "data": {
      "text/plain": [
       "128"
      ]
     },
     "execution_count": 55,
     "metadata": {},
     "output_type": "execute_result"
    }
   ],
   "source": [
    "mnist_train_loader.batch_size"
   ]
  },
  {
   "cell_type": "code",
   "execution_count": 194,
   "metadata": {
    "id": "ArXgre39CD2H"
   },
   "outputs": [
    {
     "name": "stdout",
     "output_type": "stream",
     "text": [
      "Average of latent codes: tensor([-1.8891, -2.9401,  4.1222, -2.1018,  3.1426,  3.9225, -3.6981, -1.8968,\n",
      "         4.5966,  1.1510])\n",
      "Covariance matrix of latent codes: tensor([[ 3.1076e+01,  2.2061e+00, -1.8643e+01, -5.0480e-01,  5.8635e+00,\n",
      "         -5.8430e+00,  1.1206e+01, -5.8394e+00, -1.5245e+01,  5.4148e+00],\n",
      "        [ 2.2061e+00,  6.5698e+01, -1.7879e+01, -6.9385e+00, -1.6635e+01,\n",
      "         -5.7837e+00,  2.9270e+01,  6.2434e+00, -2.7235e+01, -1.0860e+01],\n",
      "        [-1.8643e+01, -1.7879e+01,  4.2725e+01, -6.8043e+00,  1.0059e+01,\n",
      "          1.8224e+01, -2.0280e+01, -3.4973e-01,  2.2221e+01, -5.8344e+00],\n",
      "        [-5.0480e-01, -6.9385e+00, -6.8043e+00,  4.1138e+01, -1.0630e+01,\n",
      "         -5.0947e+00, -3.4200e+00,  3.0573e+00, -1.3085e+01, -1.2093e+01],\n",
      "        [ 5.8635e+00, -1.6635e+01,  1.0059e+01, -1.0630e+01,  4.1812e+01,\n",
      "          1.4944e+01, -2.4926e+01, -1.4168e+01,  1.8873e+01,  1.7817e+00],\n",
      "        [-5.8430e+00, -5.7837e+00,  1.8224e+01, -5.0947e+00,  1.4944e+01,\n",
      "          5.5610e+01, -2.6337e+01, -3.5524e+00,  2.5153e+01,  6.9246e+00],\n",
      "        [ 1.1206e+01,  2.9270e+01, -2.0280e+01, -3.4200e+00, -2.4926e+01,\n",
      "         -2.6337e+01,  4.7042e+01, -3.7698e-02, -1.5946e+01, -3.5725e+00],\n",
      "        [-5.8394e+00,  6.2434e+00, -3.4973e-01,  3.0573e+00, -1.4168e+01,\n",
      "         -3.5524e+00, -3.7698e-02,  2.9807e+01, -1.9481e+01, -4.9933e+00],\n",
      "        [-1.5245e+01, -2.7235e+01,  2.2221e+01, -1.3085e+01,  1.8873e+01,\n",
      "          2.5153e+01, -1.5946e+01, -1.9481e+01,  5.4492e+01,  4.6515e+00],\n",
      "        [ 5.4148e+00, -1.0860e+01, -5.8344e+00, -1.2093e+01,  1.7817e+00,\n",
      "          6.9246e+00, -3.5725e+00, -4.9933e+00,  4.6515e+00,  2.6925e+01]])\n"
     ]
    }
   ],
   "source": [
    "n_batches = np.floor(len(mnist_train_loader.dataset.indices)/batch_size).astype(int)\n",
    "with torch.no_grad():\n",
    "    ae_model.eval()\n",
    "    z_average = torch.zeros(n_batches, ae_model.z_dim)\n",
    "    z_covariance_approx = torch.zeros(n_batches, ae_model.z_dim, ae_model.z_dim)\n",
    "    latents_stack = torch.zeros(n_batches, mnist_train_loader.batch_size, ae_model.z_dim)\n",
    "    for batch_idx, (data, _) in enumerate(mnist_train_loader):\n",
    "        z = ae_model.encoder(data.view(data.shape[0],-1))\n",
    "        z_average[batch_idx, :] = torch.mean(z, 0)\n",
    "        # z_covariance_approx[batch_idx, :, :] = torch.cov(z.T)\n",
    "        # similar to (torch.matmul((z-z_average).T,(z-z_average))/z.shape[0])\n",
    "        latents_stack[batch_idx, :, :] = z\n",
    "    z_average = torch.mean(z_average, 0)\n",
    "    # z_covariance_approx = torch.mean(z_covariance, 0) # THIS IS AN APPROXIMATION OF THE COVARIANCE MATRIX x²+y² != x²\n",
    "    z_covariance =torch.cov(latents_stack.view(-1, ae_model.z_dim).T)\n",
    "assert torch.allclose(z_covariance, z_covariance.T), \"Covariance matrix is not symmetric\"\n",
    "print(\"Average of latent codes:\", z_average)\n",
    "print(\"Covariance matrix of latent codes:\", z_covariance)"
   ]
  },
  {
   "cell_type": "markdown",
   "metadata": {
    "id": "JhXU8cnTZ0E8"
   },
   "source": [
    "Now, generate some samples with this distribution. In this case, you will actually have to calculate the Cholesky decomposition and find $\\bf{L}$. For this, you can use \n",
    "\n",
    "- ```torch.linalg.cholesky```\n",
    "\n",
    "In this model, you will need to carry out matrix multiplication over a batch of latent codes, which is a bit more complicated than the previous naïve model (which used element-wise vector multiplication). So you have two options:\n",
    "\n",
    "- copy the matrix $\\bf{L}$ several times and carry out batch matrix multiplication\n",
    "- simply loop and carry out normal matrix multiplication to produce each image (this has the disadvantage of not taking advantage of any parallelisation, but it should not matter too much).\n",
    "\n",
    "In the first case, you can use the following functions:\n",
    "\n",
    "- ```torch.bmm```\n",
    "- ```torch.tile```\n",
    "\n",
    "Fill in the function to generate images using this model now:"
   ]
  },
  {
   "cell_type": "code",
   "execution_count": 100,
   "metadata": {
    "id": "zXGlJTZ7Z4ed"
   },
   "outputs": [
    {
     "data": {
      "image/png": "[encoded data removed]",
      "text/plain": [
       "<Figure size 640x480 with 5 Axes>"
      ]
     },
     "metadata": {},
     "output_type": "display_data"
    },
    {
     "data": {
      "image/png": "[encoded data removed]",
      "text/plain": [
       "<Figure size 640x480 with 5 Axes>"
      ]
     },
     "metadata": {},
     "output_type": "display_data"
    },
    {
     "data": {
      "image/png": "[encoded data removed]",
      "text/plain": [
       "<Figure size 640x480 with 5 Axes>"
      ]
     },
     "metadata": {},
     "output_type": "display_data"
    },
    {
     "data": {
      "image/png": "[encoded data removed]",
      "text/plain": [
       "<Figure size 640x480 with 5 Axes>"
      ]
     },
     "metadata": {},
     "output_type": "display_data"
    }
   ],
   "source": [
    "def generate_images_non_diagonal_gaussian(ae_model: AE, z_average: torch.Tensor, z_covariance: torch.Tensor, n_images: int = 5) -> torch.Tensor:\n",
    "  # Calculate Cholesky decomposition of covariance matrix: C = L L^T\n",
    "  # Make sure that the first dimension is the batch dimension (with batch size n_images)\n",
    "  # You can use the torch.unsqueeze function for this\n",
    "  L = torch.linalg.cholesky(z_covariance)\n",
    "  epsilon = torch.randn(n_images, ae_model.z_dim)\n",
    "  z_generated = z_average + torch.matmul(epsilon, L.T)\n",
    "  imgs_generated = ae_model.decoder(z_generated)\n",
    "  imgs_generated = imgs_generated.view(n_images, 1, n_rows, n_cols)\n",
    "  return imgs_generated\n",
    "\n",
    "imgs_generated = generate_images_non_diagonal_gaussian(ae_model, z_average, z_covariance, n_images=20)\n",
    "display_images(imgs_generated[:5])\n",
    "display_images(imgs_generated[5:10])\n",
    "display_images(imgs_generated[10:15])\n",
    "display_images(imgs_generated[15:20])"
   ]
  },
  {
   "cell_type": "markdown",
   "metadata": {
    "id": "qLtsdri6zKEm"
   },
   "source": [
    "You should see some improvement, but we can do better than this. Thus, we turn to the variational autoencoder."
   ]
  },
  {
   "cell_type": "markdown",
   "metadata": {
    "id": "8UqeNhuSdnDt"
   },
   "source": [
    "# 3/ Variational autoencoder\n",
    "\n",
    "Now, we are going to create an variational autoencoder to carry out __image generation__. Let's first recall the idea of a variational autoencoder\n",
    "\n",
    "## Main idea\n",
    "\n",
    "The main idea is to create an autoencoder whose latent codes follow a certain distribution (a Gaussian distribution in practice). This is done with two tools : \n",
    "\n",
    "- A specific architecture, where the encoder produces the average and variance of the latent codes\n",
    "- A specially designed loss function\n",
    "\n",
    "Once the VAE is trained, it is possible to sample in the latent space by producing random normal variables and simply decoding.\n",
    "\n",
    "## Architecture\n",
    "\n",
    "The architecture of the VAE model is as follows:\n",
    "\n",
    "The encoder consists of:\n",
    "\n",
    "Encoder :\n",
    "- Flatten input\n",
    "- Dense layer $+$ ReLU\n",
    "- Dense layer $+$ ReLU\n",
    "- Dense layer (no non-linarity) to produce the average, Dense layer (no non-linarity) to produce the variance (these last two layers are in parallel)\n",
    "\n",
    "Decoder :\n",
    "- Dense layer $+$ ReLU\n",
    "- Dense layer $+$ ReLU\n",
    "- Dense layer $+$ Sigmoid Activation\n",
    "- Reshape, to size $28\\times 28\\times 1$\n",
    "\n",
    "\n",
    "## Variational Autoencoder loss\n",
    "\n",
    "Recall that for the VAE, the loss function is in fact a function to __maximise__. In fact, for implementation, you will see that it is easier to __minimise__ $-\\mathcal{L}$.\n",
    "\n",
    "In the case of an image which is represented by a set of __Bernoulli__ variables (which is relevant for mnist), the original loss function (to maximise) is written :\n",
    "\n",
    "\n",
    "\\begin{align}\n",
    "\\mathcal{L} &= \\log\\left(p_\\theta(x|z)\\right) - KL\\left( q_\\phi(z|x) \\; || \\; p_\\theta(z)\\right) \\\\\n",
    "    &= \\left(\\sum_{i} x_i \\log y_i + (1-x_i) \\log (1-y_i)\\right) - \\left(\\frac{1}{2} \\sum_j \\left( \\sigma_j^2 + \\mu_j^2 - \\log \\sigma_j^2 -1 \\right)\\right)\n",
    "\\end{align}\n",
    "\n",
    "\n",
    "where $i$ is summed over the image pixels, and $j$ is summed over the elements of the latent space. $\\sigma_j^2$ is the $j$th element of the latent space variance, and $\\mu_j$ is the $j$th element of the latent space mean.\n",
    "\n",
    "The left part of the loss (reconstruction error) can be implemented simply as the binary cross-entropy between the input x and the output y. Since we are __maximising__ $-$[binary cross-entropy] (look at the formula), this is equivalent to minimising the binary cross-entropy.\n",
    "\n",
    "For the right part of the equation (KL divergence), you need to implement it manually. \n",
    "\n",
    "The final loss is the average, over the batch size, of the sum of the reconstruction error (left part) and the KL divergence (right part). Be careful, in the formula, the sums over $i$ and $j$ are over the number of pixels and the number of latent elements, respectively. To achieve a sum rather than an average, you can use ```torch.nn.BCELoss(reduction='sum')()```, and the ```torch.sum()``` functions.\n",
    "\n",
    "As in the case of the normal autoencoder, you will need to flatten and then reshape the tensors at the beginning/end of the network."
   ]
  },
  {
   "cell_type": "code",
   "execution_count": 104,
   "metadata": {
    "id": "6siMHQLheM4T"
   },
   "outputs": [
    {
     "name": "stdout",
     "output_type": "stream",
     "text": [
      "torch.Size([])\n",
      "torch.Size([])\n"
     ]
    }
   ],
   "source": [
    "from typing import Tuple\n",
    "class VAE(torch.nn.Module ):\n",
    "  def loss_function(self,x: torch.Tensor, y: torch.Tensor, mu: torch.Tensor, log_var: torch.Tensor) -> torch.Tensor:\n",
    "    \"\"\"Cross entropy loss function + KL divergence on the latent space µ and sigma\n",
    "    Warning: \n",
    "    - the reconstruction error should not be divided by the number of pixels in the image\n",
    "    - 1/2 is the KL weight\n",
    "\n",
    "    Args:\n",
    "        x (torch.Tensor): input N, C, H, W\n",
    "        y (torch.Tensor): output (to compute the reconstuction error)\n",
    "        mu (torch.Tensor): gaussian average µ\n",
    "        log_var (torch.Tensor): log of the variance (so we avoid negative variances)\n",
    "\n",
    "    Returns:\n",
    "        torch.Tensor: reconstruction error - 0.5 KL divergence between the prior and the standard normal distribution\n",
    "    \"\"\"\n",
    "    \n",
    "    # loss should be around 105-115\n",
    "    reconstruction_loss = torch.nn.BCELoss(reduction=\"sum\")\n",
    "    reconstruction_error = - reconstruction_loss(y, x)\n",
    "    variance = self.log_var_to_var(log_var) #exp basically\n",
    "    kld = mu**2 + variance - 1. - log_var\n",
    "    kld = kld.sum()\n",
    "    loss = (reconstruction_error - 0.5*kld)/x.shape[0] #average over the batch dimension!\n",
    "\n",
    "    return loss\n",
    "\n",
    "  def __init__(self, x_dim, h_dim1, h_dim2, z_dim,n_rows,n_cols,n_channels):\n",
    "    super(VAE, self).__init__()\n",
    "\n",
    "    self.n_rows = n_rows\n",
    "    self.n_cols = n_cols\n",
    "    self.n_channels = n_channels\n",
    "    self.n_pixels = (self.n_rows)*(self.n_cols)\n",
    "    self.z_dim = z_dim\n",
    "\n",
    "    # encoder part\n",
    "    self.non_lin = torch.nn.ReLU()\n",
    "    self.fc1 =  torch.nn.Linear(x_dim,  h_dim1)\n",
    "    self.fc2 = torch.nn.Linear(h_dim1,  h_dim2)\n",
    "    self.fc31 = torch.nn.Linear(h_dim2,  z_dim)\n",
    "    self.fc32 = torch.nn.Linear(h_dim2,  z_dim)\n",
    "    \n",
    "    self.encoder_start = torch.nn.Sequential(\n",
    "      self.fc1, self.non_lin, self.fc2, self.non_lin\n",
    "    )\n",
    "    # decoder part\n",
    "    self.fc4 = torch.nn.Linear(z_dim,  h_dim2)\n",
    "    self.fc5 = torch.nn.Linear(h_dim2,  h_dim1)\n",
    "    self.fc6 = torch.nn.Linear(h_dim1,  x_dim)\n",
    "    self.sigmoid = torch.nn.Sigmoid()\n",
    "    self.decoder = torch.nn.Sequential(\n",
    "      self.fc4, self.non_lin, self.fc5, self.non_lin, self.fc6, self.sigmoid\n",
    "    )\n",
    "\n",
    "  def encoder(self, x: torch.Tensor) -> tuple[torch.Tensor, torch.Tensor]:\n",
    "    h = self.encoder_start(x)\n",
    "    mu = self.fc31(h)\n",
    "    log_var = self.fc32(h)\n",
    "    return mu, log_var # mu, log_var\n",
    "\n",
    "  def log_var_to_var(self, log_var: torch.Tensor) -> torch.Tensor:\n",
    "    return torch.exp(log_var)\n",
    "  def sampling(self, mu, log_var):\n",
    "    # this function samples a Gaussian distribution, with average (mu) and standard deviation specified (using log_var)\n",
    "    std = self.log_var_to_var(log_var)\n",
    "    eps = torch.randn(mu.shape, requires_grad=False)\n",
    "    return eps.mul(std).add_(mu) # return z sample\n",
    "\n",
    "  def forward(self, x: torch.Tensor, forced_log_var: float=None) -> Tuple[torch.Tensor, torch.Tensor, torch.Tensor]:\n",
    "    z_mu, z_log_var = self.encoder(x.view(-1, self.n_pixels))\n",
    "    if forced_log_var is not None:\n",
    "      z_log_var = torch.ones_like(z_log_var) * forced_log_var\n",
    "    z = self.sampling(z_mu, z_log_var)\n",
    "    y = self.decoder(z)\n",
    "    y = y.view(x.shape)\n",
    "    return y, z_mu, z_log_var\n",
    "\n",
    "\n",
    "vae_dim_1 = ae_dim_1\n",
    "vae_dim_2 = ae_dim_2\n",
    "vae_model = VAE(x_dim=n_pixels, h_dim1= vae_dim_1, h_dim2=vae_dim_2, z_dim=z_dim,n_rows=n_rows,n_cols=n_cols,n_channels=n_channels)\n",
    "for x_in in [torch.rand(8, 1, 28, 28), torch.rand(8, 28, 28)]:\n",
    "  y_out, mu_out, log_var_out  = vae_model(x_in)\n",
    "  assert y_out.shape == x_in.shape\n",
    "  # print(mu_out.shape, log_var_out.shape)\n",
    "  my_loss = vae_model.loss_function(x_in, y_out, mu_out, log_var_out)\n",
    "  print(my_loss.shape)"
   ]
  },
  {
   "cell_type": "markdown",
   "metadata": {
    "id": "hk_9fDIphlsi"
   },
   "source": [
    "Now, create the model (similarly as above)"
   ]
  },
  {
   "cell_type": "code",
   "execution_count": 105,
   "metadata": {
    "id": "pVlpC2R3htyU"
   },
   "outputs": [],
   "source": [
    "# create model\n",
    "vae_dim_1 = ae_dim_1\n",
    "vae_dim_2 = ae_dim_2\n",
    "vae_model = VAE(x_dim=n_pixels, h_dim1= vae_dim_1, h_dim2=vae_dim_2, z_dim=z_dim,n_rows=n_rows,n_cols=n_cols,n_channels=n_channels)\n",
    "vae_optimizer = optim.Adam(vae_model.parameters())"
   ]
  },
  {
   "cell_type": "markdown",
   "metadata": {
    "id": "NYKLF_oMh5HO"
   },
   "source": [
    "Finally, train the model. First modify the training function to the case of the vae."
   ]
  },
  {
   "cell_type": "code",
   "execution_count": 106,
   "metadata": {
    "id": "z6DjKTWmmssb"
   },
   "outputs": [],
   "source": [
    "def train_vae(vae_model,data_train_loader,epoch):\n",
    "  train_loss = 0\n",
    "  for batch_idx, (data, _) in enumerate(data_train_loader):\n",
    "    vae_optimizer.zero_grad()\n",
    "\n",
    "    y, z_mu, z_log_var = vae_model(data) # FILL IN CODE HERE\n",
    "    loss_vae =  vae_model.loss_function(data, y, z_mu, z_log_var) # FILL IN CODE HERE\n",
    "    loss_vae_neg  = - loss_vae\n",
    "    (loss_vae_neg).backward()\n",
    "    # loss_vae.backward()\n",
    "    train_loss += loss_vae.item()\n",
    "    vae_optimizer.step() \n",
    "\t\t\n",
    "    if batch_idx % 100 == 0:\n",
    "      print('Train Epoch: {} [{}/{} ({:.0f}%)]\\tLoss: {:.6f}'.format(\n",
    "      epoch, batch_idx * len(data), len(data_train_loader.dataset),\n",
    "      100. * batch_idx / len(data_train_loader), loss_vae.item() / len(data)))\n",
    "  print('====> Epoch: {} Average loss: {:.4f}'.format(epoch, train_loss / len(data_train_loader.dataset)))\n"
   ]
  },
  {
   "cell_type": "code",
   "execution_count": 107,
   "metadata": {
    "id": "L9JUUs6Kh8HB"
   },
   "outputs": [
    {
     "name": "stdout",
     "output_type": "stream",
     "text": [
      "Train Epoch: 0 [0/1000 (0%)]\tLoss: -4.250510\n",
      "====> Epoch: 0 Average loss: -3.2086\n",
      "Train Epoch: 1 [0/1000 (0%)]\tLoss: -2.180223\n",
      "====> Epoch: 1 Average loss: -1.8457\n",
      "Train Epoch: 2 [0/1000 (0%)]\tLoss: -1.821287\n",
      "====> Epoch: 2 Average loss: -1.5719\n",
      "Train Epoch: 3 [0/1000 (0%)]\tLoss: -1.714563\n",
      "====> Epoch: 3 Average loss: -1.4942\n",
      "Train Epoch: 4 [0/1000 (0%)]\tLoss: -1.630244\n",
      "====> Epoch: 4 Average loss: -1.4757\n",
      "Train Epoch: 5 [0/1000 (0%)]\tLoss: -1.634551\n",
      "====> Epoch: 5 Average loss: -1.4467\n",
      "Train Epoch: 6 [0/1000 (0%)]\tLoss: -1.572440\n",
      "====> Epoch: 6 Average loss: -1.4389\n",
      "Train Epoch: 7 [0/1000 (0%)]\tLoss: -1.580708\n",
      "====> Epoch: 7 Average loss: -1.4197\n",
      "Train Epoch: 8 [0/1000 (0%)]\tLoss: -1.574780\n",
      "====> Epoch: 8 Average loss: -1.4113\n",
      "Train Epoch: 9 [0/1000 (0%)]\tLoss: -1.572292\n",
      "====> Epoch: 9 Average loss: -1.4131\n",
      "Train Epoch: 10 [0/1000 (0%)]\tLoss: -1.588510\n",
      "====> Epoch: 10 Average loss: -1.4018\n",
      "Train Epoch: 11 [0/1000 (0%)]\tLoss: -1.568540\n",
      "====> Epoch: 11 Average loss: -1.3972\n",
      "Train Epoch: 12 [0/1000 (0%)]\tLoss: -1.546427\n",
      "====> Epoch: 12 Average loss: -1.3901\n",
      "Train Epoch: 13 [0/1000 (0%)]\tLoss: -1.504200\n",
      "====> Epoch: 13 Average loss: -1.3717\n",
      "Train Epoch: 14 [0/1000 (0%)]\tLoss: -1.524972\n",
      "====> Epoch: 14 Average loss: -1.3654\n",
      "Train Epoch: 15 [0/1000 (0%)]\tLoss: -1.497016\n",
      "====> Epoch: 15 Average loss: -1.3555\n",
      "Train Epoch: 16 [0/1000 (0%)]\tLoss: -1.495675\n",
      "====> Epoch: 16 Average loss: -1.3332\n",
      "Train Epoch: 17 [0/1000 (0%)]\tLoss: -1.527907\n",
      "====> Epoch: 17 Average loss: -1.3212\n",
      "Train Epoch: 18 [0/1000 (0%)]\tLoss: -1.452659\n",
      "====> Epoch: 18 Average loss: -1.2930\n",
      "Train Epoch: 19 [0/1000 (0%)]\tLoss: -1.448650\n",
      "====> Epoch: 19 Average loss: -1.2806\n",
      "Train Epoch: 20 [0/1000 (0%)]\tLoss: -1.411409\n",
      "====> Epoch: 20 Average loss: -1.2651\n",
      "Train Epoch: 21 [0/1000 (0%)]\tLoss: -1.365936\n",
      "====> Epoch: 21 Average loss: -1.2501\n",
      "Train Epoch: 22 [0/1000 (0%)]\tLoss: -1.368872\n",
      "====> Epoch: 22 Average loss: -1.2375\n",
      "Train Epoch: 23 [0/1000 (0%)]\tLoss: -1.388222\n",
      "====> Epoch: 23 Average loss: -1.2277\n",
      "Train Epoch: 24 [0/1000 (0%)]\tLoss: -1.385881\n",
      "====> Epoch: 24 Average loss: -1.2287\n",
      "Train Epoch: 25 [0/1000 (0%)]\tLoss: -1.352725\n",
      "====> Epoch: 25 Average loss: -1.2108\n",
      "Train Epoch: 26 [0/1000 (0%)]\tLoss: -1.370281\n",
      "====> Epoch: 26 Average loss: -1.1968\n",
      "Train Epoch: 27 [0/1000 (0%)]\tLoss: -1.324944\n",
      "====> Epoch: 27 Average loss: -1.1806\n",
      "Train Epoch: 28 [0/1000 (0%)]\tLoss: -1.312986\n",
      "====> Epoch: 28 Average loss: -1.1774\n",
      "Train Epoch: 29 [0/1000 (0%)]\tLoss: -1.276300\n",
      "====> Epoch: 29 Average loss: -1.1688\n",
      "Train Epoch: 30 [0/1000 (0%)]\tLoss: -1.331341\n",
      "====> Epoch: 30 Average loss: -1.1560\n",
      "Train Epoch: 31 [0/1000 (0%)]\tLoss: -1.293334\n",
      "====> Epoch: 31 Average loss: -1.1472\n",
      "Train Epoch: 32 [0/1000 (0%)]\tLoss: -1.301172\n",
      "====> Epoch: 32 Average loss: -1.1268\n",
      "Train Epoch: 33 [0/1000 (0%)]\tLoss: -1.222369\n",
      "====> Epoch: 33 Average loss: -1.1260\n",
      "Train Epoch: 34 [0/1000 (0%)]\tLoss: -1.215595\n",
      "====> Epoch: 34 Average loss: -1.1064\n",
      "Train Epoch: 35 [0/1000 (0%)]\tLoss: -1.244290\n",
      "====> Epoch: 35 Average loss: -1.0961\n",
      "Train Epoch: 36 [0/1000 (0%)]\tLoss: -1.216549\n",
      "====> Epoch: 36 Average loss: -1.0801\n",
      "Train Epoch: 37 [0/1000 (0%)]\tLoss: -1.185596\n",
      "====> Epoch: 37 Average loss: -1.0618\n",
      "Train Epoch: 38 [0/1000 (0%)]\tLoss: -1.138786\n",
      "====> Epoch: 38 Average loss: -1.0417\n",
      "Train Epoch: 39 [0/1000 (0%)]\tLoss: -1.143775\n",
      "====> Epoch: 39 Average loss: -1.0267\n",
      "Train Epoch: 40 [0/1000 (0%)]\tLoss: -1.107385\n",
      "====> Epoch: 40 Average loss: -1.0149\n",
      "Train Epoch: 41 [0/1000 (0%)]\tLoss: -1.127267\n",
      "====> Epoch: 41 Average loss: -1.0023\n",
      "Train Epoch: 42 [0/1000 (0%)]\tLoss: -1.070814\n",
      "====> Epoch: 42 Average loss: -0.9974\n",
      "Train Epoch: 43 [0/1000 (0%)]\tLoss: -1.120809\n",
      "====> Epoch: 43 Average loss: -0.9892\n",
      "Train Epoch: 44 [0/1000 (0%)]\tLoss: -1.091820\n",
      "====> Epoch: 44 Average loss: -0.9729\n",
      "Train Epoch: 45 [0/1000 (0%)]\tLoss: -1.101305\n",
      "====> Epoch: 45 Average loss: -0.9718\n",
      "Train Epoch: 46 [0/1000 (0%)]\tLoss: -1.029798\n",
      "====> Epoch: 46 Average loss: -0.9601\n",
      "Train Epoch: 47 [0/1000 (0%)]\tLoss: -1.064203\n",
      "====> Epoch: 47 Average loss: -0.9528\n",
      "Train Epoch: 48 [0/1000 (0%)]\tLoss: -1.037941\n",
      "====> Epoch: 48 Average loss: -0.9467\n",
      "Train Epoch: 49 [0/1000 (0%)]\tLoss: -1.033742\n",
      "====> Epoch: 49 Average loss: -0.9404\n",
      "Train Epoch: 50 [0/1000 (0%)]\tLoss: -1.004467\n",
      "====> Epoch: 50 Average loss: -0.9363\n",
      "Train Epoch: 51 [0/1000 (0%)]\tLoss: -1.047852\n",
      "====> Epoch: 51 Average loss: -0.9341\n",
      "Train Epoch: 52 [0/1000 (0%)]\tLoss: -1.012930\n",
      "====> Epoch: 52 Average loss: -0.9208\n",
      "Train Epoch: 53 [0/1000 (0%)]\tLoss: -0.998600\n",
      "====> Epoch: 53 Average loss: -0.9162\n",
      "Train Epoch: 54 [0/1000 (0%)]\tLoss: -1.016759\n",
      "====> Epoch: 54 Average loss: -0.9099\n",
      "Train Epoch: 55 [0/1000 (0%)]\tLoss: -1.017469\n",
      "====> Epoch: 55 Average loss: -0.9023\n",
      "Train Epoch: 56 [0/1000 (0%)]\tLoss: -0.995498\n",
      "====> Epoch: 56 Average loss: -0.8955\n",
      "Train Epoch: 57 [0/1000 (0%)]\tLoss: -0.974756\n",
      "====> Epoch: 57 Average loss: -0.8959\n",
      "Train Epoch: 58 [0/1000 (0%)]\tLoss: -1.023235\n",
      "====> Epoch: 58 Average loss: -0.8913\n",
      "Train Epoch: 59 [0/1000 (0%)]\tLoss: -1.001405\n",
      "====> Epoch: 59 Average loss: -0.8856\n",
      "Train Epoch: 60 [0/1000 (0%)]\tLoss: -1.024671\n",
      "====> Epoch: 60 Average loss: -0.8791\n",
      "Train Epoch: 61 [0/1000 (0%)]\tLoss: -0.977709\n",
      "====> Epoch: 61 Average loss: -0.8704\n",
      "Train Epoch: 62 [0/1000 (0%)]\tLoss: -0.986570\n",
      "====> Epoch: 62 Average loss: -0.8653\n",
      "Train Epoch: 63 [0/1000 (0%)]\tLoss: -0.957040\n",
      "====> Epoch: 63 Average loss: -0.8600\n",
      "Train Epoch: 64 [0/1000 (0%)]\tLoss: -0.957789\n",
      "====> Epoch: 64 Average loss: -0.8478\n",
      "Train Epoch: 65 [0/1000 (0%)]\tLoss: -0.976160\n",
      "====> Epoch: 65 Average loss: -0.8440\n",
      "Train Epoch: 66 [0/1000 (0%)]\tLoss: -0.883315\n",
      "====> Epoch: 66 Average loss: -0.8411\n",
      "Train Epoch: 67 [0/1000 (0%)]\tLoss: -0.927403\n",
      "====> Epoch: 67 Average loss: -0.8365\n",
      "Train Epoch: 68 [0/1000 (0%)]\tLoss: -0.918471\n",
      "====> Epoch: 68 Average loss: -0.8352\n",
      "Train Epoch: 69 [0/1000 (0%)]\tLoss: -0.927329\n",
      "====> Epoch: 69 Average loss: -0.8247\n",
      "Train Epoch: 70 [0/1000 (0%)]\tLoss: -0.916076\n",
      "====> Epoch: 70 Average loss: -0.8212\n",
      "Train Epoch: 71 [0/1000 (0%)]\tLoss: -0.948219\n",
      "====> Epoch: 71 Average loss: -0.8147\n",
      "Train Epoch: 72 [0/1000 (0%)]\tLoss: -0.922666\n",
      "====> Epoch: 72 Average loss: -0.8147\n",
      "Train Epoch: 73 [0/1000 (0%)]\tLoss: -0.944603\n",
      "====> Epoch: 73 Average loss: -0.8106\n",
      "Train Epoch: 74 [0/1000 (0%)]\tLoss: -0.908178\n",
      "====> Epoch: 74 Average loss: -0.8102\n",
      "Train Epoch: 75 [0/1000 (0%)]\tLoss: -0.926025\n",
      "====> Epoch: 75 Average loss: -0.8117\n",
      "Train Epoch: 76 [0/1000 (0%)]\tLoss: -0.902173\n",
      "====> Epoch: 76 Average loss: -0.8063\n",
      "Train Epoch: 77 [0/1000 (0%)]\tLoss: -0.925450\n",
      "====> Epoch: 77 Average loss: -0.7980\n",
      "Train Epoch: 78 [0/1000 (0%)]\tLoss: -0.866323\n",
      "====> Epoch: 78 Average loss: -0.7987\n",
      "Train Epoch: 79 [0/1000 (0%)]\tLoss: -0.880673\n",
      "====> Epoch: 79 Average loss: -0.7895\n",
      "Train Epoch: 80 [0/1000 (0%)]\tLoss: -0.900877\n",
      "====> Epoch: 80 Average loss: -0.7887\n",
      "Train Epoch: 81 [0/1000 (0%)]\tLoss: -0.872844\n",
      "====> Epoch: 81 Average loss: -0.7849\n",
      "Train Epoch: 82 [0/1000 (0%)]\tLoss: -0.874507\n",
      "====> Epoch: 82 Average loss: -0.7759\n",
      "Train Epoch: 83 [0/1000 (0%)]\tLoss: -0.850312\n",
      "====> Epoch: 83 Average loss: -0.7808\n",
      "Train Epoch: 84 [0/1000 (0%)]\tLoss: -0.850933\n",
      "====> Epoch: 84 Average loss: -0.7701\n",
      "Train Epoch: 85 [0/1000 (0%)]\tLoss: -0.864653\n",
      "====> Epoch: 85 Average loss: -0.7753\n",
      "Train Epoch: 86 [0/1000 (0%)]\tLoss: -0.839345\n",
      "====> Epoch: 86 Average loss: -0.7624\n",
      "Train Epoch: 87 [0/1000 (0%)]\tLoss: -0.871593\n",
      "====> Epoch: 87 Average loss: -0.7658\n",
      "Train Epoch: 88 [0/1000 (0%)]\tLoss: -0.839566\n",
      "====> Epoch: 88 Average loss: -0.7635\n",
      "Train Epoch: 89 [0/1000 (0%)]\tLoss: -0.865470\n",
      "====> Epoch: 89 Average loss: -0.7572\n",
      "Train Epoch: 90 [0/1000 (0%)]\tLoss: -0.840070\n",
      "====> Epoch: 90 Average loss: -0.7563\n",
      "Train Epoch: 91 [0/1000 (0%)]\tLoss: -0.837768\n",
      "====> Epoch: 91 Average loss: -0.7535\n",
      "Train Epoch: 92 [0/1000 (0%)]\tLoss: -0.837290\n",
      "====> Epoch: 92 Average loss: -0.7539\n",
      "Train Epoch: 93 [0/1000 (0%)]\tLoss: -0.843179\n",
      "====> Epoch: 93 Average loss: -0.7525\n",
      "Train Epoch: 94 [0/1000 (0%)]\tLoss: -0.840500\n",
      "====> Epoch: 94 Average loss: -0.7490\n",
      "Train Epoch: 95 [0/1000 (0%)]\tLoss: -0.819681\n",
      "====> Epoch: 95 Average loss: -0.7422\n",
      "Train Epoch: 96 [0/1000 (0%)]\tLoss: -0.846375\n",
      "====> Epoch: 96 Average loss: -0.7430\n",
      "Train Epoch: 97 [0/1000 (0%)]\tLoss: -0.862096\n",
      "====> Epoch: 97 Average loss: -0.7422\n",
      "Train Epoch: 98 [0/1000 (0%)]\tLoss: -0.820640\n",
      "====> Epoch: 98 Average loss: -0.7368\n",
      "Train Epoch: 99 [0/1000 (0%)]\tLoss: -0.832609\n",
      "====> Epoch: 99 Average loss: -0.7323\n",
      "Train Epoch: 100 [0/1000 (0%)]\tLoss: -0.823267\n",
      "====> Epoch: 100 Average loss: -0.7283\n",
      "Train Epoch: 101 [0/1000 (0%)]\tLoss: -0.832492\n",
      "====> Epoch: 101 Average loss: -0.7262\n",
      "Train Epoch: 102 [0/1000 (0%)]\tLoss: -0.832878\n",
      "====> Epoch: 102 Average loss: -0.7250\n",
      "Train Epoch: 103 [0/1000 (0%)]\tLoss: -0.828424\n",
      "====> Epoch: 103 Average loss: -0.7259\n",
      "Train Epoch: 104 [0/1000 (0%)]\tLoss: -0.802049\n",
      "====> Epoch: 104 Average loss: -0.7183\n",
      "Train Epoch: 105 [0/1000 (0%)]\tLoss: -0.813272\n",
      "====> Epoch: 105 Average loss: -0.7228\n",
      "Train Epoch: 106 [0/1000 (0%)]\tLoss: -0.830279\n",
      "====> Epoch: 106 Average loss: -0.7247\n",
      "Train Epoch: 107 [0/1000 (0%)]\tLoss: -0.803252\n",
      "====> Epoch: 107 Average loss: -0.7220\n",
      "Train Epoch: 108 [0/1000 (0%)]\tLoss: -0.779948\n",
      "====> Epoch: 108 Average loss: -0.7174\n",
      "Train Epoch: 109 [0/1000 (0%)]\tLoss: -0.825763\n",
      "====> Epoch: 109 Average loss: -0.7114\n",
      "Train Epoch: 110 [0/1000 (0%)]\tLoss: -0.770607\n",
      "====> Epoch: 110 Average loss: -0.7098\n",
      "Train Epoch: 111 [0/1000 (0%)]\tLoss: -0.787852\n",
      "====> Epoch: 111 Average loss: -0.7091\n",
      "Train Epoch: 112 [0/1000 (0%)]\tLoss: -0.786213\n",
      "====> Epoch: 112 Average loss: -0.7091\n",
      "Train Epoch: 113 [0/1000 (0%)]\tLoss: -0.786955\n",
      "====> Epoch: 113 Average loss: -0.7025\n",
      "Train Epoch: 114 [0/1000 (0%)]\tLoss: -0.758705\n",
      "====> Epoch: 114 Average loss: -0.7036\n",
      "Train Epoch: 115 [0/1000 (0%)]\tLoss: -0.752920\n",
      "====> Epoch: 115 Average loss: -0.7022\n",
      "Train Epoch: 116 [0/1000 (0%)]\tLoss: -0.767262\n",
      "====> Epoch: 116 Average loss: -0.6997\n",
      "Train Epoch: 117 [0/1000 (0%)]\tLoss: -0.759338\n",
      "====> Epoch: 117 Average loss: -0.6997\n",
      "Train Epoch: 118 [0/1000 (0%)]\tLoss: -0.784398\n",
      "====> Epoch: 118 Average loss: -0.6959\n",
      "Train Epoch: 119 [0/1000 (0%)]\tLoss: -0.786646\n",
      "====> Epoch: 119 Average loss: -0.6942\n",
      "Train Epoch: 120 [0/1000 (0%)]\tLoss: -0.790032\n",
      "====> Epoch: 120 Average loss: -0.6967\n",
      "Train Epoch: 121 [0/1000 (0%)]\tLoss: -0.814413\n",
      "====> Epoch: 121 Average loss: -0.6918\n",
      "Train Epoch: 122 [0/1000 (0%)]\tLoss: -0.787428\n",
      "====> Epoch: 122 Average loss: -0.6912\n",
      "Train Epoch: 123 [0/1000 (0%)]\tLoss: -0.776164\n",
      "====> Epoch: 123 Average loss: -0.6873\n",
      "Train Epoch: 124 [0/1000 (0%)]\tLoss: -0.771399\n",
      "====> Epoch: 124 Average loss: -0.6901\n",
      "Train Epoch: 125 [0/1000 (0%)]\tLoss: -0.737722\n",
      "====> Epoch: 125 Average loss: -0.6877\n",
      "Train Epoch: 126 [0/1000 (0%)]\tLoss: -0.756340\n",
      "====> Epoch: 126 Average loss: -0.6834\n",
      "Train Epoch: 127 [0/1000 (0%)]\tLoss: -0.770835\n",
      "====> Epoch: 127 Average loss: -0.6847\n",
      "Train Epoch: 128 [0/1000 (0%)]\tLoss: -0.764150\n",
      "====> Epoch: 128 Average loss: -0.6796\n",
      "Train Epoch: 129 [0/1000 (0%)]\tLoss: -0.728921\n",
      "====> Epoch: 129 Average loss: -0.6804\n",
      "Train Epoch: 130 [0/1000 (0%)]\tLoss: -0.771659\n",
      "====> Epoch: 130 Average loss: -0.6750\n",
      "Train Epoch: 131 [0/1000 (0%)]\tLoss: -0.754292\n",
      "====> Epoch: 131 Average loss: -0.6792\n",
      "Train Epoch: 132 [0/1000 (0%)]\tLoss: -0.757111\n",
      "====> Epoch: 132 Average loss: -0.6767\n",
      "Train Epoch: 133 [0/1000 (0%)]\tLoss: -0.738829\n",
      "====> Epoch: 133 Average loss: -0.6705\n",
      "Train Epoch: 134 [0/1000 (0%)]\tLoss: -0.760966\n",
      "====> Epoch: 134 Average loss: -0.6727\n",
      "Train Epoch: 135 [0/1000 (0%)]\tLoss: -0.739352\n",
      "====> Epoch: 135 Average loss: -0.6708\n",
      "Train Epoch: 136 [0/1000 (0%)]\tLoss: -0.740441\n",
      "====> Epoch: 136 Average loss: -0.6705\n",
      "Train Epoch: 137 [0/1000 (0%)]\tLoss: -0.758053\n",
      "====> Epoch: 137 Average loss: -0.6687\n",
      "Train Epoch: 138 [0/1000 (0%)]\tLoss: -0.765720\n",
      "====> Epoch: 138 Average loss: -0.6702\n",
      "Train Epoch: 139 [0/1000 (0%)]\tLoss: -0.707697\n",
      "====> Epoch: 139 Average loss: -0.6697\n",
      "Train Epoch: 140 [0/1000 (0%)]\tLoss: -0.729933\n",
      "====> Epoch: 140 Average loss: -0.6653\n",
      "Train Epoch: 141 [0/1000 (0%)]\tLoss: -0.739393\n",
      "====> Epoch: 141 Average loss: -0.6657\n",
      "Train Epoch: 142 [0/1000 (0%)]\tLoss: -0.761983\n",
      "====> Epoch: 142 Average loss: -0.6598\n",
      "Train Epoch: 143 [0/1000 (0%)]\tLoss: -0.718620\n",
      "====> Epoch: 143 Average loss: -0.6604\n",
      "Train Epoch: 144 [0/1000 (0%)]\tLoss: -0.740492\n",
      "====> Epoch: 144 Average loss: -0.6607\n",
      "Train Epoch: 145 [0/1000 (0%)]\tLoss: -0.731844\n",
      "====> Epoch: 145 Average loss: -0.6585\n",
      "Train Epoch: 146 [0/1000 (0%)]\tLoss: -0.709896\n",
      "====> Epoch: 146 Average loss: -0.6615\n",
      "Train Epoch: 147 [0/1000 (0%)]\tLoss: -0.762125\n",
      "====> Epoch: 147 Average loss: -0.6560\n",
      "Train Epoch: 148 [0/1000 (0%)]\tLoss: -0.739582\n",
      "====> Epoch: 148 Average loss: -0.6570\n",
      "Train Epoch: 149 [0/1000 (0%)]\tLoss: -0.764183\n",
      "====> Epoch: 149 Average loss: -0.6530\n"
     ]
    }
   ],
   "source": [
    "# now train the model\n",
    "for epoch in range(0, n_epochs):\n",
    "  train_vae(vae_model,mnist_train_loader,epoch)"
   ]
  },
  {
   "cell_type": "markdown",
   "metadata": {
    "id": "uTfRje_AkKDr"
   },
   "source": [
    "Now, generate some images with the VAE model"
   ]
  },
  {
   "cell_type": "code",
   "execution_count": 109,
   "metadata": {},
   "outputs": [
    {
     "name": "stderr",
     "output_type": "stream",
     "text": [
      "/tmp/ipykernel_234462/3141267753.py:10: UserWarning: To copy construct from a tensor, it is recommended to use sourceTensor.clone().detach() or sourceTensor.clone().detach().requires_grad_(True), rather than torch.tensor(sourceTensor).\n",
      "  selected_imgs_tensor = torch.tensor(selected_imgs, dtype=torch.float32)\n"
     ]
    },
    {
     "name": "stdout",
     "output_type": "stream",
     "text": [
      "(5, 1, 28, 28)\n"
     ]
    },
    {
     "data": {
      "image/png": "[encoded data removed]",
      "text/plain": [
       "<Figure size 1000x1000 with 20 Axes>"
      ]
     },
     "metadata": {},
     "output_type": "display_data"
    }
   ],
   "source": [
    "import numpy as np\n",
    "import matplotlib.pyplot as plt\n",
    "import torch\n",
    "\n",
    "def display_vae_images(ae_model, vae_model,test_imgs):\n",
    "    n_images = 5\n",
    "    idx = np.random.randint(0, test_imgs.shape[0], n_images)\n",
    "    selected_imgs = test_imgs[idx,:,:,:]\n",
    "\n",
    "    selected_imgs_tensor = torch.tensor(selected_imgs, dtype=torch.float32)\n",
    "    output_imgs_vae, _, _ = vae_model(selected_imgs_tensor, forced_log_var=None)\n",
    "    output_imgs_vae = output_imgs_vae.detach().cpu().numpy()\n",
    "\n",
    "    output_imgs_vae_not_noisy, _, _ = vae_model(selected_imgs_tensor, forced_log_var=-torch.inf)\n",
    "    output_imgs_vae_not_noisy = output_imgs_vae_not_noisy.detach().cpu().numpy()\n",
    "\n",
    "    output_imgs_ae = ae_model(selected_imgs_tensor)\n",
    "    output_imgs_ae = output_imgs_ae.detach().cpu().numpy()\n",
    "   \n",
    "    print(output_imgs_vae.shape)\n",
    "\n",
    "    r = 4  # 3 rows: one for original and one for reconstructed images with VAE and AE\n",
    "    c = n_images  # Number of columns equals the number of images to display\n",
    "    fig, axs = plt.subplots(r, c, figsize=(10, 10))\n",
    "    for j in range(c):\n",
    "        # Display original images\n",
    "        axs[0, j].imshow(selected_imgs[j, 0, :, :], cmap='gray')\n",
    "        axs[0, j].axis('off')\n",
    "        # Display reconstructed (output VAE) images\n",
    "        axs[1, j].imshow(output_imgs_vae[j, 0, :, :], cmap='gray')\n",
    "        axs[1, j].axis('off')\n",
    "        # Display reconstructed (output VAE) images\n",
    "        axs[2, j].imshow(output_imgs_vae_not_noisy[j, 0, :, :], cmap='gray')\n",
    "        axs[2, j].axis('off')\n",
    "        # Display reconstructed (output AE) images\n",
    "        axs[3, j].imshow(output_imgs_ae[j, 0, :, :], cmap='gray')\n",
    "        axs[3, j].axis('off')\n",
    "    plt.suptitle(\"Original \\n VAE Reconstruction\\n VAE Reconstruction - No noise \\n AE Reconstruction\")\n",
    "    plt.show()\n",
    "\n",
    "# Example usage with mnist_train_loader (assuming ae_model is your VAE model)\n",
    "test_imgs = next(iter(mnist_train_loader))[0]\n",
    "display_vae_images(ae_model, vae_model, test_imgs)\n"
   ]
  },
  {
   "cell_type": "code",
   "execution_count": 118,
   "metadata": {},
   "outputs": [
    {
     "name": "stdout",
     "output_type": "stream",
     "text": [
      "torch.Size([20, 1, 28, 28])\n"
     ]
    },
    {
     "data": {
      "image/png": "[encoded data removed]",
      "text/plain": [
       "<Figure size 640x480 with 5 Axes>"
      ]
     },
     "metadata": {},
     "output_type": "display_data"
    },
    {
     "data": {
      "image/png": "[encoded data removed]",
      "text/plain": [
       "<Figure size 640x480 with 5 Axes>"
      ]
     },
     "metadata": {},
     "output_type": "display_data"
    },
    {
     "data": {
      "image/png": "[encoded data removed]",
      "text/plain": [
       "<Figure size 640x480 with 5 Axes>"
      ]
     },
     "metadata": {},
     "output_type": "display_data"
    },
    {
     "data": {
      "image/png": "[encoded data removed]",
      "text/plain": [
       "<Figure size 640x480 with 5 Axes>"
      ]
     },
     "metadata": {},
     "output_type": "display_data"
    }
   ],
   "source": [
    "def generate_images_vae(vae_model, n_images=5):\n",
    "    epsilon = torch.randn(n_images, vae_model.z_dim)\n",
    "    imgs_generated = vae_model.decoder(epsilon)\n",
    "    imgs_generated = imgs_generated.view(n_images, vae_model.n_channels, vae_model.n_rows, vae_model.n_cols)\n",
    "    return imgs_generated\n",
    "imgs_generated = generate_images_vae(vae_model,n_images=20)\n",
    "display_images(imgs_generated[:5])\n",
    "display_images(imgs_generated[5:10])\n",
    "display_images(imgs_generated[10:15])\n",
    "display_images(imgs_generated[15:20])"
   ]
  },
  {
   "cell_type": "markdown",
   "metadata": {
    "id": "lGnvKoynzaFN"
   },
   "source": [
    "Do you think the results are better ? What difference can you see ? What advantage does the Variational Autoencoder have over the simple autoencoder model, even though the second autoencoder approach has a more complex probabilistic latent model (a full covariance matrix) ?"
   ]
  },
  {
   "cell_type": "markdown",
   "metadata": {},
   "source": [
    "**Answer**\n",
    "\n",
    "|  AE decoder - latent sampled using estimated per component variance | AE decoder - latent sampled using estimated covariance matrix | VAE |\n",
    "|:--:| :---:|:---:|\n",
    "|![](figures/ae_latent_diagonal_generation_twenty.png)|![](figures/ae_latent_cov_generation_twenty.png) | ![](figures/vae_generation.png) |\n",
    "\n",
    "- Sampled VAE results are someties blurry but we do not get totally unstructured garbage like we got using the original Auto-encoder.\n",
    "- We sometimes get blended digits  (like a blend of a 3 and a 8) - there is no technique used here to enforce partitions of the latent space to match digits categories.\n",
    "- The VAE has theoretical groundings which led to a very specific kind of training method."
   ]
  },
  {
   "cell_type": "markdown",
   "metadata": {},
   "source": [
    "### Statistics of $q_\\phi$\n",
    "\n",
    "Remember, our goal was to create an autoencoder such that the distributions $q_{\\phi}(z|x)$ of each input data point in the latent space is a normal distribution, ie such that $\\mu=0$ and $\\sigma=1$ for all inputs. Let us see if this goal was attained.\n",
    "\n",
    "For this, take a batch of test images, and calculate the vectors $\\mu=0$ and $\\sigma=1$ of these images (recall that they should be 0 and 1). Now,use a 2D scatter plot on any two of the latent coordinates to visualise the values of $\\mu$ and $\\sigma$ (you can try several different combinations of the latent coordinates.\n",
    "\n",
    "You will need to use ```detach().numpy()``` to plot these values."
   ]
  },
  {
   "cell_type": "code",
   "execution_count": null,
   "metadata": {},
   "outputs": [],
   "source": [
    "# FILL IN STUDENT"
   ]
  },
  {
   "cell_type": "markdown",
   "metadata": {},
   "source": [
    "Do we indeed see most values around $\\mu=0$, $\\sigma=1$ ? Is this in fact possible ? Why ? What compromise are we trying to achieve ?"
   ]
  },
  {
   "cell_type": "markdown",
   "metadata": {
    "id": "uuYn3_PBzjkI"
   },
   "source": [
    "__Your answer:__"
   ]
  },
  {
   "cell_type": "markdown",
   "metadata": {
    "id": "uXm-D9Ef9vYm"
   },
   "source": [
    "Let us now compare the three models (AE diagonal covariance, AE full covariance and VAE) quantitavely."
   ]
  },
  {
   "cell_type": "markdown",
   "metadata": {
    "id": "04MddkzuE324"
   },
   "source": [
    "# 3 Evaluating and comparing the models\n",
    "\n",
    "We will evaluate the models, in the following manner:\n",
    "\n",
    "- we train a simple convolutional neural network classifier on mnist, to a good accuracy\n",
    "- we generate images with each model\n",
    "- we find the average of the highest probability of the images according to the classifier, for each model. If this value is high, it means that on average the classifier considers that the images look like a \n",
    "\n",
    "We will use the following convoluional architecture for the classifier:\n",
    "\n",
    "- conv2d, filter size  3×3 , 32 filters, stride=(2,2), padding=\"SAME\"\n",
    "- ReLU\n",
    "- conv2d, filter size  3×3 , 32 filters, stride=(2,2), padding=\"SAME\"\n",
    "- ReLU\n",
    "- MaxPool2D, stride=(2,2)\n",
    "- Flatten\n",
    "- Dense layer\n",
    "\n",
    "Now, define the model. To make things easier, use the ```torch.nn.Sequential``` API (there is no need for a Class in this simple case)."
   ]
  },
  {
   "cell_type": "code",
   "execution_count": 222,
   "metadata": {},
   "outputs": [
    {
     "name": "stdout",
     "output_type": "stream",
     "text": [
      "Thumbnail size which goes into the dense classification head torch.Size([32, 3, 3])\n"
     ]
    },
    {
     "data": {
      "text/plain": [
       "torch.Size([64, 32, 7, 7])"
      ]
     },
     "execution_count": 222,
     "metadata": {},
     "output_type": "execute_result"
    }
   ],
   "source": [
    "class DigitClassifier(torch.nn.Module):\n",
    "    def __init__(\n",
    "        self,\n",
    "        n_h_0: int = 1,  # greyscale input images\n",
    "        n_h_1: int = 32,\n",
    "        n_h_2: int = 32,\n",
    "        kernel_size: Tuple[int, int] = (3, 3),\n",
    "        pool_size: Tuple[int, int] = (2, 2),\n",
    "        image_sizes: Tuple[int, int] = (28, 28),\n",
    "        n_digits: int = 10\n",
    "    ):\n",
    "        super().__init__()\n",
    "        self.non_linearity = torch.nn.ReLU()\n",
    "        # Using padding=`valid` instead of same as there's an asserted ambiguity in torch.\n",
    "        # Let's be pragmatic here, borders are black in these digit images basically so padding with zeros won't be a big deal\n",
    "        self.conv1 = torch.nn.Conv2d(n_h_0, n_h_1, kernel_size=kernel_size, stride=2, padding=kernel_size[0]//2)\n",
    "        self.conv2 = torch.nn.Conv2d(n_h_1, n_h_2, kernel_size=kernel_size, stride=2, padding=kernel_size[0]//2)\n",
    "        self.maxpool = torch.nn.MaxPool2d(kernel_size=pool_size, stride=2)\n",
    "        self.stack_of_conv = torch.nn.Sequential(\n",
    "            self.conv1, self.non_linearity, self.conv2, self.non_linearity, self.maxpool\n",
    "        )\n",
    "        # Forward pass to compute the size of the flattened output.\n",
    "        # https://pytorch.org/docs/stable/generated/torch.nn.LazyLinear.html\n",
    "        out = self.stack_of_conv(torch.rand(1, n_h_0, image_sizes[0], image_sizes[1]))\n",
    "        print(f\"Thumbnail size which goes into the dense classification head {out[0, ...].shape}\")\n",
    "        flattened_size = out.view(-1).shape[0]\n",
    "        self.fc1 = torch.nn.Linear(flattened_size, n_digits)\n",
    "\n",
    "    def forward(self, x: torch.Tensor) -> torch.Tensor:\n",
    "        batch_size = x.shape[0]\n",
    "        x = self.stack_of_conv(x)\n",
    "        x = x.view(batch_size, -1)\n",
    "        logits = self.fc1(x)\n",
    "        return logits\n",
    "\n",
    "\n",
    "digit_classifier = DigitClassifier()\n",
    "img_in = torch.rand(64, 1, 28, 28)\n",
    "digit_classifier(img_in).shape\n",
    "digit_classifier.conv2(digit_classifier.conv1(img_in)).shape"
   ]
  },
  {
   "cell_type": "code",
   "execution_count": 240,
   "metadata": {
    "id": "P87a-DkXFOCv"
   },
   "outputs": [
    {
     "name": "stdout",
     "output_type": "stream",
     "text": [
      "Thumbnail size which goes into the dense classification head torch.Size([32, 3, 3])\n"
     ]
    }
   ],
   "source": [
    "learning_rate = 0.01\n",
    "n_epochs = 20\n",
    "batch_size = 64\n",
    "nb_classes = int(mnist_trainset.targets.max()+1)\n",
    "\n",
    "# number of convolutional filters to use\n",
    "nb_filters = 32\n",
    "# convolution kernel size\n",
    "kernel_size = (3, 3)\n",
    "# size of pooling area for max pooling\n",
    "pool_size = (2, 2)\n",
    "\n",
    "# --- Size of the successive layers\n",
    "n_h_0 = 1 #greyscale input images\n",
    "n_h_1 = nb_filters\n",
    "n_h_2 = nb_filters\n",
    "\n",
    "mnist_classification_model = DigitClassifier(n_h_0, n_h_1, n_h_2, kernel_size, pool_size, n_digits=nb_classes) # FILL IN CODE HERE\n",
    "\n",
    "criterion = torch.nn.CrossEntropyLoss() # FILL IN CODE HERE\n",
    "optimizer = torch.optim.Adam(mnist_classification_model.parameters(), lr=learning_rate) #, weight_decay=0.02)"
   ]
  },
  {
   "cell_type": "markdown",
   "metadata": {
    "id": "_sUZONxw2bnt"
   },
   "source": [
    "Create a function to calculate accuracy, instead of loss"
   ]
  },
  {
   "cell_type": "code",
   "execution_count": 241,
   "metadata": {
    "id": "aOww0ydr2fT0"
   },
   "outputs": [],
   "source": [
    "def get_accuracy(x_pred,x_label):\n",
    "  acc = torch.sum(x_pred == x_label)/(x_pred.shape[0])\n",
    "  return acc"
   ]
  },
  {
   "cell_type": "markdown",
   "metadata": {
    "id": "qw0vkZIqFcse"
   },
   "source": [
    "Now, train the model. You should be able to achieve an accuracy close to 1.00 within 20 epochs"
   ]
  },
  {
   "cell_type": "code",
   "execution_count": 242,
   "metadata": {
    "id": "0FA8YoX2FcHP"
   },
   "outputs": [
    {
     "name": "stdout",
     "output_type": "stream",
     "text": [
      "Epoch:0 Train Loss:0.0176 Accuracy: Train 14.2857% | Val 20.5078%\n",
      "Epoch:1 Train Loss:0.0122 Accuracy: Train 35.3795% | Val 52.7344%\n",
      "Epoch:2 Train Loss:0.0065 Accuracy: Train 64.9554% | Val 75.9766%\n",
      "Epoch:3 Train Loss:0.0036 Accuracy: Train 81.1384% | Val 87.3047%\n",
      "Epoch:4 Train Loss:0.0023 Accuracy: Train 87.9464% | Val 89.2578%\n",
      "Epoch:5 Train Loss:0.0021 Accuracy: Train 90.5134% | Val 90.0391%\n",
      "Epoch:6 Train Loss:0.0025 Accuracy: Train 93.4152% | Val 91.7969%\n",
      "Epoch:7 Train Loss:0.0018 Accuracy: Train 94.1964% | Val 91.0156%\n",
      "Epoch:8 Train Loss:0.0013 Accuracy: Train 95.9821% | Val 91.7969%\n",
      "Epoch:9 Train Loss:0.0011 Accuracy: Train 95.9821% | Val 92.5781%\n",
      "Epoch:10 Train Loss:0.0005 Accuracy: Train 97.0982% | Val 92.1875%\n",
      "Epoch:11 Train Loss:0.0007 Accuracy: Train 97.3214% | Val 92.5781%\n",
      "Epoch:12 Train Loss:0.0006 Accuracy: Train 97.9911% | Val 92.1875%\n",
      "Epoch:13 Train Loss:0.0007 Accuracy: Train 98.6607% | Val 93.7500%\n",
      "Epoch:14 Train Loss:0.0001 Accuracy: Train 98.3259% | Val 92.9688%\n",
      "Epoch:15 Train Loss:0.0005 Accuracy: Train 98.7723% | Val 92.9688%\n",
      "Epoch:16 Train Loss:0.0002 Accuracy: Train 99.6652% | Val 93.5547%\n",
      "Epoch:17 Train Loss:0.0003 Accuracy: Train 99.7768% | Val 92.5781%\n",
      "Epoch:18 Train Loss:0.0001 Accuracy: Train 99.7768% | Val 93.1641%\n",
      "Epoch:19 Train Loss:0.0001 Accuracy: Train 99.7768% | Val 92.7734%\n"
     ]
    },
    {
     "data": {
      "image/png": "[encoded data removed]",
      "text/plain": [
       "<Figure size 1000x600 with 1 Axes>"
      ]
     },
     "metadata": {},
     "output_type": "display_data"
    }
   ],
   "source": [
    "train_losses = []\n",
    "valid_losses = []\n",
    "train_accuracies = []\n",
    "valid_accuracies = []\n",
    "\n",
    "for epoch in range(0, n_epochs):\n",
    "    train_loss = 0.0\n",
    "    train_acc = 0.\n",
    "    mnist_classification_model.train()\n",
    "    for batch_idx, (imgs, labels) in enumerate(mnist_train_loader):\n",
    "        # set the gradients back to 0\n",
    "        optimizer.zero_grad()\n",
    "        predict = mnist_classification_model(imgs)\n",
    "        # apply loss function\n",
    "        loss = criterion(predict, labels)\n",
    "        train_acc += get_accuracy(torch.argmax(predict, dim=1), labels)\n",
    "        # backpropagation\n",
    "        loss.backward()\n",
    "        optimizer.step()\n",
    "        train_loss = loss.item()\n",
    "    train_acc /= len(mnist_train_loader)\n",
    "    train_accuracies.append(train_acc)\n",
    "    \n",
    "    val_acc = 0.\n",
    "    with torch.no_grad():\n",
    "        for batch_idx, (imgs, labels) in enumerate(mnist_test_loader):\n",
    "            predict = mnist_classification_model(imgs)\n",
    "            val_acc += get_accuracy(torch.argmax(predict, dim=1), labels)\n",
    "    val_acc /= len(mnist_test_loader)\n",
    "    valid_accuracies.append(val_acc)\n",
    "    print('Epoch:{} Train Loss:{:.4f} Accuracy: Train {:.4%} | Val {:.4%}'.format(epoch, train_loss/imgs.shape[0], train_acc, val_acc))"
   ]
  },
  {
   "cell_type": "code",
   "execution_count": 244,
   "metadata": {},
   "outputs": [
    {
     "data": {
      "image/png": "[encoded data removed]",
      "text/plain": [
       "<Figure size 1000x600 with 1 Axes>"
      ]
     },
     "metadata": {},
     "output_type": "display_data"
    }
   ],
   "source": [
    "plt.figure(figsize=(10, 6))\n",
    "plt.plot(train_accuracies, label='Training Accuracies')\n",
    "plt.plot(valid_accuracies, label='Validation Accuracies')\n",
    "plt.grid()\n",
    "plt.title('Digit classifier on MNIST: Training and Validation Accuracies')\n",
    "plt.xlabel('Epochs')\n",
    "plt.ylabel('Accuracy')\n",
    "plt.legend()\n",
    "plt.show()"
   ]
  },
  {
   "cell_type": "markdown",
   "metadata": {
    "id": "zFgN5LblFwTa"
   },
   "source": [
    "### Evaluate the average maximum prediction of the images generated by each generative model (higher is better)\n",
    "\n",
    "Now, we will evaluate the models. For each ones, produce a certain number of images, and put those images through the classification network. Then find the maximum class probability of each image, and average it over all the images. We will use this as a metric to evaluate each model.\n",
    "\n",
    "__CAREFUL__: the output of the network does __not__ include the Softmax layer, so you will have to carry it out, with:\n",
    "- ```torch.nn.Softmax()(...)```\n",
    "\n",
    "Define this metric now:"
   ]
  },
  {
   "cell_type": "code",
   "execution_count": 245,
   "metadata": {
    "id": "lCJ_0qqjOXHT"
   },
   "outputs": [],
   "source": [
    "def generative_model_score(imgs_in, classification_model):\n",
    "  classification_model.eval()\n",
    "  with torch.no_grad():\n",
    "    logits = classification_model(imgs_in)\n",
    "    probabilities = torch.nn.functional.softmax(logits, dim=-1)\n",
    "    gen_score = torch.mean(torch.max(probabilities, dim=-1).values)\n",
    "    return(gen_score)"
   ]
  },
  {
   "cell_type": "markdown",
   "metadata": {
    "id": "yGq7YFg51UoP"
   },
   "source": [
    "Now, generate some images with each of the three models, and evaluate these models:"
   ]
  },
  {
   "cell_type": "code",
   "execution_count": 248,
   "metadata": {
    "id": "4-L4u2jhILFx"
   },
   "outputs": [
    {
     "name": "stdout",
     "output_type": "stream",
     "text": [
      "Diagonal gaussian generative model score : 75.8274%\n",
      "Non diagonal gaussian generative model score : 80.8801%\n",
      "Variational autoencoder model score: 85.0771%\n"
     ]
    }
   ],
   "source": [
    "n_images = 50000\n",
    "imgs_diagonal_gaussian = generate_images_diagonal_gaussian(ae_model, z_average, z_sigma, n_images=n_images)\n",
    "imgs_non_diagonal_gaussian = generate_images_non_diagonal_gaussian(ae_model, z_average, z_covariance, n_images=n_images)\n",
    "imgs_vae = generate_images_vae(vae_model, n_images=n_images)\n",
    "\n",
    "# average of maximum of first model\n",
    "diagonal_gaussian_score = float(generative_model_score(imgs_diagonal_gaussian, mnist_classification_model))\n",
    "non_diagonal_gaussian_score = float(generative_model_score(imgs_non_diagonal_gaussian, mnist_classification_model))\n",
    "vae_gaussian_score = float(generative_model_score(imgs_vae, mnist_classification_model))\n",
    "\n",
    "print(f\"Diagonal gaussian generative model score : {diagonal_gaussian_score:.4%}\")\n",
    "print(f\"Non diagonal gaussian generative model score : {non_diagonal_gaussian_score:.4%}\")\n",
    "print(f\"Variational autoencoder model score: {vae_gaussian_score:.4%}\")"
   ]
  },
  {
   "cell_type": "markdown",
   "metadata": {
    "id": "sxvsG8FC1gNS"
   },
   "source": [
    "Please answer the following questions:\n",
    "\n",
    "- Which model is better quantitatively ? \n",
    "- Do the quantitative result support the qualitative results ?\n",
    "- Can you see any drawbacks of this method of evaluation ?\n",
    "- Can you propose any more sophisticated models than the multivariate Gaussian approach (apart from the variational autoencoder) ? "
   ]
  },
  {
   "cell_type": "markdown",
   "metadata": {
    "id": "3SYCyfKR3G7Y"
   },
   "source": [
    "__Your answer__"
   ]
  },
  {
   "cell_type": "code",
   "execution_count": null,
   "metadata": {},
   "outputs": [],
   "source": []
  }
 ],
 "metadata": {
  "accelerator": "GPU",
  "colab": {
   "provenance": []
  },
  "kernelspec": {
   "display_name": "Python 3 (ipykernel)",
   "language": "python",
   "name": "python3"
  },
  "language_info": {
   "codemirror_mode": {
    "name": "ipython",
    "version": 3
   },
   "file_extension": ".py",
   "mimetype": "text/x-python",
   "name": "python",
   "nbconvert_exporter": "python",
   "pygments_lexer": "ipython3",
   "version": "3.10.12"
  }
 },
 "nbformat": 4,
 "nbformat_minor": 4
}
