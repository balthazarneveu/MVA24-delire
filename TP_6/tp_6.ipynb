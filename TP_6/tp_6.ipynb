{
 "cells": [
  {
   "cell_type": "markdown",
   "metadata": {},
   "source": [
    "# TP-6 Texture synthesis\n",
    "\n",
    "### Student information\n",
    "Student: Balthazar Neveu\n",
    "\n",
    "🔗 [Github](https://github.com/balthazarneveu/MVA24-delire) | [Online page for this class lab session](https://balthazarneveu.github.io/MVA24-delire)\n",
    "\n",
    "⭐ [Online HTML version of this notebook](https://balthazarneveu.github.io/MVA24-delire/TP_6/tp_6.html)"
   ]
  },
  {
   "cell_type": "markdown",
   "metadata": {},
   "source": [
    "# Gatys texture synthesis\n",
    "### Question 1\n",
    "\n",
    "![](figures/texture_synthesis_comparisons.png)\n",
    "\n",
    "### Question 2\n"
   ]
  },
  {
   "cell_type": "markdown",
   "metadata": {},
   "source": [
    "#### Question 3\n",
    "The `Adam` optimizer is used here instead of L-BFGS"
   ]
  },
  {
   "cell_type": "markdown",
   "metadata": {},
   "source": []
  }
 ],
 "metadata": {
  "language_info": {
   "name": "python"
  }
 },
 "nbformat": 4,
 "nbformat_minor": 2
}
